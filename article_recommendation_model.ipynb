{
 "cells": [
  {
   "cell_type": "markdown",
   "metadata": {},
   "source": [
    "# News Recommendation System Capstone Project"
   ]
  },
  {
   "cell_type": "markdown",
   "metadata": {},
   "source": [
    "iPrint being a cutting-edge company, is trying to solve this issue of revenue leakage by personalising user tastes and introducing new content to its users at the start of the day on the home page of the application. iPrint is planning to assess these recommendations by tracking whether the user clicks on those items or not. Moreover, once the user clicks on any news item A, it wants to recommend news similar to the news A, at the bottom of the page of the news item A. \n",
    "\n",
    "\n",
    "By, recommending new items to the users at the start of the day, it is trying to understand if the user has new interests or not. Now, if the user clicks on the new item A and then also on subsequent items recommended at the bottom of the news item A, then iPrint can infer that the topic/ genre of the new item is something of user interest.\n",
    "\n",
    "\n",
    "Now, we have been hired as a data scientist to help iPrint build a robust product to achieve its new objectives. We need to build a system that would recommend relevant news articles to the customers based on their search history and preferences. \n",
    "\n",
    "\n",
    "So the problem statement can be divided into two parts discussed below. Of the numerous news articles available on its app about sports, politics, technology and many others, iPrint wants us as a data scientist to identify and build an appropriate recommendation system that would:\n",
    "\n",
    "- Recommend new top 10 relevant articles to a user when he visits the app at the start of the day\n",
    "- Recommend top 10 similar news articles that match the ones clicked by the user. Try different models for generating these recommendations and experiment with hybrid models for the same\n",
    "\n",
    "We have to ensure that the system does not recommend any news article that has been pulled out from the app or has already been seen by the user. In addition, only the articles that are written in the English language must be considered for content-based recommendations. The final generated list must contain the names of the recommended articles, along with their IDs."
   ]
  },
  {
   "cell_type": "markdown",
   "metadata": {},
   "source": [
    "### Import Libraries"
   ]
  },
  {
   "cell_type": "code",
   "execution_count": 449,
   "metadata": {},
   "outputs": [],
   "source": [
    "import warnings\n",
    "warnings.filterwarnings('ignore')\n",
    "\n",
    "import numpy as np\n",
    "import pandas as pd\n",
    "import matplotlib.pyplot as plt\n",
    "import seaborn as sns\n",
    "\n"
   ]
  },
  {
   "cell_type": "code",
   "execution_count": 450,
   "metadata": {},
   "outputs": [],
   "source": [
    "pd.set_option('display.max_colwidth', 200)"
   ]
  },
  {
   "cell_type": "markdown",
   "metadata": {},
   "source": [
    "### Import Consumer Data"
   ]
  },
  {
   "cell_type": "code",
   "execution_count": 451,
   "metadata": {},
   "outputs": [
    {
     "data": {
      "text/html": [
       "<div>\n",
       "<style scoped>\n",
       "    .dataframe tbody tr th:only-of-type {\n",
       "        vertical-align: middle;\n",
       "    }\n",
       "\n",
       "    .dataframe tbody tr th {\n",
       "        vertical-align: top;\n",
       "    }\n",
       "\n",
       "    .dataframe thead th {\n",
       "        text-align: right;\n",
       "    }\n",
       "</style>\n",
       "<table border=\"1\" class=\"dataframe\">\n",
       "  <thead>\n",
       "    <tr style=\"text-align: right;\">\n",
       "      <th></th>\n",
       "      <th>event_timestamp</th>\n",
       "      <th>interaction_type</th>\n",
       "      <th>item_id</th>\n",
       "      <th>consumer_id</th>\n",
       "      <th>consumer_session_id</th>\n",
       "      <th>consumer_device_info</th>\n",
       "      <th>consumer_location</th>\n",
       "      <th>country</th>\n",
       "    </tr>\n",
       "  </thead>\n",
       "  <tbody>\n",
       "    <tr>\n",
       "      <th>0</th>\n",
       "      <td>1465413032</td>\n",
       "      <td>content_watched</td>\n",
       "      <td>-3499919498720038879</td>\n",
       "      <td>-8845298781299428018</td>\n",
       "      <td>1264196770339959068</td>\n",
       "      <td>NaN</td>\n",
       "      <td>NaN</td>\n",
       "      <td>NaN</td>\n",
       "    </tr>\n",
       "    <tr>\n",
       "      <th>1</th>\n",
       "      <td>1465412560</td>\n",
       "      <td>content_watched</td>\n",
       "      <td>8890720798209849691</td>\n",
       "      <td>-1032019229384696495</td>\n",
       "      <td>3621737643587579081</td>\n",
       "      <td>Mozilla/5.0 (Macintosh; Intel Mac OS X 10_11_2) AppleWebKit/537.36 (KHTML, like Gecko) Chrome/52.0.2743.24 Safari/537.36</td>\n",
       "      <td>NY</td>\n",
       "      <td>US</td>\n",
       "    </tr>\n",
       "    <tr>\n",
       "      <th>2</th>\n",
       "      <td>1465416190</td>\n",
       "      <td>content_watched</td>\n",
       "      <td>310515487419366995</td>\n",
       "      <td>-1130272294246983140</td>\n",
       "      <td>2631864456530402479</td>\n",
       "      <td>NaN</td>\n",
       "      <td>NaN</td>\n",
       "      <td>NaN</td>\n",
       "    </tr>\n",
       "    <tr>\n",
       "      <th>3</th>\n",
       "      <td>1465413895</td>\n",
       "      <td>content_followed</td>\n",
       "      <td>310515487419366995</td>\n",
       "      <td>344280948527967603</td>\n",
       "      <td>-3167637573980064150</td>\n",
       "      <td>NaN</td>\n",
       "      <td>NaN</td>\n",
       "      <td>NaN</td>\n",
       "    </tr>\n",
       "    <tr>\n",
       "      <th>4</th>\n",
       "      <td>1465412290</td>\n",
       "      <td>content_watched</td>\n",
       "      <td>-7820640624231356730</td>\n",
       "      <td>-445337111692715325</td>\n",
       "      <td>561148 1178424124714</td>\n",
       "      <td>NaN</td>\n",
       "      <td>NaN</td>\n",
       "      <td>NaN</td>\n",
       "    </tr>\n",
       "  </tbody>\n",
       "</table>\n",
       "</div>"
      ],
      "text/plain": [
       "   event_timestamp  interaction_type              item_id  \\\n",
       "0       1465413032   content_watched -3499919498720038879   \n",
       "1       1465412560   content_watched  8890720798209849691   \n",
       "2       1465416190   content_watched   310515487419366995   \n",
       "3       1465413895  content_followed   310515487419366995   \n",
       "4       1465412290   content_watched -7820640624231356730   \n",
       "\n",
       "           consumer_id   consumer_session_id  \\\n",
       "0 -8845298781299428018   1264196770339959068   \n",
       "1 -1032019229384696495   3621737643587579081   \n",
       "2 -1130272294246983140   2631864456530402479   \n",
       "3   344280948527967603  -3167637573980064150   \n",
       "4  -445337111692715325  561148 1178424124714   \n",
       "\n",
       "                                                                                                       consumer_device_info  \\\n",
       "0                                                                                                                       NaN   \n",
       "1  Mozilla/5.0 (Macintosh; Intel Mac OS X 10_11_2) AppleWebKit/537.36 (KHTML, like Gecko) Chrome/52.0.2743.24 Safari/537.36   \n",
       "2                                                                                                                       NaN   \n",
       "3                                                                                                                       NaN   \n",
       "4                                                                                                                       NaN   \n",
       "\n",
       "  consumer_location country  \n",
       "0               NaN     NaN  \n",
       "1                NY      US  \n",
       "2               NaN     NaN  \n",
       "3               NaN     NaN  \n",
       "4               NaN     NaN  "
      ]
     },
     "execution_count": 451,
     "metadata": {},
     "output_type": "execute_result"
    }
   ],
   "source": [
    "consumer_df=pd.read_csv(\"consumer_transanctions.csv\")\n",
    "consumer_df.head()"
   ]
  },
  {
   "cell_type": "code",
   "execution_count": 452,
   "metadata": {},
   "outputs": [
    {
     "data": {
      "text/plain": [
       "(72312, 8)"
      ]
     },
     "execution_count": 452,
     "metadata": {},
     "output_type": "execute_result"
    }
   ],
   "source": [
    "#shape of dataset\n",
    "consumer_df.shape "
   ]
  },
  {
   "cell_type": "code",
   "execution_count": 453,
   "metadata": {},
   "outputs": [
    {
     "data": {
      "text/html": [
       "<div>\n",
       "<style scoped>\n",
       "    .dataframe tbody tr th:only-of-type {\n",
       "        vertical-align: middle;\n",
       "    }\n",
       "\n",
       "    .dataframe tbody tr th {\n",
       "        vertical-align: top;\n",
       "    }\n",
       "\n",
       "    .dataframe thead th {\n",
       "        text-align: right;\n",
       "    }\n",
       "</style>\n",
       "<table border=\"1\" class=\"dataframe\">\n",
       "  <thead>\n",
       "    <tr style=\"text-align: right;\">\n",
       "      <th></th>\n",
       "      <th>event_timestamp</th>\n",
       "      <th>item_id</th>\n",
       "      <th>consumer_id</th>\n",
       "    </tr>\n",
       "  </thead>\n",
       "  <tbody>\n",
       "    <tr>\n",
       "      <th>count</th>\n",
       "      <td>7.231200e+04</td>\n",
       "      <td>7.231200e+04</td>\n",
       "      <td>7.231200e+04</td>\n",
       "    </tr>\n",
       "    <tr>\n",
       "      <th>mean</th>\n",
       "      <td>1.470103e+09</td>\n",
       "      <td>-3.033423e+16</td>\n",
       "      <td>1.252026e+16</td>\n",
       "    </tr>\n",
       "    <tr>\n",
       "      <th>std</th>\n",
       "      <td>7.258130e+06</td>\n",
       "      <td>5.344755e+18</td>\n",
       "      <td>5.022333e+18</td>\n",
       "    </tr>\n",
       "    <tr>\n",
       "      <th>min</th>\n",
       "      <td>1.457964e+09</td>\n",
       "      <td>-9.222795e+18</td>\n",
       "      <td>-9.223122e+18</td>\n",
       "    </tr>\n",
       "    <tr>\n",
       "      <th>25%</th>\n",
       "      <td>1.464876e+09</td>\n",
       "      <td>-4.726309e+18</td>\n",
       "      <td>-3.596627e+18</td>\n",
       "    </tr>\n",
       "    <tr>\n",
       "      <th>50%</th>\n",
       "      <td>1.468343e+09</td>\n",
       "      <td>1.893099e+16</td>\n",
       "      <td>-1.088422e+17</td>\n",
       "    </tr>\n",
       "    <tr>\n",
       "      <th>75%</th>\n",
       "      <td>1.474461e+09</td>\n",
       "      <td>4.441012e+18</td>\n",
       "      <td>3.766319e+18</td>\n",
       "    </tr>\n",
       "    <tr>\n",
       "      <th>max</th>\n",
       "      <td>1.488310e+09</td>\n",
       "      <td>9.222265e+18</td>\n",
       "      <td>9.210531e+18</td>\n",
       "    </tr>\n",
       "  </tbody>\n",
       "</table>\n",
       "</div>"
      ],
      "text/plain": [
       "       event_timestamp       item_id   consumer_id\n",
       "count     7.231200e+04  7.231200e+04  7.231200e+04\n",
       "mean      1.470103e+09 -3.033423e+16  1.252026e+16\n",
       "std       7.258130e+06  5.344755e+18  5.022333e+18\n",
       "min       1.457964e+09 -9.222795e+18 -9.223122e+18\n",
       "25%       1.464876e+09 -4.726309e+18 -3.596627e+18\n",
       "50%       1.468343e+09  1.893099e+16 -1.088422e+17\n",
       "75%       1.474461e+09  4.441012e+18  3.766319e+18\n",
       "max       1.488310e+09  9.222265e+18  9.210531e+18"
      ]
     },
     "execution_count": 453,
     "metadata": {},
     "output_type": "execute_result"
    }
   ],
   "source": [
    "#check the data stats\n",
    "consumer_df.describe() "
   ]
  },
  {
   "cell_type": "code",
   "execution_count": 454,
   "metadata": {},
   "outputs": [
    {
     "name": "stdout",
     "output_type": "stream",
     "text": [
      "<class 'pandas.core.frame.DataFrame'>\n",
      "RangeIndex: 72312 entries, 0 to 72311\n",
      "Data columns (total 8 columns):\n",
      " #   Column                Non-Null Count  Dtype \n",
      "---  ------                --------------  ----- \n",
      " 0   event_timestamp       72312 non-null  int64 \n",
      " 1   interaction_type      72312 non-null  object\n",
      " 2   item_id               72312 non-null  int64 \n",
      " 3   consumer_id           72312 non-null  int64 \n",
      " 4   consumer_session_id   72312 non-null  object\n",
      " 5   consumer_device_info  56918 non-null  object\n",
      " 6   consumer_location     56907 non-null  object\n",
      " 7   country               56918 non-null  object\n",
      "dtypes: int64(3), object(5)\n",
      "memory usage: 4.4+ MB\n"
     ]
    }
   ],
   "source": [
    " #check the columns and info\n",
    "consumer_df.info()"
   ]
  },
  {
   "cell_type": "code",
   "execution_count": 455,
   "metadata": {},
   "outputs": [
    {
     "data": {
      "text/plain": [
       "content_watched         61086\n",
       "content_liked            5745\n",
       "content_saved            2463\n",
       "content_commented_on     1611\n",
       "content_followed         1407\n",
       "Name: interaction_type, dtype: int64"
      ]
     },
     "execution_count": 455,
     "metadata": {},
     "output_type": "execute_result"
    }
   ],
   "source": [
    "consumer_df['interaction_type'].value_counts()"
   ]
  },
  {
   "cell_type": "markdown",
   "metadata": {},
   "source": [
    "#### Creating a ratings column and imputing the rating values based on the feature ‘interaction type’ with the highest weightage to content_followed, followed by content_commented_on, content saved, content liked and content_watched"
   ]
  },
  {
   "cell_type": "code",
   "execution_count": 456,
   "metadata": {},
   "outputs": [],
   "source": [
    "# creating a new column for 'ratings' \n",
    "consumer_df['ratings']=consumer_df['interaction_type'].map({'content_followed':5,\n",
    "                                                            'content_commented_on':4, \n",
    "                                                            'content_saved':3, \n",
    "                                                            'content_liked':2, \n",
    "                                                            'content_watched':1})"
   ]
  },
  {
   "cell_type": "code",
   "execution_count": 457,
   "metadata": {},
   "outputs": [
    {
     "data": {
      "text/html": [
       "<div>\n",
       "<style scoped>\n",
       "    .dataframe tbody tr th:only-of-type {\n",
       "        vertical-align: middle;\n",
       "    }\n",
       "\n",
       "    .dataframe tbody tr th {\n",
       "        vertical-align: top;\n",
       "    }\n",
       "\n",
       "    .dataframe thead th {\n",
       "        text-align: right;\n",
       "    }\n",
       "</style>\n",
       "<table border=\"1\" class=\"dataframe\">\n",
       "  <thead>\n",
       "    <tr style=\"text-align: right;\">\n",
       "      <th></th>\n",
       "      <th>event_timestamp</th>\n",
       "      <th>interaction_type</th>\n",
       "      <th>item_id</th>\n",
       "      <th>consumer_id</th>\n",
       "      <th>consumer_session_id</th>\n",
       "      <th>consumer_device_info</th>\n",
       "      <th>consumer_location</th>\n",
       "      <th>country</th>\n",
       "      <th>ratings</th>\n",
       "    </tr>\n",
       "  </thead>\n",
       "  <tbody>\n",
       "    <tr>\n",
       "      <th>0</th>\n",
       "      <td>1465413032</td>\n",
       "      <td>content_watched</td>\n",
       "      <td>-3499919498720038879</td>\n",
       "      <td>-8845298781299428018</td>\n",
       "      <td>1264196770339959068</td>\n",
       "      <td>NaN</td>\n",
       "      <td>NaN</td>\n",
       "      <td>NaN</td>\n",
       "      <td>1</td>\n",
       "    </tr>\n",
       "    <tr>\n",
       "      <th>1</th>\n",
       "      <td>1465412560</td>\n",
       "      <td>content_watched</td>\n",
       "      <td>8890720798209849691</td>\n",
       "      <td>-1032019229384696495</td>\n",
       "      <td>3621737643587579081</td>\n",
       "      <td>Mozilla/5.0 (Macintosh; Intel Mac OS X 10_11_2) AppleWebKit/537.36 (KHTML, like Gecko) Chrome/52.0.2743.24 Safari/537.36</td>\n",
       "      <td>NY</td>\n",
       "      <td>US</td>\n",
       "      <td>1</td>\n",
       "    </tr>\n",
       "    <tr>\n",
       "      <th>2</th>\n",
       "      <td>1465416190</td>\n",
       "      <td>content_watched</td>\n",
       "      <td>310515487419366995</td>\n",
       "      <td>-1130272294246983140</td>\n",
       "      <td>2631864456530402479</td>\n",
       "      <td>NaN</td>\n",
       "      <td>NaN</td>\n",
       "      <td>NaN</td>\n",
       "      <td>1</td>\n",
       "    </tr>\n",
       "    <tr>\n",
       "      <th>3</th>\n",
       "      <td>1465413895</td>\n",
       "      <td>content_followed</td>\n",
       "      <td>310515487419366995</td>\n",
       "      <td>344280948527967603</td>\n",
       "      <td>-3167637573980064150</td>\n",
       "      <td>NaN</td>\n",
       "      <td>NaN</td>\n",
       "      <td>NaN</td>\n",
       "      <td>5</td>\n",
       "    </tr>\n",
       "    <tr>\n",
       "      <th>4</th>\n",
       "      <td>1465412290</td>\n",
       "      <td>content_watched</td>\n",
       "      <td>-7820640624231356730</td>\n",
       "      <td>-445337111692715325</td>\n",
       "      <td>561148 1178424124714</td>\n",
       "      <td>NaN</td>\n",
       "      <td>NaN</td>\n",
       "      <td>NaN</td>\n",
       "      <td>1</td>\n",
       "    </tr>\n",
       "  </tbody>\n",
       "</table>\n",
       "</div>"
      ],
      "text/plain": [
       "   event_timestamp  interaction_type              item_id  \\\n",
       "0       1465413032   content_watched -3499919498720038879   \n",
       "1       1465412560   content_watched  8890720798209849691   \n",
       "2       1465416190   content_watched   310515487419366995   \n",
       "3       1465413895  content_followed   310515487419366995   \n",
       "4       1465412290   content_watched -7820640624231356730   \n",
       "\n",
       "           consumer_id   consumer_session_id  \\\n",
       "0 -8845298781299428018   1264196770339959068   \n",
       "1 -1032019229384696495   3621737643587579081   \n",
       "2 -1130272294246983140   2631864456530402479   \n",
       "3   344280948527967603  -3167637573980064150   \n",
       "4  -445337111692715325  561148 1178424124714   \n",
       "\n",
       "                                                                                                       consumer_device_info  \\\n",
       "0                                                                                                                       NaN   \n",
       "1  Mozilla/5.0 (Macintosh; Intel Mac OS X 10_11_2) AppleWebKit/537.36 (KHTML, like Gecko) Chrome/52.0.2743.24 Safari/537.36   \n",
       "2                                                                                                                       NaN   \n",
       "3                                                                                                                       NaN   \n",
       "4                                                                                                                       NaN   \n",
       "\n",
       "  consumer_location country  ratings  \n",
       "0               NaN     NaN        1  \n",
       "1                NY      US        1  \n",
       "2               NaN     NaN        1  \n",
       "3               NaN     NaN        5  \n",
       "4               NaN     NaN        1  "
      ]
     },
     "execution_count": 457,
     "metadata": {},
     "output_type": "execute_result"
    }
   ],
   "source": [
    "consumer_df.head()"
   ]
  },
  {
   "cell_type": "markdown",
   "metadata": {},
   "source": [
    "### Exploratory data analysis"
   ]
  },
  {
   "cell_type": "code",
   "execution_count": 458,
   "metadata": {},
   "outputs": [
    {
     "data": {
      "text/plain": [
       "<matplotlib.axes._subplots.AxesSubplot at 0x1fdea9fea60>"
      ]
     },
     "execution_count": 458,
     "metadata": {},
     "output_type": "execute_result"
    },
    {
     "data": {
      "image/png": "[encoded data removed]",
      "text/plain": [
       "<Figure size 1080x720 with 1 Axes>"
      ]
     },
     "metadata": {
      "needs_background": "light"
     },
     "output_type": "display_data"
    }
   ],
   "source": [
    "plt.figure(figsize=(15,10))\n",
    "plt.xticks(rotation=90)\n",
    "sns.countplot(x=\"consumer_location\", data=consumer_df)"
   ]
  },
  {
   "cell_type": "markdown",
   "metadata": {},
   "source": [
    "### Inference\n",
    "- This shows that the consumers of these articles are located majorly in SP, MG and NY location"
   ]
  },
  {
   "cell_type": "code",
   "execution_count": 459,
   "metadata": {
    "scrolled": false
   },
   "outputs": [
    {
     "data": {
      "image/png": "[encoded data removed]",
      "text/plain": [
       "<Figure size 1080x576 with 1 Axes>"
      ]
     },
     "metadata": {
      "needs_background": "light"
     },
     "output_type": "display_data"
    },
    {
     "data": {
      "image/png": "[encoded data removed]",
      "text/plain": [
       "<Figure size 1080x576 with 1 Axes>"
      ]
     },
     "metadata": {
      "needs_background": "light"
     },
     "output_type": "display_data"
    }
   ],
   "source": [
    "#plotting categorical variables \n",
    "categorical_variables =['interaction_type','country']\n",
    "for i in range(0,len(categorical_variables)):\n",
    "    plt.figure(figsize=(15,8))\n",
    "    sns.countplot(x=categorical_variables[i], data=consumer_df)\n",
    "    plt.show()"
   ]
  },
  {
   "cell_type": "markdown",
   "metadata": {},
   "source": [
    "### Inference from the data\n",
    "- Count of content_watched is highest. Majority people do not engage with the articles. They just watch and move to next article.\n",
    "- Brazil and US are countries where these articles are mostly popular and read."
   ]
  },
  {
   "cell_type": "code",
   "execution_count": null,
   "metadata": {},
   "outputs": [],
   "source": []
  },
  {
   "cell_type": "markdown",
   "metadata": {},
   "source": [
    "### Import Platform Data"
   ]
  },
  {
   "cell_type": "code",
   "execution_count": 460,
   "metadata": {},
   "outputs": [
    {
     "data": {
      "text/html": [
       "<div>\n",
       "<style scoped>\n",
       "    .dataframe tbody tr th:only-of-type {\n",
       "        vertical-align: middle;\n",
       "    }\n",
       "\n",
       "    .dataframe tbody tr th {\n",
       "        vertical-align: top;\n",
       "    }\n",
       "\n",
       "    .dataframe thead th {\n",
       "        text-align: right;\n",
       "    }\n",
       "</style>\n",
       "<table border=\"1\" class=\"dataframe\">\n",
       "  <thead>\n",
       "    <tr style=\"text-align: right;\">\n",
       "      <th></th>\n",
       "      <th>event_timestamp</th>\n",
       "      <th>interaction_type</th>\n",
       "      <th>item_id</th>\n",
       "      <th>producer_id</th>\n",
       "      <th>producer_session_id</th>\n",
       "      <th>producer_device_info</th>\n",
       "      <th>producer_location</th>\n",
       "      <th>producer_country</th>\n",
       "      <th>item_type</th>\n",
       "      <th>item_url</th>\n",
       "      <th>title</th>\n",
       "      <th>text_description</th>\n",
       "      <th>language</th>\n",
       "    </tr>\n",
       "  </thead>\n",
       "  <tbody>\n",
       "    <tr>\n",
       "      <th>0</th>\n",
       "      <td>1459192779</td>\n",
       "      <td>content_pulled_out</td>\n",
       "      <td>-6451309518266745024</td>\n",
       "      <td>4340306774493623681</td>\n",
       "      <td>8940341205206233829</td>\n",
       "      <td>NaN</td>\n",
       "      <td>NaN</td>\n",
       "      <td>NaN</td>\n",
       "      <td>HTML</td>\n",
       "      <td>http://www.nytimes.com/2016/03/28/business/dealbook/ethereum-a-virtual-currency-enables-transactions-that-rival-bitcoins.html</td>\n",
       "      <td>Ethereum, a Virtual Currency, Enables Transactions That Rival Bitcoin's</td>\n",
       "      <td>All of this work is still very early. The first full public version of the Ethereum software was recently released, and the system could face some of the same technical and legal problems that hav...</td>\n",
       "      <td>en</td>\n",
       "    </tr>\n",
       "    <tr>\n",
       "      <th>1</th>\n",
       "      <td>1459193988</td>\n",
       "      <td>content_present</td>\n",
       "      <td>-4110354420726924665</td>\n",
       "      <td>4340306774493623681</td>\n",
       "      <td>8940341205206233829</td>\n",
       "      <td>NaN</td>\n",
       "      <td>NaN</td>\n",
       "      <td>NaN</td>\n",
       "      <td>HTML</td>\n",
       "      <td>http://www.nytimes.com/2016/03/28/business/dealbook/ethereum-a-virtual-currency-enables-transactions-that-rival-bitcoins.html</td>\n",
       "      <td>Ethereum, a Virtual Currency, Enables Transactions That Rival Bitcoin's</td>\n",
       "      <td>All of this work is still very early. The first full public version of the Ethereum software was recently released, and the system could face some of the same technical and legal problems that hav...</td>\n",
       "      <td>en</td>\n",
       "    </tr>\n",
       "    <tr>\n",
       "      <th>2</th>\n",
       "      <td>1459194146</td>\n",
       "      <td>content_present</td>\n",
       "      <td>-7292285110016212249</td>\n",
       "      <td>4340306774493623681</td>\n",
       "      <td>8940341205206233829</td>\n",
       "      <td>NaN</td>\n",
       "      <td>NaN</td>\n",
       "      <td>NaN</td>\n",
       "      <td>HTML</td>\n",
       "      <td>http://cointelegraph.com/news/bitcoin-future-when-gbpcoin-of-branson-wins-over-usdcoin-of-trump</td>\n",
       "      <td>Bitcoin Future: When GBPcoin of Branson Wins Over USDcoin of Trump</td>\n",
       "      <td>The alarm clock wakes me at 8:00 with stream of advert-free broadcasting, charged at one satoshi per second. The current BTC exchange rate makes that snooze button a costly proposition! So I get u...</td>\n",
       "      <td>en</td>\n",
       "    </tr>\n",
       "    <tr>\n",
       "      <th>3</th>\n",
       "      <td>1459194474</td>\n",
       "      <td>content_present</td>\n",
       "      <td>-6151852268067518688</td>\n",
       "      <td>3891637997717104548</td>\n",
       "      <td>-1457532940883382585</td>\n",
       "      <td>NaN</td>\n",
       "      <td>NaN</td>\n",
       "      <td>NaN</td>\n",
       "      <td>HTML</td>\n",
       "      <td>https://cloudplatform.googleblog.com/2016/03/Google-Data-Center-360-Tour.html</td>\n",
       "      <td>Google Data Center 360° Tour</td>\n",
       "      <td>We're excited to share the Google Data Center 360° Tour - a YouTube 360° video that gives you an unprecedented and immersive look inside one of our data centers. There are several ways to view thi...</td>\n",
       "      <td>en</td>\n",
       "    </tr>\n",
       "    <tr>\n",
       "      <th>4</th>\n",
       "      <td>1459194497</td>\n",
       "      <td>content_present</td>\n",
       "      <td>2448026894306402386</td>\n",
       "      <td>4340306774493623681</td>\n",
       "      <td>8940341205206233829</td>\n",
       "      <td>NaN</td>\n",
       "      <td>NaN</td>\n",
       "      <td>NaN</td>\n",
       "      <td>HTML</td>\n",
       "      <td>https://bitcoinmagazine.com/articles/ibm-wants-to-evolve-the-internet-with-blockchain-technology-1459189322</td>\n",
       "      <td>IBM Wants to \"Evolve the Internet\" With Blockchain Technology</td>\n",
       "      <td>The Aite Group projects the blockchain market could be valued at $400 million by 2019. For that reason, some of the biggest names in banking, industry and technology have entered into the space to...</td>\n",
       "      <td>en</td>\n",
       "    </tr>\n",
       "  </tbody>\n",
       "</table>\n",
       "</div>"
      ],
      "text/plain": [
       "   event_timestamp    interaction_type              item_id  \\\n",
       "0       1459192779  content_pulled_out -6451309518266745024   \n",
       "1       1459193988     content_present -4110354420726924665   \n",
       "2       1459194146     content_present -7292285110016212249   \n",
       "3       1459194474     content_present -6151852268067518688   \n",
       "4       1459194497     content_present  2448026894306402386   \n",
       "\n",
       "           producer_id  producer_session_id producer_device_info  \\\n",
       "0  4340306774493623681  8940341205206233829                  NaN   \n",
       "1  4340306774493623681  8940341205206233829                  NaN   \n",
       "2  4340306774493623681  8940341205206233829                  NaN   \n",
       "3  3891637997717104548 -1457532940883382585                  NaN   \n",
       "4  4340306774493623681  8940341205206233829                  NaN   \n",
       "\n",
       "  producer_location producer_country item_type  \\\n",
       "0               NaN              NaN      HTML   \n",
       "1               NaN              NaN      HTML   \n",
       "2               NaN              NaN      HTML   \n",
       "3               NaN              NaN      HTML   \n",
       "4               NaN              NaN      HTML   \n",
       "\n",
       "                                                                                                                        item_url  \\\n",
       "0  http://www.nytimes.com/2016/03/28/business/dealbook/ethereum-a-virtual-currency-enables-transactions-that-rival-bitcoins.html   \n",
       "1  http://www.nytimes.com/2016/03/28/business/dealbook/ethereum-a-virtual-currency-enables-transactions-that-rival-bitcoins.html   \n",
       "2                                http://cointelegraph.com/news/bitcoin-future-when-gbpcoin-of-branson-wins-over-usdcoin-of-trump   \n",
       "3                                                  https://cloudplatform.googleblog.com/2016/03/Google-Data-Center-360-Tour.html   \n",
       "4                    https://bitcoinmagazine.com/articles/ibm-wants-to-evolve-the-internet-with-blockchain-technology-1459189322   \n",
       "\n",
       "                                                                     title  \\\n",
       "0  Ethereum, a Virtual Currency, Enables Transactions That Rival Bitcoin's   \n",
       "1  Ethereum, a Virtual Currency, Enables Transactions That Rival Bitcoin's   \n",
       "2       Bitcoin Future: When GBPcoin of Branson Wins Over USDcoin of Trump   \n",
       "3                                             Google Data Center 360° Tour   \n",
       "4            IBM Wants to \"Evolve the Internet\" With Blockchain Technology   \n",
       "\n",
       "                                                                                                                                                                                          text_description  \\\n",
       "0  All of this work is still very early. The first full public version of the Ethereum software was recently released, and the system could face some of the same technical and legal problems that hav...   \n",
       "1  All of this work is still very early. The first full public version of the Ethereum software was recently released, and the system could face some of the same technical and legal problems that hav...   \n",
       "2  The alarm clock wakes me at 8:00 with stream of advert-free broadcasting, charged at one satoshi per second. The current BTC exchange rate makes that snooze button a costly proposition! So I get u...   \n",
       "3  We're excited to share the Google Data Center 360° Tour - a YouTube 360° video that gives you an unprecedented and immersive look inside one of our data centers. There are several ways to view thi...   \n",
       "4  The Aite Group projects the blockchain market could be valued at $400 million by 2019. For that reason, some of the biggest names in banking, industry and technology have entered into the space to...   \n",
       "\n",
       "  language  \n",
       "0       en  \n",
       "1       en  \n",
       "2       en  \n",
       "3       en  \n",
       "4       en  "
      ]
     },
     "execution_count": 460,
     "metadata": {},
     "output_type": "execute_result"
    }
   ],
   "source": [
    "platform_content_df=pd.read_csv(\"platform_content.csv\")\n",
    "platform_content_df.head()"
   ]
  },
  {
   "cell_type": "code",
   "execution_count": 461,
   "metadata": {},
   "outputs": [
    {
     "data": {
      "text/plain": [
       "(3122, 13)"
      ]
     },
     "execution_count": 461,
     "metadata": {},
     "output_type": "execute_result"
    }
   ],
   "source": [
    "platform_content_df.shape"
   ]
  },
  {
   "cell_type": "code",
   "execution_count": 462,
   "metadata": {},
   "outputs": [
    {
     "name": "stdout",
     "output_type": "stream",
     "text": [
      "<class 'pandas.core.frame.DataFrame'>\n",
      "RangeIndex: 3122 entries, 0 to 3121\n",
      "Data columns (total 13 columns):\n",
      " #   Column                Non-Null Count  Dtype \n",
      "---  ------                --------------  ----- \n",
      " 0   event_timestamp       3122 non-null   int64 \n",
      " 1   interaction_type      3122 non-null   object\n",
      " 2   item_id               3122 non-null   int64 \n",
      " 3   producer_id           3122 non-null   int64 \n",
      " 4   producer_session_id   3122 non-null   int64 \n",
      " 5   producer_device_info  680 non-null    object\n",
      " 6   producer_location     680 non-null    object\n",
      " 7   producer_country      680 non-null    object\n",
      " 8   item_type             3122 non-null   object\n",
      " 9   item_url              3122 non-null   object\n",
      " 10  title                 3122 non-null   object\n",
      " 11  text_description      3122 non-null   object\n",
      " 12  language              3122 non-null   object\n",
      "dtypes: int64(4), object(9)\n",
      "memory usage: 317.2+ KB\n"
     ]
    }
   ],
   "source": [
    "platform_content_df.info()"
   ]
  },
  {
   "cell_type": "markdown",
   "metadata": {},
   "source": [
    "### Exploratory data analysis"
   ]
  },
  {
   "cell_type": "code",
   "execution_count": 463,
   "metadata": {},
   "outputs": [
    {
     "data": {
      "text/plain": [
       "Mozilla/5.0 (X11; Linux x86_64) AppleWebKit/537.36 (KHTML, like Gecko) Chrome/53.0.2785.116 Safari/537.36                   71\n",
       "Mozilla/5.0 (Windows NT 10.0; WOW64) AppleWebKit/537.36 (KHTML, like Gecko) Chrome/55.0.2883.87 Safari/537.36               65\n",
       "Android - Native Mobile App                                                                                                 35\n",
       "Mozilla/5.0 (X11; Linux x86_64) AppleWebKit/537.36 (KHTML, like Gecko) Chrome/55.0.2883.87 Safari/537.36                    29\n",
       "Mozilla/5.0 (X11; Linux x86_64) AppleWebKit/537.36 (KHTML, like Gecko) Chrome/53.0.2785.143 Safari/537.36                   28\n",
       "                                                                                                                            ..\n",
       "Mozilla/5.0 (X11; CrOS x86_64 8743.76.0) AppleWebKit/537.36 (KHTML, like Gecko) Chrome/54.0.2840.79 Safari/537.36            1\n",
       "Mozilla/5.0 (Macintosh; Intel Mac OS X 10_11_1) AppleWebKit/537.36 (KHTML, like Gecko) Chrome/55.0.2883.95 Safari/537.36     1\n",
       "Mozilla/5.0 (Macintosh; Intel Mac OS X 10_11_2) AppleWebKit/537.36 (KHTML, like Gecko) Chrome/54.0.2840.41 Safari/537.36     1\n",
       "Mozilla/5.0 (Macintosh; Intel Mac OS X 10_12_0) AppleWebKit/537.36 (KHTML, like Gecko) Chrome/57.0.2987.74 Safari/537.36     1\n",
       "Mozilla/5.0 (Windows NT 10.0; Win64; x64) AppleWebKit/537.36 (KHTML, like Gecko) Chrome/57.0.2987.54 Safari/537.36           1\n",
       "Name: producer_device_info, Length: 114, dtype: int64"
      ]
     },
     "execution_count": 463,
     "metadata": {},
     "output_type": "execute_result"
    }
   ],
   "source": [
    "platform_content_df['producer_device_info'].value_counts()"
   ]
  },
  {
   "cell_type": "code",
   "execution_count": 464,
   "metadata": {},
   "outputs": [
    {
     "data": {
      "text/plain": [
       "HTML     3101\n",
       "VIDEO      11\n",
       "RICH       10\n",
       "Name: item_type, dtype: int64"
      ]
     },
     "execution_count": 464,
     "metadata": {},
     "output_type": "execute_result"
    }
   ],
   "source": [
    "platform_content_df['item_type'].value_counts()"
   ]
  },
  {
   "cell_type": "code",
   "execution_count": 465,
   "metadata": {},
   "outputs": [
    {
     "data": {
      "text/plain": [
       "content_present       3047\n",
       "content_pulled_out      75\n",
       "Name: interaction_type, dtype: int64"
      ]
     },
     "execution_count": 465,
     "metadata": {},
     "output_type": "execute_result"
    }
   ],
   "source": [
    "platform_content_df['interaction_type'].value_counts()"
   ]
  },
  {
   "cell_type": "code",
   "execution_count": 466,
   "metadata": {},
   "outputs": [
    {
     "data": {
      "text/plain": [
       "en    2264\n",
       "pt     850\n",
       "la       4\n",
       "es       2\n",
       "ja       2\n",
       "Name: language, dtype: int64"
      ]
     },
     "execution_count": 466,
     "metadata": {},
     "output_type": "execute_result"
    }
   ],
   "source": [
    "platform_content_df['language'].value_counts()"
   ]
  },
  {
   "cell_type": "code",
   "execution_count": 467,
   "metadata": {
    "scrolled": false
   },
   "outputs": [
    {
     "data": {
      "image/png": "[encoded data removed]",
      "text/plain": [
       "<Figure size 1440x720 with 1 Axes>"
      ]
     },
     "metadata": {
      "needs_background": "light"
     },
     "output_type": "display_data"
    },
    {
     "data": {
      "image/png": "[encoded data removed]",
      "text/plain": [
       "<Figure size 1440x720 with 1 Axes>"
      ]
     },
     "metadata": {
      "needs_background": "light"
     },
     "output_type": "display_data"
    },
    {
     "data": {
      "image/png": "[encoded data removed]",
      "text/plain": [
       "<Figure size 1440x720 with 1 Axes>"
      ]
     },
     "metadata": {
      "needs_background": "light"
     },
     "output_type": "display_data"
    },
    {
     "data": {
      "image/png": "[encoded data removed]",
      "text/plain": [
       "<Figure size 1440x720 with 1 Axes>"
      ]
     },
     "metadata": {
      "needs_background": "light"
     },
     "output_type": "display_data"
    },
    {
     "data": {
      "image/png": "[encoded data removed]",
      "text/plain": [
       "<Figure size 1440x720 with 1 Axes>"
      ]
     },
     "metadata": {
      "needs_background": "light"
     },
     "output_type": "display_data"
    }
   ],
   "source": [
    "#function for barplot for categorical variables \n",
    "categorical_values =['interaction_type','item_type','language','producer_country','producer_location']\n",
    "\n",
    "for i in range(0,len(categorical_values)):\n",
    "    plt.figure(figsize=(20,10))\n",
    "    sns.countplot(x=categorical_values[i], data=platform_content_df)\n",
    "    plt.show()\n",
    "    \n"
   ]
  },
  {
   "cell_type": "markdown",
   "metadata": {},
   "source": [
    "### Inference from the data\n",
    "- Two types of content present in the dataset- content that has been pulled out or the content which is present\n",
    "- Most articles that are present are in HTML format.\n",
    "- Most articles are in english language. \n",
    "- Brazil and US are the most popular countries which produce these articles.\n",
    "- SP, MG, NJ, NY are the locations which consume these articles most."
   ]
  },
  {
   "cell_type": "code",
   "execution_count": null,
   "metadata": {},
   "outputs": [],
   "source": []
  },
  {
   "cell_type": "markdown",
   "metadata": {},
   "source": [
    "### We will use only english language based articles for our recommendation"
   ]
  },
  {
   "cell_type": "code",
   "execution_count": 468,
   "metadata": {},
   "outputs": [],
   "source": [
    "platform_content_en = platform_content_df[platform_content_df.language == 'en']"
   ]
  },
  {
   "cell_type": "code",
   "execution_count": 469,
   "metadata": {},
   "outputs": [
    {
     "data": {
      "text/plain": [
       "(2264, 13)"
      ]
     },
     "execution_count": 469,
     "metadata": {},
     "output_type": "execute_result"
    }
   ],
   "source": [
    "platform_content_en.shape"
   ]
  },
  {
   "cell_type": "markdown",
   "metadata": {},
   "source": [
    "### We will separate the pulled out content for our recommendation"
   ]
  },
  {
   "cell_type": "code",
   "execution_count": 470,
   "metadata": {},
   "outputs": [],
   "source": [
    "pulled_out_df= platform_content_en[platform_content_en.interaction_type == 'content_pulled_out']"
   ]
  },
  {
   "cell_type": "code",
   "execution_count": 471,
   "metadata": {},
   "outputs": [
    {
     "data": {
      "text/plain": [
       "(53, 13)"
      ]
     },
     "execution_count": 471,
     "metadata": {},
     "output_type": "execute_result"
    }
   ],
   "source": [
    "pulled_out_df.shape"
   ]
  },
  {
   "cell_type": "code",
   "execution_count": null,
   "metadata": {},
   "outputs": [],
   "source": []
  },
  {
   "cell_type": "code",
   "execution_count": 472,
   "metadata": {},
   "outputs": [],
   "source": [
    "platform_content_en = platform_content_en[platform_content_en.interaction_type != 'content_pulled_out']"
   ]
  },
  {
   "cell_type": "code",
   "execution_count": 473,
   "metadata": {},
   "outputs": [
    {
     "data": {
      "text/plain": [
       "(2211, 13)"
      ]
     },
     "execution_count": 473,
     "metadata": {},
     "output_type": "execute_result"
    }
   ],
   "source": [
    "platform_content_en.shape"
   ]
  },
  {
   "cell_type": "code",
   "execution_count": 474,
   "metadata": {},
   "outputs": [
    {
     "data": {
      "text/plain": [
       "event_timestamp            0\n",
       "interaction_type           0\n",
       "item_id                    0\n",
       "producer_id                0\n",
       "producer_session_id        0\n",
       "producer_device_info    1744\n",
       "producer_location       1744\n",
       "producer_country        1744\n",
       "item_type                  0\n",
       "item_url                   0\n",
       "title                      0\n",
       "text_description           0\n",
       "language                   0\n",
       "dtype: int64"
      ]
     },
     "execution_count": 474,
     "metadata": {},
     "output_type": "execute_result"
    }
   ],
   "source": [
    "platform_content_en.isna().sum()"
   ]
  },
  {
   "cell_type": "markdown",
   "metadata": {},
   "source": [
    "### Inference\n",
    "- The attributes required for recommendation do not have any null values. producer_location and producer_country wouldn't take part in the model."
   ]
  },
  {
   "cell_type": "markdown",
   "metadata": {},
   "source": [
    "# Collaborative filtering : User based recommendation"
   ]
  },
  {
   "cell_type": "code",
   "execution_count": 475,
   "metadata": {},
   "outputs": [
    {
     "data": {
      "text/html": [
       "<div>\n",
       "<style scoped>\n",
       "    .dataframe tbody tr th:only-of-type {\n",
       "        vertical-align: middle;\n",
       "    }\n",
       "\n",
       "    .dataframe tbody tr th {\n",
       "        vertical-align: top;\n",
       "    }\n",
       "\n",
       "    .dataframe thead th {\n",
       "        text-align: right;\n",
       "    }\n",
       "</style>\n",
       "<table border=\"1\" class=\"dataframe\">\n",
       "  <thead>\n",
       "    <tr style=\"text-align: right;\">\n",
       "      <th></th>\n",
       "      <th>event_timestamp</th>\n",
       "      <th>interaction_type</th>\n",
       "      <th>item_id</th>\n",
       "      <th>consumer_id</th>\n",
       "      <th>consumer_session_id</th>\n",
       "      <th>consumer_device_info</th>\n",
       "      <th>consumer_location</th>\n",
       "      <th>country</th>\n",
       "      <th>ratings</th>\n",
       "    </tr>\n",
       "  </thead>\n",
       "  <tbody>\n",
       "    <tr>\n",
       "      <th>0</th>\n",
       "      <td>1465413032</td>\n",
       "      <td>content_watched</td>\n",
       "      <td>-3499919498720038879</td>\n",
       "      <td>-8845298781299428018</td>\n",
       "      <td>1264196770339959068</td>\n",
       "      <td>NaN</td>\n",
       "      <td>NaN</td>\n",
       "      <td>NaN</td>\n",
       "      <td>1</td>\n",
       "    </tr>\n",
       "    <tr>\n",
       "      <th>1</th>\n",
       "      <td>1465412560</td>\n",
       "      <td>content_watched</td>\n",
       "      <td>8890720798209849691</td>\n",
       "      <td>-1032019229384696495</td>\n",
       "      <td>3621737643587579081</td>\n",
       "      <td>Mozilla/5.0 (Macintosh; Intel Mac OS X 10_11_2) AppleWebKit/537.36 (KHTML, like Gecko) Chrome/52.0.2743.24 Safari/537.36</td>\n",
       "      <td>NY</td>\n",
       "      <td>US</td>\n",
       "      <td>1</td>\n",
       "    </tr>\n",
       "    <tr>\n",
       "      <th>2</th>\n",
       "      <td>1465416190</td>\n",
       "      <td>content_watched</td>\n",
       "      <td>310515487419366995</td>\n",
       "      <td>-1130272294246983140</td>\n",
       "      <td>2631864456530402479</td>\n",
       "      <td>NaN</td>\n",
       "      <td>NaN</td>\n",
       "      <td>NaN</td>\n",
       "      <td>1</td>\n",
       "    </tr>\n",
       "    <tr>\n",
       "      <th>3</th>\n",
       "      <td>1465413895</td>\n",
       "      <td>content_followed</td>\n",
       "      <td>310515487419366995</td>\n",
       "      <td>344280948527967603</td>\n",
       "      <td>-3167637573980064150</td>\n",
       "      <td>NaN</td>\n",
       "      <td>NaN</td>\n",
       "      <td>NaN</td>\n",
       "      <td>5</td>\n",
       "    </tr>\n",
       "    <tr>\n",
       "      <th>4</th>\n",
       "      <td>1465412290</td>\n",
       "      <td>content_watched</td>\n",
       "      <td>-7820640624231356730</td>\n",
       "      <td>-445337111692715325</td>\n",
       "      <td>561148 1178424124714</td>\n",
       "      <td>NaN</td>\n",
       "      <td>NaN</td>\n",
       "      <td>NaN</td>\n",
       "      <td>1</td>\n",
       "    </tr>\n",
       "  </tbody>\n",
       "</table>\n",
       "</div>"
      ],
      "text/plain": [
       "   event_timestamp  interaction_type              item_id  \\\n",
       "0       1465413032   content_watched -3499919498720038879   \n",
       "1       1465412560   content_watched  8890720798209849691   \n",
       "2       1465416190   content_watched   310515487419366995   \n",
       "3       1465413895  content_followed   310515487419366995   \n",
       "4       1465412290   content_watched -7820640624231356730   \n",
       "\n",
       "           consumer_id   consumer_session_id  \\\n",
       "0 -8845298781299428018   1264196770339959068   \n",
       "1 -1032019229384696495   3621737643587579081   \n",
       "2 -1130272294246983140   2631864456530402479   \n",
       "3   344280948527967603  -3167637573980064150   \n",
       "4  -445337111692715325  561148 1178424124714   \n",
       "\n",
       "                                                                                                       consumer_device_info  \\\n",
       "0                                                                                                                       NaN   \n",
       "1  Mozilla/5.0 (Macintosh; Intel Mac OS X 10_11_2) AppleWebKit/537.36 (KHTML, like Gecko) Chrome/52.0.2743.24 Safari/537.36   \n",
       "2                                                                                                                       NaN   \n",
       "3                                                                                                                       NaN   \n",
       "4                                                                                                                       NaN   \n",
       "\n",
       "  consumer_location country  ratings  \n",
       "0               NaN     NaN        1  \n",
       "1                NY      US        1  \n",
       "2               NaN     NaN        1  \n",
       "3               NaN     NaN        5  \n",
       "4               NaN     NaN        1  "
      ]
     },
     "execution_count": 475,
     "metadata": {},
     "output_type": "execute_result"
    }
   ],
   "source": [
    "consumer_df.head()"
   ]
  },
  {
   "cell_type": "code",
   "execution_count": 476,
   "metadata": {},
   "outputs": [
    {
     "data": {
      "text/plain": [
       "(72312, 9)"
      ]
     },
     "execution_count": 476,
     "metadata": {},
     "output_type": "execute_result"
    }
   ],
   "source": [
    "consumer_df.shape"
   ]
  },
  {
   "cell_type": "code",
   "execution_count": 477,
   "metadata": {},
   "outputs": [
    {
     "data": {
      "text/plain": [
       "event_timestamp             0\n",
       "interaction_type            0\n",
       "item_id                     0\n",
       "consumer_id                 0\n",
       "consumer_session_id         0\n",
       "consumer_device_info    15394\n",
       "consumer_location       15405\n",
       "country                 15394\n",
       "ratings                     0\n",
       "dtype: int64"
      ]
     },
     "execution_count": 477,
     "metadata": {},
     "output_type": "execute_result"
    }
   ],
   "source": [
    "consumer_df.isnull().sum()"
   ]
  },
  {
   "cell_type": "code",
   "execution_count": 478,
   "metadata": {},
   "outputs": [
    {
     "data": {
      "text/plain": [
       "11"
      ]
     },
     "execution_count": 478,
     "metadata": {},
     "output_type": "execute_result"
    }
   ],
   "source": [
    "consumer_df.duplicated().sum()"
   ]
  },
  {
   "cell_type": "code",
   "execution_count": 479,
   "metadata": {},
   "outputs": [],
   "source": [
    "#drop the duplicate records\n",
    "consumer_df = consumer_df.drop_duplicates(subset=None, keep='first', inplace=False) "
   ]
  },
  {
   "cell_type": "code",
   "execution_count": 480,
   "metadata": {},
   "outputs": [
    {
     "data": {
      "text/plain": [
       "(72301, 9)"
      ]
     },
     "execution_count": 480,
     "metadata": {},
     "output_type": "execute_result"
    }
   ],
   "source": [
    "consumer_df.shape"
   ]
  },
  {
   "cell_type": "markdown",
   "metadata": {},
   "source": [
    "#### Removing records where content is pulled out"
   ]
  },
  {
   "cell_type": "code",
   "execution_count": 481,
   "metadata": {},
   "outputs": [
    {
     "data": {
      "text/plain": [
       "53"
      ]
     },
     "execution_count": 481,
     "metadata": {},
     "output_type": "execute_result"
    }
   ],
   "source": [
    "pulled_out=list(pulled_out_df['item_id'])\n",
    "len(pulled_out)"
   ]
  },
  {
   "cell_type": "code",
   "execution_count": 482,
   "metadata": {},
   "outputs": [],
   "source": [
    "consumer_df=consumer_df[~consumer_df['item_id'].isin(pulled_out)] "
   ]
  },
  {
   "cell_type": "code",
   "execution_count": 483,
   "metadata": {},
   "outputs": [
    {
     "data": {
      "text/plain": [
       "(72083, 9)"
      ]
     },
     "execution_count": 483,
     "metadata": {},
     "output_type": "execute_result"
    }
   ],
   "source": [
    "consumer_df.shape"
   ]
  },
  {
   "cell_type": "code",
   "execution_count": 484,
   "metadata": {},
   "outputs": [
    {
     "data": {
      "text/plain": [
       "(1895, 2939)"
      ]
     },
     "execution_count": 484,
     "metadata": {},
     "output_type": "execute_result"
    }
   ],
   "source": [
    "n_users = consumer_df.consumer_id.nunique()\n",
    "\n",
    "n_items = consumer_df.item_id.nunique()\n",
    "\n",
    "n_users, n_items"
   ]
  },
  {
   "cell_type": "code",
   "execution_count": 485,
   "metadata": {},
   "outputs": [
    {
     "data": {
      "text/html": [
       "<div>\n",
       "<style scoped>\n",
       "    .dataframe tbody tr th:only-of-type {\n",
       "        vertical-align: middle;\n",
       "    }\n",
       "\n",
       "    .dataframe tbody tr th {\n",
       "        vertical-align: top;\n",
       "    }\n",
       "\n",
       "    .dataframe thead th {\n",
       "        text-align: right;\n",
       "    }\n",
       "</style>\n",
       "<table border=\"1\" class=\"dataframe\">\n",
       "  <thead>\n",
       "    <tr style=\"text-align: right;\">\n",
       "      <th></th>\n",
       "      <th>item_id</th>\n",
       "      <th>consumer_id</th>\n",
       "      <th>ratings</th>\n",
       "    </tr>\n",
       "  </thead>\n",
       "  <tbody>\n",
       "    <tr>\n",
       "      <th>0</th>\n",
       "      <td>-3499919498720038879</td>\n",
       "      <td>-8845298781299428018</td>\n",
       "      <td>1</td>\n",
       "    </tr>\n",
       "    <tr>\n",
       "      <th>1</th>\n",
       "      <td>8890720798209849691</td>\n",
       "      <td>-1032019229384696495</td>\n",
       "      <td>1</td>\n",
       "    </tr>\n",
       "    <tr>\n",
       "      <th>2</th>\n",
       "      <td>310515487419366995</td>\n",
       "      <td>-1130272294246983140</td>\n",
       "      <td>1</td>\n",
       "    </tr>\n",
       "    <tr>\n",
       "      <th>3</th>\n",
       "      <td>310515487419366995</td>\n",
       "      <td>344280948527967603</td>\n",
       "      <td>5</td>\n",
       "    </tr>\n",
       "    <tr>\n",
       "      <th>4</th>\n",
       "      <td>-7820640624231356730</td>\n",
       "      <td>-445337111692715325</td>\n",
       "      <td>1</td>\n",
       "    </tr>\n",
       "  </tbody>\n",
       "</table>\n",
       "</div>"
      ],
      "text/plain": [
       "               item_id          consumer_id  ratings\n",
       "0 -3499919498720038879 -8845298781299428018        1\n",
       "1  8890720798209849691 -1032019229384696495        1\n",
       "2   310515487419366995 -1130272294246983140        1\n",
       "3   310515487419366995   344280948527967603        5\n",
       "4 -7820640624231356730  -445337111692715325        1"
      ]
     },
     "execution_count": 485,
     "metadata": {},
     "output_type": "execute_result"
    }
   ],
   "source": [
    "#take columns required for user based recommendation\n",
    "consumer_all_detail=consumer_df[['item_id','consumer_id','ratings']]\n",
    "consumer_all_detail.head()"
   ]
  },
  {
   "cell_type": "markdown",
   "metadata": {},
   "source": [
    "#### Will simplify the values of item_id and consumer_id by encoding"
   ]
  },
  {
   "cell_type": "code",
   "execution_count": 486,
   "metadata": {},
   "outputs": [],
   "source": [
    "def encode_column(column):\n",
    "# Encodes a pandas column with continuous value\n",
    "    keys = column.unique()\n",
    "    #assign a value to key\n",
    "    key_to_id = {key:idx for idx,key in enumerate(keys)}\n",
    "    return key_to_id"
   ]
  },
  {
   "cell_type": "code",
   "execution_count": 487,
   "metadata": {},
   "outputs": [
    {
     "data": {
      "text/plain": [
       "2939"
      ]
     },
     "execution_count": 487,
     "metadata": {},
     "output_type": "execute_result"
    }
   ],
   "source": [
    "item_dict=encode_column(consumer_all_detail['item_id'])\n",
    "len(item_dict.keys())"
   ]
  },
  {
   "cell_type": "code",
   "execution_count": 488,
   "metadata": {},
   "outputs": [],
   "source": [
    "consumer_all_detail['item_idx'] = consumer_all_detail['item_id'].map(item_dict)"
   ]
  },
  {
   "cell_type": "code",
   "execution_count": 489,
   "metadata": {},
   "outputs": [
    {
     "data": {
      "text/plain": [
       "1895"
      ]
     },
     "execution_count": 489,
     "metadata": {},
     "output_type": "execute_result"
    }
   ],
   "source": [
    "consumer_dict=encode_column(consumer_all_detail['consumer_id'])\n",
    "len(consumer_dict.keys())"
   ]
  },
  {
   "cell_type": "code",
   "execution_count": 490,
   "metadata": {},
   "outputs": [],
   "source": [
    "consumer_all_detail['consumer_idx']=consumer_all_detail['consumer_id'].map(consumer_dict)"
   ]
  },
  {
   "cell_type": "code",
   "execution_count": 491,
   "metadata": {},
   "outputs": [
    {
     "name": "stdout",
     "output_type": "stream",
     "text": [
      "<class 'pandas.core.frame.DataFrame'>\n",
      "Int64Index: 72083 entries, 0 to 72311\n",
      "Data columns (total 5 columns):\n",
      " #   Column        Non-Null Count  Dtype\n",
      "---  ------        --------------  -----\n",
      " 0   item_id       72083 non-null  int64\n",
      " 1   consumer_id   72083 non-null  int64\n",
      " 2   ratings       72083 non-null  int64\n",
      " 3   item_idx      72083 non-null  int64\n",
      " 4   consumer_idx  72083 non-null  int64\n",
      "dtypes: int64(5)\n",
      "memory usage: 3.3 MB\n"
     ]
    }
   ],
   "source": [
    "consumer_all_detail.info()"
   ]
  },
  {
   "cell_type": "code",
   "execution_count": 492,
   "metadata": {},
   "outputs": [],
   "source": [
    "#creating other dataframe for further processing using new ID"
   ]
  },
  {
   "cell_type": "code",
   "execution_count": 493,
   "metadata": {},
   "outputs": [
    {
     "data": {
      "text/html": [
       "<div>\n",
       "<style scoped>\n",
       "    .dataframe tbody tr th:only-of-type {\n",
       "        vertical-align: middle;\n",
       "    }\n",
       "\n",
       "    .dataframe tbody tr th {\n",
       "        vertical-align: top;\n",
       "    }\n",
       "\n",
       "    .dataframe thead th {\n",
       "        text-align: right;\n",
       "    }\n",
       "</style>\n",
       "<table border=\"1\" class=\"dataframe\">\n",
       "  <thead>\n",
       "    <tr style=\"text-align: right;\">\n",
       "      <th></th>\n",
       "      <th>item_idx</th>\n",
       "      <th>consumer_idx</th>\n",
       "      <th>ratings</th>\n",
       "    </tr>\n",
       "  </thead>\n",
       "  <tbody>\n",
       "    <tr>\n",
       "      <th>0</th>\n",
       "      <td>0</td>\n",
       "      <td>0</td>\n",
       "      <td>1</td>\n",
       "    </tr>\n",
       "    <tr>\n",
       "      <th>1</th>\n",
       "      <td>1</td>\n",
       "      <td>1</td>\n",
       "      <td>1</td>\n",
       "    </tr>\n",
       "    <tr>\n",
       "      <th>2</th>\n",
       "      <td>2</td>\n",
       "      <td>2</td>\n",
       "      <td>1</td>\n",
       "    </tr>\n",
       "    <tr>\n",
       "      <th>3</th>\n",
       "      <td>2</td>\n",
       "      <td>3</td>\n",
       "      <td>5</td>\n",
       "    </tr>\n",
       "    <tr>\n",
       "      <th>4</th>\n",
       "      <td>3</td>\n",
       "      <td>4</td>\n",
       "      <td>1</td>\n",
       "    </tr>\n",
       "  </tbody>\n",
       "</table>\n",
       "</div>"
      ],
      "text/plain": [
       "   item_idx  consumer_idx  ratings\n",
       "0         0             0        1\n",
       "1         1             1        1\n",
       "2         2             2        1\n",
       "3         2             3        5\n",
       "4         3             4        1"
      ]
     },
     "execution_count": 493,
     "metadata": {},
     "output_type": "execute_result"
    }
   ],
   "source": [
    "consumer_idx_df=consumer_all_detail[['item_idx','consumer_idx','ratings']]\n",
    "consumer_idx_df.head()"
   ]
  },
  {
   "cell_type": "markdown",
   "metadata": {},
   "source": [
    "## Dividing the data into test and train dataset"
   ]
  },
  {
   "cell_type": "code",
   "execution_count": 494,
   "metadata": {},
   "outputs": [],
   "source": [
    "from sklearn.model_selection import train_test_split\n",
    "train, test = train_test_split(consumer_idx_df, test_size=0.30, random_state=31)"
   ]
  },
  {
   "cell_type": "code",
   "execution_count": 495,
   "metadata": {},
   "outputs": [
    {
     "name": "stdout",
     "output_type": "stream",
     "text": [
      "(50458, 3)\n",
      "(21625, 3)\n"
     ]
    }
   ],
   "source": [
    "print(train.shape)\n",
    "print(test.shape)"
   ]
  },
  {
   "cell_type": "code",
   "execution_count": 496,
   "metadata": {},
   "outputs": [
    {
     "data": {
      "text/plain": [
       "(72083, 3)"
      ]
     },
     "execution_count": 496,
     "metadata": {},
     "output_type": "execute_result"
    }
   ],
   "source": [
    "consumer_idx_df.shape"
   ]
  },
  {
   "cell_type": "code",
   "execution_count": 497,
   "metadata": {},
   "outputs": [
    {
     "data": {
      "text/html": [
       "<div>\n",
       "<style scoped>\n",
       "    .dataframe tbody tr th:only-of-type {\n",
       "        vertical-align: middle;\n",
       "    }\n",
       "\n",
       "    .dataframe tbody tr th {\n",
       "        vertical-align: top;\n",
       "    }\n",
       "\n",
       "    .dataframe thead th {\n",
       "        text-align: right;\n",
       "    }\n",
       "</style>\n",
       "<table border=\"1\" class=\"dataframe\">\n",
       "  <thead>\n",
       "    <tr style=\"text-align: right;\">\n",
       "      <th></th>\n",
       "      <th>item_idx</th>\n",
       "      <th>consumer_idx</th>\n",
       "      <th>ratings</th>\n",
       "    </tr>\n",
       "  </thead>\n",
       "  <tbody>\n",
       "    <tr>\n",
       "      <th>58321</th>\n",
       "      <td>2391</td>\n",
       "      <td>208</td>\n",
       "      <td>5</td>\n",
       "    </tr>\n",
       "    <tr>\n",
       "      <th>62101</th>\n",
       "      <td>2476</td>\n",
       "      <td>184</td>\n",
       "      <td>1</td>\n",
       "    </tr>\n",
       "    <tr>\n",
       "      <th>4550</th>\n",
       "      <td>41</td>\n",
       "      <td>48</td>\n",
       "      <td>1</td>\n",
       "    </tr>\n",
       "    <tr>\n",
       "      <th>55252</th>\n",
       "      <td>2235</td>\n",
       "      <td>262</td>\n",
       "      <td>1</td>\n",
       "    </tr>\n",
       "    <tr>\n",
       "      <th>29002</th>\n",
       "      <td>452</td>\n",
       "      <td>560</td>\n",
       "      <td>1</td>\n",
       "    </tr>\n",
       "  </tbody>\n",
       "</table>\n",
       "</div>"
      ],
      "text/plain": [
       "       item_idx  consumer_idx  ratings\n",
       "58321      2391           208        5\n",
       "62101      2476           184        1\n",
       "4550         41            48        1\n",
       "55252      2235           262        1\n",
       "29002       452           560        1"
      ]
     },
     "execution_count": 497,
     "metadata": {},
     "output_type": "execute_result"
    }
   ],
   "source": [
    "train.head()"
   ]
  },
  {
   "cell_type": "code",
   "execution_count": 498,
   "metadata": {},
   "outputs": [
    {
     "data": {
      "text/html": [
       "<div>\n",
       "<style scoped>\n",
       "    .dataframe tbody tr th:only-of-type {\n",
       "        vertical-align: middle;\n",
       "    }\n",
       "\n",
       "    .dataframe tbody tr th {\n",
       "        vertical-align: top;\n",
       "    }\n",
       "\n",
       "    .dataframe thead th {\n",
       "        text-align: right;\n",
       "    }\n",
       "</style>\n",
       "<table border=\"1\" class=\"dataframe\">\n",
       "  <thead>\n",
       "    <tr style=\"text-align: right;\">\n",
       "      <th></th>\n",
       "      <th>item_idx</th>\n",
       "      <th>consumer_idx</th>\n",
       "      <th>ratings</th>\n",
       "    </tr>\n",
       "  </thead>\n",
       "  <tbody>\n",
       "    <tr>\n",
       "      <th>8887</th>\n",
       "      <td>850</td>\n",
       "      <td>926</td>\n",
       "      <td>1</td>\n",
       "    </tr>\n",
       "    <tr>\n",
       "      <th>58350</th>\n",
       "      <td>2436</td>\n",
       "      <td>1730</td>\n",
       "      <td>1</td>\n",
       "    </tr>\n",
       "    <tr>\n",
       "      <th>16258</th>\n",
       "      <td>493</td>\n",
       "      <td>241</td>\n",
       "      <td>1</td>\n",
       "    </tr>\n",
       "    <tr>\n",
       "      <th>18851</th>\n",
       "      <td>204</td>\n",
       "      <td>125</td>\n",
       "      <td>1</td>\n",
       "    </tr>\n",
       "    <tr>\n",
       "      <th>46663</th>\n",
       "      <td>2062</td>\n",
       "      <td>438</td>\n",
       "      <td>1</td>\n",
       "    </tr>\n",
       "  </tbody>\n",
       "</table>\n",
       "</div>"
      ],
      "text/plain": [
       "       item_idx  consumer_idx  ratings\n",
       "8887        850           926        1\n",
       "58350      2436          1730        1\n",
       "16258       493           241        1\n",
       "18851       204           125        1\n",
       "46663      2062           438        1"
      ]
     },
     "execution_count": 498,
     "metadata": {},
     "output_type": "execute_result"
    }
   ],
   "source": [
    "test.head()"
   ]
  },
  {
   "cell_type": "code",
   "execution_count": null,
   "metadata": {},
   "outputs": [],
   "source": []
  },
  {
   "cell_type": "markdown",
   "metadata": {},
   "source": [
    "## Create empty data matrix: user*articles"
   ]
  },
  {
   "cell_type": "code",
   "execution_count": 499,
   "metadata": {},
   "outputs": [],
   "source": [
    "data_matrix = np.zeros((n_users, n_items))"
   ]
  },
  {
   "cell_type": "code",
   "execution_count": 500,
   "metadata": {},
   "outputs": [
    {
     "data": {
      "text/plain": [
       "array([[0., 0., 0., ..., 0., 0., 0.],\n",
       "       [0., 0., 0., ..., 0., 0., 0.],\n",
       "       [0., 0., 0., ..., 0., 0., 0.],\n",
       "       ...,\n",
       "       [0., 0., 0., ..., 0., 0., 0.],\n",
       "       [0., 0., 0., ..., 0., 0., 0.],\n",
       "       [0., 0., 0., ..., 0., 0., 0.]])"
      ]
     },
     "execution_count": 500,
     "metadata": {},
     "output_type": "execute_result"
    }
   ],
   "source": [
    "data_matrix"
   ]
  },
  {
   "cell_type": "code",
   "execution_count": 501,
   "metadata": {},
   "outputs": [
    {
     "data": {
      "text/plain": [
       "(1895, 2939)"
      ]
     },
     "execution_count": 501,
     "metadata": {},
     "output_type": "execute_result"
    }
   ],
   "source": [
    "data_matrix.shape   "
   ]
  },
  {
   "cell_type": "markdown",
   "metadata": {},
   "source": [
    "## Fill user*articles Train matrix with rating values"
   ]
  },
  {
   "cell_type": "code",
   "execution_count": 502,
   "metadata": {},
   "outputs": [],
   "source": [
    "for line in train.itertuples():\n",
    "    if ((line[1]>1895)):\n",
    "        continue #move on to next line if the consumer id is > 1895 \n",
    "    data_matrix[line[1]-1, line[2]-1] = line[3]"
   ]
  },
  {
   "cell_type": "code",
   "execution_count": 503,
   "metadata": {},
   "outputs": [
    {
     "data": {
      "text/plain": [
       "array([[5., 1., 0., ..., 0., 0., 3.],\n",
       "       [1., 1., 3., ..., 0., 0., 0.],\n",
       "       [1., 0., 0., ..., 0., 0., 0.],\n",
       "       ...,\n",
       "       [0., 0., 0., ..., 0., 0., 0.],\n",
       "       [0., 0., 0., ..., 0., 0., 0.],\n",
       "       [0., 0., 0., ..., 0., 0., 0.]])"
      ]
     },
     "execution_count": 503,
     "metadata": {},
     "output_type": "execute_result"
    }
   ],
   "source": [
    "data_matrix"
   ]
  },
  {
   "cell_type": "code",
   "execution_count": 504,
   "metadata": {},
   "outputs": [
    {
     "data": {
      "text/plain": [
       "(1895, 2939)"
      ]
     },
     "execution_count": 504,
     "metadata": {},
     "output_type": "execute_result"
    }
   ],
   "source": [
    "data_matrix.shape"
   ]
  },
  {
   "cell_type": "markdown",
   "metadata": {},
   "source": [
    "## Create Data Matrix with Test Data"
   ]
  },
  {
   "cell_type": "code",
   "execution_count": 505,
   "metadata": {},
   "outputs": [],
   "source": [
    "data_matrix_test = np.zeros((n_users, n_items)) #create a zero matrix"
   ]
  },
  {
   "cell_type": "code",
   "execution_count": 506,
   "metadata": {},
   "outputs": [
    {
     "data": {
      "text/plain": [
       "array([[0., 0., 0., ..., 0., 0., 0.],\n",
       "       [0., 0., 0., ..., 0., 0., 0.],\n",
       "       [0., 0., 0., ..., 0., 0., 0.],\n",
       "       ...,\n",
       "       [0., 0., 0., ..., 0., 0., 0.],\n",
       "       [0., 0., 0., ..., 0., 0., 0.],\n",
       "       [0., 0., 0., ..., 0., 0., 0.]])"
      ]
     },
     "execution_count": 506,
     "metadata": {},
     "output_type": "execute_result"
    }
   ],
   "source": [
    "data_matrix_test"
   ]
  },
  {
   "cell_type": "code",
   "execution_count": 507,
   "metadata": {},
   "outputs": [
    {
     "data": {
      "text/plain": [
       "(1895, 2939)"
      ]
     },
     "execution_count": 507,
     "metadata": {},
     "output_type": "execute_result"
    }
   ],
   "source": [
    "data_matrix_test.shape"
   ]
  },
  {
   "cell_type": "code",
   "execution_count": 508,
   "metadata": {},
   "outputs": [],
   "source": [
    "for line in test.itertuples():\n",
    "    if ((line[1]>1895) or (line[2]>2435)):\n",
    "        continue\n",
    "    data_matrix_test[line[1]-1, line[2]-1] = line[3]"
   ]
  },
  {
   "cell_type": "code",
   "execution_count": 509,
   "metadata": {},
   "outputs": [
    {
     "data": {
      "text/plain": [
       "(1895, 2939)"
      ]
     },
     "execution_count": 509,
     "metadata": {},
     "output_type": "execute_result"
    }
   ],
   "source": [
    "data_matrix_test.shape"
   ]
  },
  {
   "cell_type": "markdown",
   "metadata": {},
   "source": [
    "### Create Data Matrix with full data"
   ]
  },
  {
   "cell_type": "code",
   "execution_count": 510,
   "metadata": {},
   "outputs": [],
   "source": [
    "data_matrix_full = np.zeros((n_users, n_items))\n"
   ]
  },
  {
   "cell_type": "code",
   "execution_count": 511,
   "metadata": {},
   "outputs": [],
   "source": [
    "for line in consumer_idx_df.itertuples():\n",
    "    if ((line[1]>1895)):\n",
    "        continue\n",
    "    data_matrix_full[line[1]-1, line[2]-1] = line[3]\n"
   ]
  },
  {
   "cell_type": "code",
   "execution_count": 512,
   "metadata": {},
   "outputs": [
    {
     "data": {
      "text/plain": [
       "array([[1., 1., 0., ..., 0., 0., 3.],\n",
       "       [1., 1., 1., ..., 0., 0., 0.],\n",
       "       [3., 0., 0., ..., 0., 0., 0.],\n",
       "       ...,\n",
       "       [0., 0., 0., ..., 0., 0., 0.],\n",
       "       [0., 0., 0., ..., 0., 0., 0.],\n",
       "       [0., 0., 0., ..., 0., 0., 1.]])"
      ]
     },
     "execution_count": 512,
     "metadata": {},
     "output_type": "execute_result"
    }
   ],
   "source": [
    "data_matrix_full"
   ]
  },
  {
   "cell_type": "markdown",
   "metadata": {},
   "source": [
    "# Pairwise Distance"
   ]
  },
  {
   "cell_type": "code",
   "execution_count": 513,
   "metadata": {},
   "outputs": [],
   "source": [
    "from sklearn.metrics.pairwise import pairwise_distances "
   ]
  },
  {
   "cell_type": "code",
   "execution_count": 514,
   "metadata": {},
   "outputs": [],
   "source": [
    "#calculate distance between each vector for user\n",
    "user_similarity = 1- pairwise_distances(data_matrix, metric='cosine')\n"
   ]
  },
  {
   "cell_type": "code",
   "execution_count": 515,
   "metadata": {},
   "outputs": [
    {
     "data": {
      "text/plain": [
       "(1895, 1895)"
      ]
     },
     "execution_count": 515,
     "metadata": {},
     "output_type": "execute_result"
    }
   ],
   "source": [
    "user_similarity.shape"
   ]
  },
  {
   "cell_type": "code",
   "execution_count": 516,
   "metadata": {},
   "outputs": [
    {
     "data": {
      "text/plain": [
       "array([[1.        , 0.09063669, 0.33218192, ..., 0.0675566 , 0.05943963,\n",
       "        0.22333125],\n",
       "       [0.09063669, 1.        , 0.04850713, ..., 0.        , 0.        ,\n",
       "        0.11595421],\n",
       "       [0.33218192, 0.04850713, 1.        , ..., 0.        , 0.        ,\n",
       "        0.11952286],\n",
       "       ...,\n",
       "       [0.0675566 , 0.        , 0.        , ..., 1.        , 0.15526752,\n",
       "        0.        ],\n",
       "       [0.05943963, 0.        , 0.        , ..., 0.15526752, 1.        ,\n",
       "        0.        ],\n",
       "       [0.22333125, 0.11595421, 0.11952286, ..., 0.        , 0.        ,\n",
       "        1.        ]])"
      ]
     },
     "execution_count": 516,
     "metadata": {},
     "output_type": "execute_result"
    }
   ],
   "source": [
    "user_similarity"
   ]
  },
  {
   "cell_type": "markdown",
   "metadata": {},
   "source": [
    "## Articles pairwise similarity distance"
   ]
  },
  {
   "cell_type": "code",
   "execution_count": 517,
   "metadata": {},
   "outputs": [],
   "source": [
    "item_similarity = 1-pairwise_distances(data_matrix.T, metric='cosine') #distance btween item vector"
   ]
  },
  {
   "cell_type": "code",
   "execution_count": 518,
   "metadata": {},
   "outputs": [
    {
     "data": {
      "text/plain": [
       "(2939, 2939)"
      ]
     },
     "execution_count": 518,
     "metadata": {},
     "output_type": "execute_result"
    }
   ],
   "source": [
    "item_similarity.shape"
   ]
  },
  {
   "cell_type": "code",
   "execution_count": 519,
   "metadata": {},
   "outputs": [
    {
     "data": {
      "text/plain": [
       "array([[1.        , 0.11008736, 0.02267722, ..., 0.        , 0.        ,\n",
       "        0.18346796],\n",
       "       [0.11008736, 1.        , 0.10734844, ..., 0.        , 0.        ,\n",
       "        0.08832129],\n",
       "       [0.02267722, 0.10734844, 1.        , ..., 0.        , 0.        ,\n",
       "        0.        ],\n",
       "       ...,\n",
       "       [0.        , 0.        , 0.        , ..., 1.        , 0.        ,\n",
       "        0.        ],\n",
       "       [0.        , 0.        , 0.        , ..., 0.        , 1.        ,\n",
       "        0.        ],\n",
       "       [0.18346796, 0.08832129, 0.        , ..., 0.        , 0.        ,\n",
       "        1.        ]])"
      ]
     },
     "execution_count": 519,
     "metadata": {},
     "output_type": "execute_result"
    }
   ],
   "source": [
    "item_similarity"
   ]
  },
  {
   "cell_type": "markdown",
   "metadata": {},
   "source": [
    "## Dot product of Data Matrix with similarity matrix"
   ]
  },
  {
   "cell_type": "code",
   "execution_count": 520,
   "metadata": {},
   "outputs": [],
   "source": [
    "item_prediction = np.dot(user_similarity, data_matrix_test)"
   ]
  },
  {
   "cell_type": "code",
   "execution_count": 521,
   "metadata": {},
   "outputs": [
    {
     "data": {
      "text/plain": [
       "array([[1.23491300e+02, 5.46068744e+00, 1.92485736e-01, ...,\n",
       "        0.00000000e+00, 0.00000000e+00, 1.49590284e+01],\n",
       "       [5.32372784e+01, 4.20629290e+00, 1.21534482e+00, ...,\n",
       "        0.00000000e+00, 0.00000000e+00, 6.26846256e+00],\n",
       "       [8.58219220e+01, 3.07140109e+00, 2.59325636e-01, ...,\n",
       "        0.00000000e+00, 0.00000000e+00, 8.27891832e+00],\n",
       "       ...,\n",
       "       [1.36970472e+01, 1.02671599e+00, 5.71661950e-02, ...,\n",
       "        0.00000000e+00, 0.00000000e+00, 1.69046094e+00],\n",
       "       [1.02660025e+01, 5.01020089e-01, 5.68761170e-02, ...,\n",
       "        0.00000000e+00, 0.00000000e+00, 7.79758080e-01],\n",
       "       [3.99178046e+01, 2.48415463e+00, 1.71682028e-01, ...,\n",
       "        0.00000000e+00, 0.00000000e+00, 7.30583959e+00]])"
      ]
     },
     "execution_count": 521,
     "metadata": {},
     "output_type": "execute_result"
    }
   ],
   "source": [
    "item_prediction"
   ]
  },
  {
   "cell_type": "code",
   "execution_count": 522,
   "metadata": {},
   "outputs": [
    {
     "data": {
      "text/plain": [
       "(1895, 2939)"
      ]
     },
     "execution_count": 522,
     "metadata": {},
     "output_type": "execute_result"
    }
   ],
   "source": [
    "item_prediction.shape"
   ]
  },
  {
   "cell_type": "code",
   "execution_count": 523,
   "metadata": {},
   "outputs": [],
   "source": [
    "prediction_df = pd.DataFrame(item_prediction)#create df "
   ]
  },
  {
   "cell_type": "code",
   "execution_count": 524,
   "metadata": {},
   "outputs": [
    {
     "data": {
      "text/plain": [
       "(1895, 2939)"
      ]
     },
     "execution_count": 524,
     "metadata": {},
     "output_type": "execute_result"
    }
   ],
   "source": [
    "prediction_df.shape"
   ]
  },
  {
   "cell_type": "code",
   "execution_count": 525,
   "metadata": {},
   "outputs": [
    {
     "data": {
      "text/html": [
       "<div>\n",
       "<style scoped>\n",
       "    .dataframe tbody tr th:only-of-type {\n",
       "        vertical-align: middle;\n",
       "    }\n",
       "\n",
       "    .dataframe tbody tr th {\n",
       "        vertical-align: top;\n",
       "    }\n",
       "\n",
       "    .dataframe thead th {\n",
       "        text-align: right;\n",
       "    }\n",
       "</style>\n",
       "<table border=\"1\" class=\"dataframe\">\n",
       "  <thead>\n",
       "    <tr style=\"text-align: right;\">\n",
       "      <th></th>\n",
       "      <th>0</th>\n",
       "      <th>1</th>\n",
       "      <th>2</th>\n",
       "      <th>3</th>\n",
       "      <th>4</th>\n",
       "      <th>5</th>\n",
       "      <th>6</th>\n",
       "      <th>7</th>\n",
       "      <th>8</th>\n",
       "      <th>9</th>\n",
       "      <th>...</th>\n",
       "      <th>2929</th>\n",
       "      <th>2930</th>\n",
       "      <th>2931</th>\n",
       "      <th>2932</th>\n",
       "      <th>2933</th>\n",
       "      <th>2934</th>\n",
       "      <th>2935</th>\n",
       "      <th>2936</th>\n",
       "      <th>2937</th>\n",
       "      <th>2938</th>\n",
       "    </tr>\n",
       "  </thead>\n",
       "  <tbody>\n",
       "    <tr>\n",
       "      <th>0</th>\n",
       "      <td>123.491300</td>\n",
       "      <td>5.460687</td>\n",
       "      <td>0.192486</td>\n",
       "      <td>5.984114</td>\n",
       "      <td>0.519614</td>\n",
       "      <td>36.424629</td>\n",
       "      <td>2.387528</td>\n",
       "      <td>4.466404</td>\n",
       "      <td>1.507105</td>\n",
       "      <td>3.153628</td>\n",
       "      <td>...</td>\n",
       "      <td>0.0</td>\n",
       "      <td>0.0</td>\n",
       "      <td>0.0</td>\n",
       "      <td>0.0</td>\n",
       "      <td>0.0</td>\n",
       "      <td>0.0</td>\n",
       "      <td>0.0</td>\n",
       "      <td>0.0</td>\n",
       "      <td>0.0</td>\n",
       "      <td>14.959028</td>\n",
       "    </tr>\n",
       "    <tr>\n",
       "      <th>1</th>\n",
       "      <td>53.237278</td>\n",
       "      <td>4.206293</td>\n",
       "      <td>1.215345</td>\n",
       "      <td>3.320641</td>\n",
       "      <td>0.537730</td>\n",
       "      <td>20.150260</td>\n",
       "      <td>1.421576</td>\n",
       "      <td>4.867395</td>\n",
       "      <td>1.405952</td>\n",
       "      <td>2.186025</td>\n",
       "      <td>...</td>\n",
       "      <td>0.0</td>\n",
       "      <td>0.0</td>\n",
       "      <td>0.0</td>\n",
       "      <td>0.0</td>\n",
       "      <td>0.0</td>\n",
       "      <td>0.0</td>\n",
       "      <td>0.0</td>\n",
       "      <td>0.0</td>\n",
       "      <td>0.0</td>\n",
       "      <td>6.268463</td>\n",
       "    </tr>\n",
       "    <tr>\n",
       "      <th>2</th>\n",
       "      <td>85.821922</td>\n",
       "      <td>3.071401</td>\n",
       "      <td>0.259326</td>\n",
       "      <td>6.659791</td>\n",
       "      <td>0.133333</td>\n",
       "      <td>18.663883</td>\n",
       "      <td>1.255912</td>\n",
       "      <td>2.556530</td>\n",
       "      <td>0.584607</td>\n",
       "      <td>1.775120</td>\n",
       "      <td>...</td>\n",
       "      <td>0.0</td>\n",
       "      <td>0.0</td>\n",
       "      <td>0.0</td>\n",
       "      <td>0.0</td>\n",
       "      <td>0.0</td>\n",
       "      <td>0.0</td>\n",
       "      <td>0.0</td>\n",
       "      <td>0.0</td>\n",
       "      <td>0.0</td>\n",
       "      <td>8.278918</td>\n",
       "    </tr>\n",
       "    <tr>\n",
       "      <th>3</th>\n",
       "      <td>15.456576</td>\n",
       "      <td>1.510254</td>\n",
       "      <td>0.141758</td>\n",
       "      <td>1.569754</td>\n",
       "      <td>0.201724</td>\n",
       "      <td>17.862224</td>\n",
       "      <td>1.059456</td>\n",
       "      <td>1.835731</td>\n",
       "      <td>0.999882</td>\n",
       "      <td>1.294378</td>\n",
       "      <td>...</td>\n",
       "      <td>0.0</td>\n",
       "      <td>0.0</td>\n",
       "      <td>0.0</td>\n",
       "      <td>0.0</td>\n",
       "      <td>0.0</td>\n",
       "      <td>0.0</td>\n",
       "      <td>0.0</td>\n",
       "      <td>0.0</td>\n",
       "      <td>0.0</td>\n",
       "      <td>1.285014</td>\n",
       "    </tr>\n",
       "    <tr>\n",
       "      <th>4</th>\n",
       "      <td>26.538133</td>\n",
       "      <td>1.795271</td>\n",
       "      <td>0.101131</td>\n",
       "      <td>1.409825</td>\n",
       "      <td>0.261501</td>\n",
       "      <td>24.153074</td>\n",
       "      <td>3.418447</td>\n",
       "      <td>1.809636</td>\n",
       "      <td>2.463852</td>\n",
       "      <td>2.084262</td>\n",
       "      <td>...</td>\n",
       "      <td>0.0</td>\n",
       "      <td>0.0</td>\n",
       "      <td>0.0</td>\n",
       "      <td>0.0</td>\n",
       "      <td>0.0</td>\n",
       "      <td>0.0</td>\n",
       "      <td>0.0</td>\n",
       "      <td>0.0</td>\n",
       "      <td>0.0</td>\n",
       "      <td>2.429995</td>\n",
       "    </tr>\n",
       "  </tbody>\n",
       "</table>\n",
       "<p>5 rows × 2939 columns</p>\n",
       "</div>"
      ],
      "text/plain": [
       "         0         1         2         3         4          5         6     \\\n",
       "0  123.491300  5.460687  0.192486  5.984114  0.519614  36.424629  2.387528   \n",
       "1   53.237278  4.206293  1.215345  3.320641  0.537730  20.150260  1.421576   \n",
       "2   85.821922  3.071401  0.259326  6.659791  0.133333  18.663883  1.255912   \n",
       "3   15.456576  1.510254  0.141758  1.569754  0.201724  17.862224  1.059456   \n",
       "4   26.538133  1.795271  0.101131  1.409825  0.261501  24.153074  3.418447   \n",
       "\n",
       "       7         8         9     ...  2929  2930  2931  2932  2933  2934  \\\n",
       "0  4.466404  1.507105  3.153628  ...   0.0   0.0   0.0   0.0   0.0   0.0   \n",
       "1  4.867395  1.405952  2.186025  ...   0.0   0.0   0.0   0.0   0.0   0.0   \n",
       "2  2.556530  0.584607  1.775120  ...   0.0   0.0   0.0   0.0   0.0   0.0   \n",
       "3  1.835731  0.999882  1.294378  ...   0.0   0.0   0.0   0.0   0.0   0.0   \n",
       "4  1.809636  2.463852  2.084262  ...   0.0   0.0   0.0   0.0   0.0   0.0   \n",
       "\n",
       "   2935  2936  2937       2938  \n",
       "0   0.0   0.0   0.0  14.959028  \n",
       "1   0.0   0.0   0.0   6.268463  \n",
       "2   0.0   0.0   0.0   8.278918  \n",
       "3   0.0   0.0   0.0   1.285014  \n",
       "4   0.0   0.0   0.0   2.429995  \n",
       "\n",
       "[5 rows x 2939 columns]"
      ]
     },
     "execution_count": 525,
     "metadata": {},
     "output_type": "execute_result"
    }
   ],
   "source": [
    "prediction_df.head()"
   ]
  },
  {
   "cell_type": "markdown",
   "metadata": {},
   "source": [
    "# Model evaluation"
   ]
  },
  {
   "cell_type": "code",
   "execution_count": 526,
   "metadata": {},
   "outputs": [],
   "source": [
    "from sklearn.metrics import mean_squared_error\n",
    "from sklearn.metrics import mean_absolute_error\n",
    "from sklearn.metrics import accuracy_score\n",
    "from math import sqrt"
   ]
  },
  {
   "cell_type": "markdown",
   "metadata": {},
   "source": [
    "## MAE: Mean Absolute Error"
   ]
  },
  {
   "cell_type": "code",
   "execution_count": 527,
   "metadata": {},
   "outputs": [],
   "source": [
    "def mae(prediction, ground_truth):\n",
    "    prediction = prediction[ground_truth.nonzero()]\n",
    "    ground_truth = ground_truth[ground_truth.nonzero()]\n",
    "    return mean_absolute_error(prediction, ground_truth)"
   ]
  },
  {
   "cell_type": "code",
   "execution_count": 528,
   "metadata": {},
   "outputs": [
    {
     "data": {
      "text/plain": [
       "8.282068533589495"
      ]
     },
     "execution_count": 528,
     "metadata": {},
     "output_type": "execute_result"
    }
   ],
   "source": [
    "mae(item_prediction,data_matrix_test) "
   ]
  },
  {
   "cell_type": "markdown",
   "metadata": {},
   "source": [
    "## Inference\n",
    "### Lower score of MAE indicates better model, we have low value for MAE hence we can conclude it is a good model"
   ]
  },
  {
   "cell_type": "markdown",
   "metadata": {},
   "source": [
    "## RMSE: Root Mean Squared Error"
   ]
  },
  {
   "cell_type": "code",
   "execution_count": 529,
   "metadata": {},
   "outputs": [],
   "source": [
    "def rmse(prediction, ground_truth):\n",
    "    prediction = prediction[ground_truth.nonzero()]\n",
    "    ground_truth = ground_truth[ground_truth.nonzero()]\n",
    "    return sqrt(mean_squared_error(prediction, ground_truth))"
   ]
  },
  {
   "cell_type": "code",
   "execution_count": 530,
   "metadata": {},
   "outputs": [
    {
     "data": {
      "text/plain": [
       "18.128811574742976"
      ]
     },
     "execution_count": 530,
     "metadata": {},
     "output_type": "execute_result"
    }
   ],
   "source": [
    "rmse(item_prediction,data_matrix_test)"
   ]
  },
  {
   "cell_type": "markdown",
   "metadata": {},
   "source": [
    "## Inference\n",
    "### Lower score of RMSE indicates better model, we have low value for RMSE hence we can conclude it is a good model"
   ]
  },
  {
   "cell_type": "code",
   "execution_count": null,
   "metadata": {},
   "outputs": [],
   "source": []
  },
  {
   "cell_type": "markdown",
   "metadata": {},
   "source": [
    "### Getting recommendation for consumer id 8239286975497580612"
   ]
  },
  {
   "cell_type": "code",
   "execution_count": 531,
   "metadata": {},
   "outputs": [
    {
     "data": {
      "text/plain": [
       "10"
      ]
     },
     "execution_count": 531,
     "metadata": {},
     "output_type": "execute_result"
    }
   ],
   "source": [
    "consumer_dict[8239286975497580612]"
   ]
  },
  {
   "cell_type": "code",
   "execution_count": 532,
   "metadata": {},
   "outputs": [
    {
     "data": {
      "text/plain": [
       "0       7.380693\n",
       "1       0.162537\n",
       "2       0.000000\n",
       "3       0.212853\n",
       "4       0.057378\n",
       "          ...   \n",
       "2934    0.000000\n",
       "2935    0.000000\n",
       "2936    0.000000\n",
       "2937    0.000000\n",
       "2938    0.415398\n",
       "Name: 10, Length: 2939, dtype: float64"
      ]
     },
     "execution_count": 532,
     "metadata": {},
     "output_type": "execute_result"
    }
   ],
   "source": [
    "prediction_df.iloc[consumer_dict[8239286975497580612]]"
   ]
  },
  {
   "cell_type": "code",
   "execution_count": 533,
   "metadata": {},
   "outputs": [
    {
     "data": {
      "text/plain": [
       "5      7.615451\n",
       "0      7.380693\n",
       "19     7.154092\n",
       "256    6.526580\n",
       "381    6.040718\n",
       "500    5.859335\n",
       "25     5.750275\n",
       "194    5.446047\n",
       "71     4.188860\n",
       "79     3.850002\n",
       "465    3.767035\n",
       "83     3.764432\n",
       "616    3.471578\n",
       "122    3.241737\n",
       "50     3.205688\n",
       "Name: 10, dtype: float64"
      ]
     },
     "execution_count": 533,
     "metadata": {},
     "output_type": "execute_result"
    }
   ],
   "source": [
    "prediction_df.iloc[consumer_dict[8239286975497580612]].sort_values(ascending=False)[:15] #top 15 after sorting"
   ]
  },
  {
   "cell_type": "code",
   "execution_count": 534,
   "metadata": {},
   "outputs": [],
   "source": [
    "recommended_article_df = pd.DataFrame(prediction_df.iloc[consumer_dict[8239286975497580612]].sort_values(ascending=False))"
   ]
  },
  {
   "cell_type": "code",
   "execution_count": 535,
   "metadata": {},
   "outputs": [
    {
     "data": {
      "text/html": [
       "<div>\n",
       "<style scoped>\n",
       "    .dataframe tbody tr th:only-of-type {\n",
       "        vertical-align: middle;\n",
       "    }\n",
       "\n",
       "    .dataframe tbody tr th {\n",
       "        vertical-align: top;\n",
       "    }\n",
       "\n",
       "    .dataframe thead th {\n",
       "        text-align: right;\n",
       "    }\n",
       "</style>\n",
       "<table border=\"1\" class=\"dataframe\">\n",
       "  <thead>\n",
       "    <tr style=\"text-align: right;\">\n",
       "      <th></th>\n",
       "      <th>10</th>\n",
       "    </tr>\n",
       "  </thead>\n",
       "  <tbody>\n",
       "    <tr>\n",
       "      <th>5</th>\n",
       "      <td>7.615451</td>\n",
       "    </tr>\n",
       "    <tr>\n",
       "      <th>0</th>\n",
       "      <td>7.380693</td>\n",
       "    </tr>\n",
       "    <tr>\n",
       "      <th>19</th>\n",
       "      <td>7.154092</td>\n",
       "    </tr>\n",
       "    <tr>\n",
       "      <th>256</th>\n",
       "      <td>6.526580</td>\n",
       "    </tr>\n",
       "    <tr>\n",
       "      <th>381</th>\n",
       "      <td>6.040718</td>\n",
       "    </tr>\n",
       "  </tbody>\n",
       "</table>\n",
       "</div>"
      ],
      "text/plain": [
       "           10\n",
       "5    7.615451\n",
       "0    7.380693\n",
       "19   7.154092\n",
       "256  6.526580\n",
       "381  6.040718"
      ]
     },
     "execution_count": 535,
     "metadata": {},
     "output_type": "execute_result"
    }
   ],
   "source": [
    "recommended_article_df.head()"
   ]
  },
  {
   "cell_type": "code",
   "execution_count": 536,
   "metadata": {},
   "outputs": [],
   "source": [
    "recommended_article_df.reset_index(inplace=True)"
   ]
  },
  {
   "cell_type": "code",
   "execution_count": 537,
   "metadata": {},
   "outputs": [
    {
     "data": {
      "text/html": [
       "<div>\n",
       "<style scoped>\n",
       "    .dataframe tbody tr th:only-of-type {\n",
       "        vertical-align: middle;\n",
       "    }\n",
       "\n",
       "    .dataframe tbody tr th {\n",
       "        vertical-align: top;\n",
       "    }\n",
       "\n",
       "    .dataframe thead th {\n",
       "        text-align: right;\n",
       "    }\n",
       "</style>\n",
       "<table border=\"1\" class=\"dataframe\">\n",
       "  <thead>\n",
       "    <tr style=\"text-align: right;\">\n",
       "      <th></th>\n",
       "      <th>index</th>\n",
       "      <th>10</th>\n",
       "    </tr>\n",
       "  </thead>\n",
       "  <tbody>\n",
       "    <tr>\n",
       "      <th>0</th>\n",
       "      <td>5</td>\n",
       "      <td>7.615451</td>\n",
       "    </tr>\n",
       "    <tr>\n",
       "      <th>1</th>\n",
       "      <td>0</td>\n",
       "      <td>7.380693</td>\n",
       "    </tr>\n",
       "    <tr>\n",
       "      <th>2</th>\n",
       "      <td>19</td>\n",
       "      <td>7.154092</td>\n",
       "    </tr>\n",
       "    <tr>\n",
       "      <th>3</th>\n",
       "      <td>256</td>\n",
       "      <td>6.526580</td>\n",
       "    </tr>\n",
       "    <tr>\n",
       "      <th>4</th>\n",
       "      <td>381</td>\n",
       "      <td>6.040718</td>\n",
       "    </tr>\n",
       "  </tbody>\n",
       "</table>\n",
       "</div>"
      ],
      "text/plain": [
       "   index        10\n",
       "0      5  7.615451\n",
       "1      0  7.380693\n",
       "2     19  7.154092\n",
       "3    256  6.526580\n",
       "4    381  6.040718"
      ]
     },
     "execution_count": 537,
     "metadata": {},
     "output_type": "execute_result"
    }
   ],
   "source": [
    "recommended_article_df.head()"
   ]
  },
  {
   "cell_type": "code",
   "execution_count": 538,
   "metadata": {},
   "outputs": [],
   "source": [
    "recommended_article_df.columns = ['item_idx', 'score']"
   ]
  },
  {
   "cell_type": "code",
   "execution_count": 539,
   "metadata": {},
   "outputs": [
    {
     "data": {
      "text/html": [
       "<div>\n",
       "<style scoped>\n",
       "    .dataframe tbody tr th:only-of-type {\n",
       "        vertical-align: middle;\n",
       "    }\n",
       "\n",
       "    .dataframe tbody tr th {\n",
       "        vertical-align: top;\n",
       "    }\n",
       "\n",
       "    .dataframe thead th {\n",
       "        text-align: right;\n",
       "    }\n",
       "</style>\n",
       "<table border=\"1\" class=\"dataframe\">\n",
       "  <thead>\n",
       "    <tr style=\"text-align: right;\">\n",
       "      <th></th>\n",
       "      <th>item_idx</th>\n",
       "      <th>score</th>\n",
       "    </tr>\n",
       "  </thead>\n",
       "  <tbody>\n",
       "    <tr>\n",
       "      <th>0</th>\n",
       "      <td>5</td>\n",
       "      <td>7.615451</td>\n",
       "    </tr>\n",
       "    <tr>\n",
       "      <th>1</th>\n",
       "      <td>0</td>\n",
       "      <td>7.380693</td>\n",
       "    </tr>\n",
       "    <tr>\n",
       "      <th>2</th>\n",
       "      <td>19</td>\n",
       "      <td>7.154092</td>\n",
       "    </tr>\n",
       "    <tr>\n",
       "      <th>3</th>\n",
       "      <td>256</td>\n",
       "      <td>6.526580</td>\n",
       "    </tr>\n",
       "    <tr>\n",
       "      <th>4</th>\n",
       "      <td>381</td>\n",
       "      <td>6.040718</td>\n",
       "    </tr>\n",
       "  </tbody>\n",
       "</table>\n",
       "</div>"
      ],
      "text/plain": [
       "   item_idx     score\n",
       "0         5  7.615451\n",
       "1         0  7.380693\n",
       "2        19  7.154092\n",
       "3       256  6.526580\n",
       "4       381  6.040718"
      ]
     },
     "execution_count": 539,
     "metadata": {},
     "output_type": "execute_result"
    }
   ],
   "source": [
    "recommended_article_df.head()"
   ]
  },
  {
   "cell_type": "code",
   "execution_count": 540,
   "metadata": {},
   "outputs": [],
   "source": [
    "merged_user = pd.merge(recommended_article_df, consumer_all_detail[consumer_all_detail.consumer_id!=8239286975497580612], on='item_idx', how='left') #merge to get original ids"
   ]
  },
  {
   "cell_type": "code",
   "execution_count": 541,
   "metadata": {},
   "outputs": [
    {
     "data": {
      "text/html": [
       "<div>\n",
       "<style scoped>\n",
       "    .dataframe tbody tr th:only-of-type {\n",
       "        vertical-align: middle;\n",
       "    }\n",
       "\n",
       "    .dataframe tbody tr th {\n",
       "        vertical-align: top;\n",
       "    }\n",
       "\n",
       "    .dataframe thead th {\n",
       "        text-align: right;\n",
       "    }\n",
       "</style>\n",
       "<table border=\"1\" class=\"dataframe\">\n",
       "  <thead>\n",
       "    <tr style=\"text-align: right;\">\n",
       "      <th></th>\n",
       "      <th>item_idx</th>\n",
       "      <th>score</th>\n",
       "      <th>item_id</th>\n",
       "      <th>consumer_id</th>\n",
       "      <th>ratings</th>\n",
       "      <th>consumer_idx</th>\n",
       "    </tr>\n",
       "  </thead>\n",
       "  <tbody>\n",
       "    <tr>\n",
       "      <th>0</th>\n",
       "      <td>5</td>\n",
       "      <td>7.615451</td>\n",
       "      <td>-1492913151930215984</td>\n",
       "      <td>4254153380739593270</td>\n",
       "      <td>1</td>\n",
       "      <td>7</td>\n",
       "    </tr>\n",
       "    <tr>\n",
       "      <th>1</th>\n",
       "      <td>5</td>\n",
       "      <td>7.615451</td>\n",
       "      <td>-1492913151930215984</td>\n",
       "      <td>4254153380739593270</td>\n",
       "      <td>1</td>\n",
       "      <td>7</td>\n",
       "    </tr>\n",
       "    <tr>\n",
       "      <th>2</th>\n",
       "      <td>5</td>\n",
       "      <td>7.615451</td>\n",
       "      <td>-1492913151930215984</td>\n",
       "      <td>3609194402293569455</td>\n",
       "      <td>1</td>\n",
       "      <td>6</td>\n",
       "    </tr>\n",
       "    <tr>\n",
       "      <th>3</th>\n",
       "      <td>5</td>\n",
       "      <td>7.615451</td>\n",
       "      <td>-1492913151930215984</td>\n",
       "      <td>3609194402293569455</td>\n",
       "      <td>1</td>\n",
       "      <td>6</td>\n",
       "    </tr>\n",
       "    <tr>\n",
       "      <th>4</th>\n",
       "      <td>5</td>\n",
       "      <td>7.615451</td>\n",
       "      <td>-1492913151930215984</td>\n",
       "      <td>7022645187549453002</td>\n",
       "      <td>1</td>\n",
       "      <td>14</td>\n",
       "    </tr>\n",
       "    <tr>\n",
       "      <th>5</th>\n",
       "      <td>5</td>\n",
       "      <td>7.615451</td>\n",
       "      <td>-1492913151930215984</td>\n",
       "      <td>7022645187549453002</td>\n",
       "      <td>1</td>\n",
       "      <td>14</td>\n",
       "    </tr>\n",
       "    <tr>\n",
       "      <th>6</th>\n",
       "      <td>5</td>\n",
       "      <td>7.615451</td>\n",
       "      <td>-1492913151930215984</td>\n",
       "      <td>3609194402293569455</td>\n",
       "      <td>2</td>\n",
       "      <td>6</td>\n",
       "    </tr>\n",
       "    <tr>\n",
       "      <th>7</th>\n",
       "      <td>5</td>\n",
       "      <td>7.615451</td>\n",
       "      <td>-1492913151930215984</td>\n",
       "      <td>3024551089288349719</td>\n",
       "      <td>1</td>\n",
       "      <td>473</td>\n",
       "    </tr>\n",
       "    <tr>\n",
       "      <th>8</th>\n",
       "      <td>5</td>\n",
       "      <td>7.615451</td>\n",
       "      <td>-1492913151930215984</td>\n",
       "      <td>3024551089288349719</td>\n",
       "      <td>1</td>\n",
       "      <td>473</td>\n",
       "    </tr>\n",
       "    <tr>\n",
       "      <th>9</th>\n",
       "      <td>5</td>\n",
       "      <td>7.615451</td>\n",
       "      <td>-1492913151930215984</td>\n",
       "      <td>7774613525190730745</td>\n",
       "      <td>1</td>\n",
       "      <td>339</td>\n",
       "    </tr>\n",
       "  </tbody>\n",
       "</table>\n",
       "</div>"
      ],
      "text/plain": [
       "   item_idx     score              item_id          consumer_id  ratings  \\\n",
       "0         5  7.615451 -1492913151930215984  4254153380739593270        1   \n",
       "1         5  7.615451 -1492913151930215984  4254153380739593270        1   \n",
       "2         5  7.615451 -1492913151930215984  3609194402293569455        1   \n",
       "3         5  7.615451 -1492913151930215984  3609194402293569455        1   \n",
       "4         5  7.615451 -1492913151930215984  7022645187549453002        1   \n",
       "5         5  7.615451 -1492913151930215984  7022645187549453002        1   \n",
       "6         5  7.615451 -1492913151930215984  3609194402293569455        2   \n",
       "7         5  7.615451 -1492913151930215984  3024551089288349719        1   \n",
       "8         5  7.615451 -1492913151930215984  3024551089288349719        1   \n",
       "9         5  7.615451 -1492913151930215984  7774613525190730745        1   \n",
       "\n",
       "   consumer_idx  \n",
       "0             7  \n",
       "1             7  \n",
       "2             6  \n",
       "3             6  \n",
       "4            14  \n",
       "5            14  \n",
       "6             6  \n",
       "7           473  \n",
       "8           473  \n",
       "9           339  "
      ]
     },
     "execution_count": 541,
     "metadata": {},
     "output_type": "execute_result"
    }
   ],
   "source": [
    "merged_user.head(10)"
   ]
  },
  {
   "cell_type": "code",
   "execution_count": 542,
   "metadata": {},
   "outputs": [],
   "source": [
    "merged_user_x_article=pd.merge(merged_user[['item_id','score']],platform_content_en[['item_id','title']],on='item_id', how='left') #merge to get title"
   ]
  },
  {
   "cell_type": "code",
   "execution_count": 543,
   "metadata": {},
   "outputs": [
    {
     "data": {
      "text/html": [
       "<div>\n",
       "<style scoped>\n",
       "    .dataframe tbody tr th:only-of-type {\n",
       "        vertical-align: middle;\n",
       "    }\n",
       "\n",
       "    .dataframe tbody tr th {\n",
       "        vertical-align: top;\n",
       "    }\n",
       "\n",
       "    .dataframe thead th {\n",
       "        text-align: right;\n",
       "    }\n",
       "</style>\n",
       "<table border=\"1\" class=\"dataframe\">\n",
       "  <thead>\n",
       "    <tr style=\"text-align: right;\">\n",
       "      <th></th>\n",
       "      <th>item_id</th>\n",
       "      <th>score</th>\n",
       "      <th>title</th>\n",
       "    </tr>\n",
       "  </thead>\n",
       "  <tbody>\n",
       "    <tr>\n",
       "      <th>0</th>\n",
       "      <td>-1492913151930215984</td>\n",
       "      <td>7.615451</td>\n",
       "      <td>Chrome DevTools - Console API Reference</td>\n",
       "    </tr>\n",
       "    <tr>\n",
       "      <th>1</th>\n",
       "      <td>-1492913151930215984</td>\n",
       "      <td>7.615451</td>\n",
       "      <td>Chrome DevTools - Console API Reference</td>\n",
       "    </tr>\n",
       "    <tr>\n",
       "      <th>2</th>\n",
       "      <td>-1492913151930215984</td>\n",
       "      <td>7.615451</td>\n",
       "      <td>Chrome DevTools - Console API Reference</td>\n",
       "    </tr>\n",
       "    <tr>\n",
       "      <th>3</th>\n",
       "      <td>-1492913151930215984</td>\n",
       "      <td>7.615451</td>\n",
       "      <td>Chrome DevTools - Console API Reference</td>\n",
       "    </tr>\n",
       "    <tr>\n",
       "      <th>4</th>\n",
       "      <td>-1492913151930215984</td>\n",
       "      <td>7.615451</td>\n",
       "      <td>Chrome DevTools - Console API Reference</td>\n",
       "    </tr>\n",
       "    <tr>\n",
       "      <th>...</th>\n",
       "      <td>...</td>\n",
       "      <td>...</td>\n",
       "      <td>...</td>\n",
       "    </tr>\n",
       "    <tr>\n",
       "      <th>71964</th>\n",
       "      <td>5653476548835345267</td>\n",
       "      <td>0.000000</td>\n",
       "      <td>The New Wall Street: Even Big Banks Want Help Navigating Markets</td>\n",
       "    </tr>\n",
       "    <tr>\n",
       "      <th>71965</th>\n",
       "      <td>5653476548835345267</td>\n",
       "      <td>0.000000</td>\n",
       "      <td>The New Wall Street: Even Big Banks Want Help Navigating Markets</td>\n",
       "    </tr>\n",
       "    <tr>\n",
       "      <th>71966</th>\n",
       "      <td>5653476548835345267</td>\n",
       "      <td>0.000000</td>\n",
       "      <td>The New Wall Street: Even Big Banks Want Help Navigating Markets</td>\n",
       "    </tr>\n",
       "    <tr>\n",
       "      <th>71967</th>\n",
       "      <td>-6725796505137573953</td>\n",
       "      <td>0.000000</td>\n",
       "      <td>Stratumn is building a sort of Heroku for blockchain applications - The Bitcoin Channel</td>\n",
       "    </tr>\n",
       "    <tr>\n",
       "      <th>71968</th>\n",
       "      <td>-6725796505137573953</td>\n",
       "      <td>0.000000</td>\n",
       "      <td>Stratumn is building a sort of Heroku for blockchain applications - The Bitcoin Channel</td>\n",
       "    </tr>\n",
       "  </tbody>\n",
       "</table>\n",
       "<p>71969 rows × 3 columns</p>\n",
       "</div>"
      ],
      "text/plain": [
       "                   item_id     score  \\\n",
       "0     -1492913151930215984  7.615451   \n",
       "1     -1492913151930215984  7.615451   \n",
       "2     -1492913151930215984  7.615451   \n",
       "3     -1492913151930215984  7.615451   \n",
       "4     -1492913151930215984  7.615451   \n",
       "...                    ...       ...   \n",
       "71964  5653476548835345267  0.000000   \n",
       "71965  5653476548835345267  0.000000   \n",
       "71966  5653476548835345267  0.000000   \n",
       "71967 -6725796505137573953  0.000000   \n",
       "71968 -6725796505137573953  0.000000   \n",
       "\n",
       "                                                                                         title  \n",
       "0                                                      Chrome DevTools - Console API Reference  \n",
       "1                                                      Chrome DevTools - Console API Reference  \n",
       "2                                                      Chrome DevTools - Console API Reference  \n",
       "3                                                      Chrome DevTools - Console API Reference  \n",
       "4                                                      Chrome DevTools - Console API Reference  \n",
       "...                                                                                        ...  \n",
       "71964                         The New Wall Street: Even Big Banks Want Help Navigating Markets  \n",
       "71965                         The New Wall Street: Even Big Banks Want Help Navigating Markets  \n",
       "71966                         The New Wall Street: Even Big Banks Want Help Navigating Markets  \n",
       "71967  Stratumn is building a sort of Heroku for blockchain applications - The Bitcoin Channel  \n",
       "71968  Stratumn is building a sort of Heroku for blockchain applications - The Bitcoin Channel  \n",
       "\n",
       "[71969 rows x 3 columns]"
      ]
     },
     "execution_count": 543,
     "metadata": {},
     "output_type": "execute_result"
    }
   ],
   "source": [
    "merged_user_x_article"
   ]
  },
  {
   "cell_type": "code",
   "execution_count": 544,
   "metadata": {},
   "outputs": [],
   "source": [
    "merged_user_x_article['user_score_normalized'] = (merged_user_x_article['score']-min(merged_user_x_article['score'])) / (max(merged_user_x_article['score']) - min(merged_user_x_article['score']))"
   ]
  },
  {
   "cell_type": "code",
   "execution_count": 545,
   "metadata": {},
   "outputs": [],
   "source": [
    "merged_user_x_article = merged_user_x_article.drop_duplicates(subset=None, keep='first', inplace=False) \n",
    "merged_user_x_article = merged_user_x_article[merged_user_x_article.title.notna()]"
   ]
  },
  {
   "cell_type": "code",
   "execution_count": 546,
   "metadata": {},
   "outputs": [
    {
     "data": {
      "text/plain": [
       "(2106, 4)"
      ]
     },
     "execution_count": 546,
     "metadata": {},
     "output_type": "execute_result"
    }
   ],
   "source": [
    "merged_user_x_article.shape"
   ]
  },
  {
   "cell_type": "code",
   "execution_count": 547,
   "metadata": {},
   "outputs": [],
   "source": [
    "top10=merged_user_x_article.head(10)"
   ]
  },
  {
   "cell_type": "code",
   "execution_count": 548,
   "metadata": {},
   "outputs": [
    {
     "data": {
      "text/html": [
       "<div>\n",
       "<style scoped>\n",
       "    .dataframe tbody tr th:only-of-type {\n",
       "        vertical-align: middle;\n",
       "    }\n",
       "\n",
       "    .dataframe tbody tr th {\n",
       "        vertical-align: top;\n",
       "    }\n",
       "\n",
       "    .dataframe thead th {\n",
       "        text-align: right;\n",
       "    }\n",
       "</style>\n",
       "<table border=\"1\" class=\"dataframe\">\n",
       "  <thead>\n",
       "    <tr style=\"text-align: right;\">\n",
       "      <th></th>\n",
       "      <th>item_id</th>\n",
       "      <th>title</th>\n",
       "    </tr>\n",
       "  </thead>\n",
       "  <tbody>\n",
       "    <tr>\n",
       "      <th>0</th>\n",
       "      <td>-1492913151930215984</td>\n",
       "      <td>Chrome DevTools - Console API Reference</td>\n",
       "    </tr>\n",
       "    <tr>\n",
       "      <th>54</th>\n",
       "      <td>-3499919498720038879</td>\n",
       "      <td>Hiri wants to fix the workplace email problem</td>\n",
       "    </tr>\n",
       "    <tr>\n",
       "      <th>74</th>\n",
       "      <td>-4205346868684833897</td>\n",
       "      <td>Google launches Springboard, an AI-powered assistant for its enterprise customers</td>\n",
       "    </tr>\n",
       "    <tr>\n",
       "      <th>152</th>\n",
       "      <td>-6858665134018491791</td>\n",
       "      <td>Chat Smarter with Allo</td>\n",
       "    </tr>\n",
       "    <tr>\n",
       "      <th>230</th>\n",
       "      <td>8969476626572775042</td>\n",
       "      <td>What it Means to Be a 'Growth Hacker' According to Julie Zhou</td>\n",
       "    </tr>\n",
       "    <tr>\n",
       "      <th>239</th>\n",
       "      <td>-4615575698508618335</td>\n",
       "      <td>Facebook Messenger bots are here and they want to kill apps</td>\n",
       "    </tr>\n",
       "    <tr>\n",
       "      <th>245</th>\n",
       "      <td>-1590585250246572231</td>\n",
       "      <td>Why and How to Avoid Hamburger Menus - Louie A. - Mobile UX Design</td>\n",
       "    </tr>\n",
       "    <tr>\n",
       "      <th>276</th>\n",
       "      <td>8657408509986329668</td>\n",
       "      <td>Pull request first - Practical Blend</td>\n",
       "    </tr>\n",
       "    <tr>\n",
       "      <th>567</th>\n",
       "      <td>-3027055440570405664</td>\n",
       "      <td>Joel on Software</td>\n",
       "    </tr>\n",
       "    <tr>\n",
       "      <th>651</th>\n",
       "      <td>865977730460714234</td>\n",
       "      <td>Waking Ned Devine (1998)</td>\n",
       "    </tr>\n",
       "  </tbody>\n",
       "</table>\n",
       "</div>"
      ],
      "text/plain": [
       "                 item_id  \\\n",
       "0   -1492913151930215984   \n",
       "54  -3499919498720038879   \n",
       "74  -4205346868684833897   \n",
       "152 -6858665134018491791   \n",
       "230  8969476626572775042   \n",
       "239 -4615575698508618335   \n",
       "245 -1590585250246572231   \n",
       "276  8657408509986329668   \n",
       "567 -3027055440570405664   \n",
       "651   865977730460714234   \n",
       "\n",
       "                                                                                 title  \n",
       "0                                              Chrome DevTools - Console API Reference  \n",
       "54                                       Hiri wants to fix the workplace email problem  \n",
       "74   Google launches Springboard, an AI-powered assistant for its enterprise customers  \n",
       "152                                                             Chat Smarter with Allo  \n",
       "230                      What it Means to Be a 'Growth Hacker' According to Julie Zhou  \n",
       "239                        Facebook Messenger bots are here and they want to kill apps  \n",
       "245                 Why and How to Avoid Hamburger Menus - Louie A. - Mobile UX Design  \n",
       "276                                               Pull request first - Practical Blend  \n",
       "567                                                                   Joel on Software  \n",
       "651                                                           Waking Ned Devine (1998)  "
      ]
     },
     "execution_count": 548,
     "metadata": {},
     "output_type": "execute_result"
    }
   ],
   "source": [
    "top10[['item_id','title']]"
   ]
  },
  {
   "cell_type": "markdown",
   "metadata": {},
   "source": [
    "# Precision@K "
   ]
  },
  {
   "cell_type": "code",
   "execution_count": 549,
   "metadata": {},
   "outputs": [],
   "source": [
    "pred_set = merged_user_x_article['item_id'].values[:10]"
   ]
  },
  {
   "cell_type": "code",
   "execution_count": 550,
   "metadata": {},
   "outputs": [
    {
     "data": {
      "text/plain": [
       "array([-1492913151930215984, -3499919498720038879, -4205346868684833897,\n",
       "       -6858665134018491791,  8969476626572775042, -4615575698508618335,\n",
       "       -1590585250246572231,  8657408509986329668, -3027055440570405664,\n",
       "         865977730460714234], dtype=int64)"
      ]
     },
     "execution_count": 550,
     "metadata": {},
     "output_type": "execute_result"
    }
   ],
   "source": [
    "pred_set"
   ]
  },
  {
   "cell_type": "code",
   "execution_count": 551,
   "metadata": {},
   "outputs": [],
   "source": [
    "ratings_filtered = consumer_all_detail[(consumer_all_detail['consumer_id']==8239286975497580612) & (consumer_all_detail['ratings']>=3)].sort_values(by='ratings',ascending=False)"
   ]
  },
  {
   "cell_type": "code",
   "execution_count": 552,
   "metadata": {},
   "outputs": [
    {
     "data": {
      "text/html": [
       "<div>\n",
       "<style scoped>\n",
       "    .dataframe tbody tr th:only-of-type {\n",
       "        vertical-align: middle;\n",
       "    }\n",
       "\n",
       "    .dataframe tbody tr th {\n",
       "        vertical-align: top;\n",
       "    }\n",
       "\n",
       "    .dataframe thead th {\n",
       "        text-align: right;\n",
       "    }\n",
       "</style>\n",
       "<table border=\"1\" class=\"dataframe\">\n",
       "  <thead>\n",
       "    <tr style=\"text-align: right;\">\n",
       "      <th></th>\n",
       "      <th>item_id</th>\n",
       "      <th>consumer_id</th>\n",
       "      <th>ratings</th>\n",
       "      <th>item_idx</th>\n",
       "      <th>consumer_idx</th>\n",
       "    </tr>\n",
       "  </thead>\n",
       "  <tbody>\n",
       "    <tr>\n",
       "      <th>14367</th>\n",
       "      <td>8402348887626635381</td>\n",
       "      <td>8239286975497580612</td>\n",
       "      <td>3</td>\n",
       "      <td>306</td>\n",
       "      <td>10</td>\n",
       "    </tr>\n",
       "    <tr>\n",
       "      <th>30446</th>\n",
       "      <td>3322348437880079228</td>\n",
       "      <td>8239286975497580612</td>\n",
       "      <td>3</td>\n",
       "      <td>1030</td>\n",
       "      <td>10</td>\n",
       "    </tr>\n",
       "    <tr>\n",
       "      <th>53579</th>\n",
       "      <td>5410293063635507608</td>\n",
       "      <td>8239286975497580612</td>\n",
       "      <td>3</td>\n",
       "      <td>2301</td>\n",
       "      <td>10</td>\n",
       "    </tr>\n",
       "  </tbody>\n",
       "</table>\n",
       "</div>"
      ],
      "text/plain": [
       "                   item_id          consumer_id  ratings  item_idx  \\\n",
       "14367  8402348887626635381  8239286975497580612        3       306   \n",
       "30446  3322348437880079228  8239286975497580612        3      1030   \n",
       "53579  5410293063635507608  8239286975497580612        3      2301   \n",
       "\n",
       "       consumer_idx  \n",
       "14367            10  \n",
       "30446            10  \n",
       "53579            10  "
      ]
     },
     "execution_count": 552,
     "metadata": {},
     "output_type": "execute_result"
    }
   ],
   "source": [
    "ratings_filtered.head()"
   ]
  },
  {
   "cell_type": "markdown",
   "metadata": {},
   "source": [
    "### Inference\n",
    "### Out of 10 recommended articles, user liked 3 of them, hence precision@10=30%"
   ]
  },
  {
   "cell_type": "code",
   "execution_count": 553,
   "metadata": {},
   "outputs": [],
   "source": [
    "def user_based_collaborative(user_id): #creating func for user based filtering\n",
    "    recommended_article_df = pd.DataFrame(prediction_df.iloc[consumer_dict[user_id]].sort_values(ascending=False))\n",
    "    recommended_article_df.reset_index(inplace=True)\n",
    "    recommended_article_df.columns = ['item_idx', 'score']\n",
    "    \n",
    "    #filtered and merged data. Removing those articles which user has already read\n",
    "    merged_user = pd.merge(recommended_article_df,consumer_all_detail[consumer_all_detail.consumer_id!=user_id] , on='item_idx', how='left') \n",
    "    merged_user_title=pd.merge(merged_user[['item_id','score']],platform_content_en[['item_id','title']],on='item_id', how='left')\n",
    "     \n",
    "    #remove duplicates by keeping first original rows\n",
    "    user_fil_df = merged_user_title.drop_duplicates(subset=None, keep='first', inplace=False)\n",
    "    \n",
    "    #remove titles which are null\n",
    "    user_fil_df = user_fil_df[user_fil_df['title'].notna()]\n",
    "    \n",
    "    #normalize score\n",
    "    user_fil_df['user_score_normalized'] = (user_fil_df['score']-min(user_fil_df['score'])) / (max(user_fil_df['score']) - min(user_fil_df['score'])) \n",
    "    return user_fil_df\n",
    "\n",
    "    "
   ]
  },
  {
   "cell_type": "code",
   "execution_count": 554,
   "metadata": {},
   "outputs": [
    {
     "name": "stdout",
     "output_type": "stream",
     "text": [
      "USER BASED collaborative recommendation model output for consumer id -709287718034731589\n"
     ]
    },
    {
     "data": {
      "text/html": [
       "<div>\n",
       "<style scoped>\n",
       "    .dataframe tbody tr th:only-of-type {\n",
       "        vertical-align: middle;\n",
       "    }\n",
       "\n",
       "    .dataframe tbody tr th {\n",
       "        vertical-align: top;\n",
       "    }\n",
       "\n",
       "    .dataframe thead th {\n",
       "        text-align: right;\n",
       "    }\n",
       "</style>\n",
       "<table border=\"1\" class=\"dataframe\">\n",
       "  <thead>\n",
       "    <tr style=\"text-align: right;\">\n",
       "      <th></th>\n",
       "      <th>item_id</th>\n",
       "      <th>title</th>\n",
       "    </tr>\n",
       "  </thead>\n",
       "  <tbody>\n",
       "    <tr>\n",
       "      <th>4467</th>\n",
       "      <td>-1.523691e+15</td>\n",
       "      <td>Measuring email effectiveness in retail banking</td>\n",
       "    </tr>\n",
       "    <tr>\n",
       "      <th>5153</th>\n",
       "      <td>-2.871289e+15</td>\n",
       "      <td>Dilma Rousseff's Impeachment Isn't a Coup, It's a Cover-Up</td>\n",
       "    </tr>\n",
       "    <tr>\n",
       "      <th>9456</th>\n",
       "      <td>-1.254907e+18</td>\n",
       "      <td>Enterprise developers look out: this week on Google Cloud Platform</td>\n",
       "    </tr>\n",
       "    <tr>\n",
       "      <th>12654</th>\n",
       "      <td>1.024703e+16</td>\n",
       "      <td>[Tools] 12 Apps for Live-streaming Video</td>\n",
       "    </tr>\n",
       "    <tr>\n",
       "      <th>20383</th>\n",
       "      <td>2.308074e+17</td>\n",
       "      <td>Ethereum Used for 'First' Paid Energy Trade Using Blockchain Tech - CoinDesk</td>\n",
       "    </tr>\n",
       "    <tr>\n",
       "      <th>31750</th>\n",
       "      <td>-1.975048e+17</td>\n",
       "      <td>Tom Brady: Business Guru. Who Knew?</td>\n",
       "    </tr>\n",
       "    <tr>\n",
       "      <th>32548</th>\n",
       "      <td>-1.151035e+18</td>\n",
       "      <td>New JavaScript library brings Java to browsers without applets</td>\n",
       "    </tr>\n",
       "    <tr>\n",
       "      <th>35997</th>\n",
       "      <td>-6.051144e+17</td>\n",
       "      <td>A sneak peek at Google's upcoming travel app, Trips</td>\n",
       "    </tr>\n",
       "    <tr>\n",
       "      <th>44969</th>\n",
       "      <td>-1.150591e+18</td>\n",
       "      <td>Digitization and The Loss of Iconography - Posted by SYPartners</td>\n",
       "    </tr>\n",
       "    <tr>\n",
       "      <th>46861</th>\n",
       "      <td>3.134908e+16</td>\n",
       "      <td>9 trends you need to watch at CES 2017, from 'AI' assistants to 'AR' devices</td>\n",
       "    </tr>\n",
       "  </tbody>\n",
       "</table>\n",
       "</div>"
      ],
      "text/plain": [
       "            item_id  \\\n",
       "4467  -1.523691e+15   \n",
       "5153  -2.871289e+15   \n",
       "9456  -1.254907e+18   \n",
       "12654  1.024703e+16   \n",
       "20383  2.308074e+17   \n",
       "31750 -1.975048e+17   \n",
       "32548 -1.151035e+18   \n",
       "35997 -6.051144e+17   \n",
       "44969 -1.150591e+18   \n",
       "46861  3.134908e+16   \n",
       "\n",
       "                                                                              title  \n",
       "4467                                Measuring email effectiveness in retail banking  \n",
       "5153                     Dilma Rousseff's Impeachment Isn't a Coup, It's a Cover-Up  \n",
       "9456             Enterprise developers look out: this week on Google Cloud Platform  \n",
       "12654                                      [Tools] 12 Apps for Live-streaming Video  \n",
       "20383  Ethereum Used for 'First' Paid Energy Trade Using Blockchain Tech - CoinDesk  \n",
       "31750                                           Tom Brady: Business Guru. Who Knew?  \n",
       "32548                New JavaScript library brings Java to browsers without applets  \n",
       "35997                           A sneak peek at Google's upcoming travel app, Trips  \n",
       "44969               Digitization and The Loss of Iconography - Posted by SYPartners  \n",
       "46861  9 trends you need to watch at CES 2017, from 'AI' assistants to 'AR' devices  "
      ]
     },
     "execution_count": 554,
     "metadata": {},
     "output_type": "execute_result"
    }
   ],
   "source": [
    "print(\"USER BASED collaborative recommendation model output for consumer id -709287718034731589\")\n",
    "user_fil_df=user_based_collaborative(-709287718034731589)\n",
    "top10=user_fil_df.head(10)\n",
    "top10[['item_id','title']]"
   ]
  },
  {
   "cell_type": "code",
   "execution_count": null,
   "metadata": {},
   "outputs": [],
   "source": []
  },
  {
   "cell_type": "code",
   "execution_count": null,
   "metadata": {},
   "outputs": [],
   "source": []
  },
  {
   "cell_type": "markdown",
   "metadata": {},
   "source": [
    "# Collaborative Filtering: Item Based Recommendations"
   ]
  },
  {
   "cell_type": "code",
   "execution_count": 555,
   "metadata": {},
   "outputs": [
    {
     "data": {
      "text/plain": [
       "(1895, 2939)"
      ]
     },
     "execution_count": 555,
     "metadata": {},
     "output_type": "execute_result"
    }
   ],
   "source": [
    "n_users, n_items"
   ]
  },
  {
   "cell_type": "code",
   "execution_count": 556,
   "metadata": {},
   "outputs": [
    {
     "data": {
      "text/plain": [
       "(1895, 2939)"
      ]
     },
     "execution_count": 556,
     "metadata": {},
     "output_type": "execute_result"
    }
   ],
   "source": [
    "data_matrix_full.shape"
   ]
  },
  {
   "cell_type": "code",
   "execution_count": 557,
   "metadata": {},
   "outputs": [],
   "source": [
    "item_matrix=data_matrix_full.T"
   ]
  },
  {
   "cell_type": "code",
   "execution_count": 558,
   "metadata": {},
   "outputs": [
    {
     "data": {
      "text/plain": [
       "array([[1., 1., 3., ..., 0., 0., 0.],\n",
       "       [1., 1., 0., ..., 0., 0., 0.],\n",
       "       [0., 1., 0., ..., 0., 0., 0.],\n",
       "       ...,\n",
       "       [0., 0., 0., ..., 0., 0., 0.],\n",
       "       [0., 0., 0., ..., 0., 0., 0.],\n",
       "       [3., 0., 0., ..., 0., 0., 1.]])"
      ]
     },
     "execution_count": 558,
     "metadata": {},
     "output_type": "execute_result"
    }
   ],
   "source": [
    "item_matrix"
   ]
  },
  {
   "cell_type": "code",
   "execution_count": 559,
   "metadata": {},
   "outputs": [
    {
     "data": {
      "text/plain": [
       "(2939, 1895)"
      ]
     },
     "execution_count": 559,
     "metadata": {},
     "output_type": "execute_result"
    }
   ],
   "source": [
    "item_matrix.shape"
   ]
  },
  {
   "cell_type": "markdown",
   "metadata": {},
   "source": [
    "# Pairwise Distance"
   ]
  },
  {
   "cell_type": "markdown",
   "metadata": {},
   "source": [
    "## Article pairwise similarity distance"
   ]
  },
  {
   "cell_type": "code",
   "execution_count": 560,
   "metadata": {},
   "outputs": [],
   "source": [
    "item_similarity = 1- pairwise_distances(item_matrix, metric='cosine')\n"
   ]
  },
  {
   "cell_type": "code",
   "execution_count": 561,
   "metadata": {},
   "outputs": [
    {
     "data": {
      "text/plain": [
       "array([[1.        , 0.09958483, 0.01181799, ..., 0.        , 0.        ,\n",
       "        0.16308074],\n",
       "       [0.09958483, 1.        , 0.03663717, ..., 0.        , 0.        ,\n",
       "        0.05347372],\n",
       "       [0.01181799, 0.03663717, 1.        , ..., 0.        , 0.        ,\n",
       "        0.        ],\n",
       "       ...,\n",
       "       [0.        , 0.        , 0.        , ..., 1.        , 0.        ,\n",
       "        0.        ],\n",
       "       [0.        , 0.        , 0.        , ..., 0.        , 1.        ,\n",
       "        0.        ],\n",
       "       [0.16308074, 0.05347372, 0.        , ..., 0.        , 0.        ,\n",
       "        1.        ]])"
      ]
     },
     "execution_count": 561,
     "metadata": {},
     "output_type": "execute_result"
    }
   ],
   "source": [
    "item_similarity"
   ]
  },
  {
   "cell_type": "code",
   "execution_count": 562,
   "metadata": {},
   "outputs": [
    {
     "data": {
      "text/plain": [
       "(2939, 2939)"
      ]
     },
     "execution_count": 562,
     "metadata": {},
     "output_type": "execute_result"
    }
   ],
   "source": [
    "item_similarity.shape"
   ]
  },
  {
   "cell_type": "markdown",
   "metadata": {},
   "source": [
    "## Get similar recommended articles for a article id"
   ]
  },
  {
   "cell_type": "code",
   "execution_count": 563,
   "metadata": {},
   "outputs": [],
   "source": [
    "article_prediction = pd.DataFrame(item_similarity)"
   ]
  },
  {
   "cell_type": "code",
   "execution_count": 564,
   "metadata": {},
   "outputs": [
    {
     "data": {
      "text/html": [
       "<div>\n",
       "<style scoped>\n",
       "    .dataframe tbody tr th:only-of-type {\n",
       "        vertical-align: middle;\n",
       "    }\n",
       "\n",
       "    .dataframe tbody tr th {\n",
       "        vertical-align: top;\n",
       "    }\n",
       "\n",
       "    .dataframe thead th {\n",
       "        text-align: right;\n",
       "    }\n",
       "</style>\n",
       "<table border=\"1\" class=\"dataframe\">\n",
       "  <thead>\n",
       "    <tr style=\"text-align: right;\">\n",
       "      <th></th>\n",
       "      <th>0</th>\n",
       "      <th>1</th>\n",
       "      <th>2</th>\n",
       "      <th>3</th>\n",
       "      <th>4</th>\n",
       "      <th>5</th>\n",
       "      <th>6</th>\n",
       "      <th>7</th>\n",
       "      <th>8</th>\n",
       "      <th>9</th>\n",
       "      <th>...</th>\n",
       "      <th>2929</th>\n",
       "      <th>2930</th>\n",
       "      <th>2931</th>\n",
       "      <th>2932</th>\n",
       "      <th>2933</th>\n",
       "      <th>2934</th>\n",
       "      <th>2935</th>\n",
       "      <th>2936</th>\n",
       "      <th>2937</th>\n",
       "      <th>2938</th>\n",
       "    </tr>\n",
       "  </thead>\n",
       "  <tbody>\n",
       "    <tr>\n",
       "      <th>0</th>\n",
       "      <td>1.000000</td>\n",
       "      <td>0.099585</td>\n",
       "      <td>0.011818</td>\n",
       "      <td>0.135463</td>\n",
       "      <td>0.045771</td>\n",
       "      <td>0.299004</td>\n",
       "      <td>0.057683</td>\n",
       "      <td>0.094523</td>\n",
       "      <td>0.021988</td>\n",
       "      <td>0.068996</td>\n",
       "      <td>...</td>\n",
       "      <td>0.0</td>\n",
       "      <td>0.0</td>\n",
       "      <td>0.0</td>\n",
       "      <td>0.0</td>\n",
       "      <td>0.0</td>\n",
       "      <td>0.0</td>\n",
       "      <td>0.0</td>\n",
       "      <td>0.0</td>\n",
       "      <td>0.0</td>\n",
       "      <td>0.163081</td>\n",
       "    </tr>\n",
       "    <tr>\n",
       "      <th>1</th>\n",
       "      <td>0.099585</td>\n",
       "      <td>1.000000</td>\n",
       "      <td>0.036637</td>\n",
       "      <td>0.055993</td>\n",
       "      <td>0.063065</td>\n",
       "      <td>0.133820</td>\n",
       "      <td>0.019869</td>\n",
       "      <td>0.110877</td>\n",
       "      <td>0.011361</td>\n",
       "      <td>0.048612</td>\n",
       "      <td>...</td>\n",
       "      <td>0.0</td>\n",
       "      <td>0.0</td>\n",
       "      <td>0.0</td>\n",
       "      <td>0.0</td>\n",
       "      <td>0.0</td>\n",
       "      <td>0.0</td>\n",
       "      <td>0.0</td>\n",
       "      <td>0.0</td>\n",
       "      <td>0.0</td>\n",
       "      <td>0.053474</td>\n",
       "    </tr>\n",
       "    <tr>\n",
       "      <th>2</th>\n",
       "      <td>0.011818</td>\n",
       "      <td>0.036637</td>\n",
       "      <td>1.000000</td>\n",
       "      <td>0.000000</td>\n",
       "      <td>0.258199</td>\n",
       "      <td>0.071270</td>\n",
       "      <td>0.000000</td>\n",
       "      <td>0.043234</td>\n",
       "      <td>0.062017</td>\n",
       "      <td>0.053074</td>\n",
       "      <td>...</td>\n",
       "      <td>0.0</td>\n",
       "      <td>0.0</td>\n",
       "      <td>0.0</td>\n",
       "      <td>0.0</td>\n",
       "      <td>0.0</td>\n",
       "      <td>0.0</td>\n",
       "      <td>0.0</td>\n",
       "      <td>0.0</td>\n",
       "      <td>0.0</td>\n",
       "      <td>0.000000</td>\n",
       "    </tr>\n",
       "    <tr>\n",
       "      <th>3</th>\n",
       "      <td>0.135463</td>\n",
       "      <td>0.055993</td>\n",
       "      <td>0.000000</td>\n",
       "      <td>1.000000</td>\n",
       "      <td>0.032884</td>\n",
       "      <td>0.136154</td>\n",
       "      <td>0.062164</td>\n",
       "      <td>0.132150</td>\n",
       "      <td>0.059239</td>\n",
       "      <td>0.060836</td>\n",
       "      <td>...</td>\n",
       "      <td>0.0</td>\n",
       "      <td>0.0</td>\n",
       "      <td>0.0</td>\n",
       "      <td>0.0</td>\n",
       "      <td>0.0</td>\n",
       "      <td>0.0</td>\n",
       "      <td>0.0</td>\n",
       "      <td>0.0</td>\n",
       "      <td>0.0</td>\n",
       "      <td>0.050697</td>\n",
       "    </tr>\n",
       "    <tr>\n",
       "      <th>4</th>\n",
       "      <td>0.045771</td>\n",
       "      <td>0.063065</td>\n",
       "      <td>0.258199</td>\n",
       "      <td>0.032884</td>\n",
       "      <td>1.000000</td>\n",
       "      <td>0.099676</td>\n",
       "      <td>0.093352</td>\n",
       "      <td>0.148839</td>\n",
       "      <td>0.026688</td>\n",
       "      <td>0.022840</td>\n",
       "      <td>...</td>\n",
       "      <td>0.0</td>\n",
       "      <td>0.0</td>\n",
       "      <td>0.0</td>\n",
       "      <td>0.0</td>\n",
       "      <td>0.0</td>\n",
       "      <td>0.0</td>\n",
       "      <td>0.0</td>\n",
       "      <td>0.0</td>\n",
       "      <td>0.0</td>\n",
       "      <td>0.011420</td>\n",
       "    </tr>\n",
       "  </tbody>\n",
       "</table>\n",
       "<p>5 rows × 2939 columns</p>\n",
       "</div>"
      ],
      "text/plain": [
       "       0         1         2         3         4         5         6     \\\n",
       "0  1.000000  0.099585  0.011818  0.135463  0.045771  0.299004  0.057683   \n",
       "1  0.099585  1.000000  0.036637  0.055993  0.063065  0.133820  0.019869   \n",
       "2  0.011818  0.036637  1.000000  0.000000  0.258199  0.071270  0.000000   \n",
       "3  0.135463  0.055993  0.000000  1.000000  0.032884  0.136154  0.062164   \n",
       "4  0.045771  0.063065  0.258199  0.032884  1.000000  0.099676  0.093352   \n",
       "\n",
       "       7         8         9     ...  2929  2930  2931  2932  2933  2934  \\\n",
       "0  0.094523  0.021988  0.068996  ...   0.0   0.0   0.0   0.0   0.0   0.0   \n",
       "1  0.110877  0.011361  0.048612  ...   0.0   0.0   0.0   0.0   0.0   0.0   \n",
       "2  0.043234  0.062017  0.053074  ...   0.0   0.0   0.0   0.0   0.0   0.0   \n",
       "3  0.132150  0.059239  0.060836  ...   0.0   0.0   0.0   0.0   0.0   0.0   \n",
       "4  0.148839  0.026688  0.022840  ...   0.0   0.0   0.0   0.0   0.0   0.0   \n",
       "\n",
       "   2935  2936  2937      2938  \n",
       "0   0.0   0.0   0.0  0.163081  \n",
       "1   0.0   0.0   0.0  0.053474  \n",
       "2   0.0   0.0   0.0  0.000000  \n",
       "3   0.0   0.0   0.0  0.050697  \n",
       "4   0.0   0.0   0.0  0.011420  \n",
       "\n",
       "[5 rows x 2939 columns]"
      ]
     },
     "execution_count": 564,
     "metadata": {},
     "output_type": "execute_result"
    }
   ],
   "source": [
    "article_prediction.head()"
   ]
  },
  {
   "cell_type": "code",
   "execution_count": 565,
   "metadata": {},
   "outputs": [
    {
     "data": {
      "text/plain": [
       "(2939, 2939)"
      ]
     },
     "execution_count": 565,
     "metadata": {},
     "output_type": "execute_result"
    }
   ],
   "source": [
    "article_prediction.shape"
   ]
  },
  {
   "cell_type": "code",
   "execution_count": 566,
   "metadata": {},
   "outputs": [
    {
     "data": {
      "text/plain": [
       "{-3499919498720038879: 0,\n",
       " 8890720798209849691: 1,\n",
       " 310515487419366995: 2,\n",
       " -7820640624231356730: 3,\n",
       " -8864073373672512525: 4,\n",
       " -1492913151930215984: 5,\n",
       " 3064370296170038610: 6,\n",
       " 3460026829794173084: 7,\n",
       " 7763750328910542816: 8,\n",
       " 2372438485070148864: 9,\n",
       " -348408475077850711: 10,\n",
       " 372531153711028286: 11,\n",
       " 6521856301289868251: 12,\n",
       " -8142426490949346803: 13,\n",
       " 7943088471380012839: 14,\n",
       " 1441248639512899483: 15,\n",
       " 4306804750094230211: 16,\n",
       " 1582315529508020223: 17,\n",
       " -5924996404988010: 18,\n",
       " -4205346868684833897: 19,\n",
       " 7276478113479207148: 20,\n",
       " 3492139128548911513: 21,\n",
       " 3727587882617538492: 22,\n",
       " -692972306229904743: 23,\n",
       " -7777013191403056825: 24,\n",
       " -4615575698508618335: 25,\n",
       " 4761910285123871012: 26,\n",
       " 5688279681867464747: 27,\n",
       " -1470592927114056630: 28,\n",
       " 3172866488852888544: 29,\n",
       " -2261845840076552387: 30,\n",
       " -998818216447049475: 31,\n",
       " -2181071289972835602: 32,\n",
       " 1964631817676172382: 33,\n",
       " -8418620743404378592: 34,\n",
       " 1431351528207086249: 35,\n",
       " -8971085667828564532: 36,\n",
       " -5557505576293652420: 37,\n",
       " 5508043659570633487: 38,\n",
       " 5189433264884433830: 39,\n",
       " 2871648046424590878: 40,\n",
       " -7681408188643141872: 41,\n",
       " 5772565485432112058: 42,\n",
       " -5799839529845993396: 43,\n",
       " 3564394485543941353: 44,\n",
       " -8497895589300643949: 45,\n",
       " -4095842175692097942: 46,\n",
       " -9073210245497295284: 47,\n",
       " -7331393944609614247: 48,\n",
       " -6858240061363309239: 49,\n",
       " -7879096649194981370: 50,\n",
       " -9192549002213406534: 51,\n",
       " -7613994611628693820: 52,\n",
       " 5152069678055228801: 53,\n",
       " -5636731245639685654: 54,\n",
       " 7229629480273331039: 55,\n",
       " 7620697593009487898: 56,\n",
       " 4307023751244532288: 57,\n",
       " 7494490104520466117: 58,\n",
       " -3760006690401014603: 59,\n",
       " 3929262240746146680: 60,\n",
       " -861913102049789637: 61,\n",
       " 1618055575277164008: 62,\n",
       " -8518096793350810174: 63,\n",
       " 3151804887212279872: 64,\n",
       " 2048657552251060795: 65,\n",
       " 3269302169678465882: 66,\n",
       " -4228415104574264137: 67,\n",
       " 5206308811707978799: 68,\n",
       " -4070599188332885701: 69,\n",
       " 5964888566269323942: 70,\n",
       " 8657408509986329668: 71,\n",
       " -1046621686880462790: 72,\n",
       " 3611701510490148233: 73,\n",
       " 1415230502586719648: 74,\n",
       " 5843362068320522769: 75,\n",
       " 1061238072586805321: 76,\n",
       " 5189107351987144723: 77,\n",
       " -5997769775112032630: 78,\n",
       " -3027055440570405664: 79,\n",
       " -387651900461462767: 80,\n",
       " 3818189513627822856: 81,\n",
       " -5148591903395022444: 82,\n",
       " 2555983212310147009: 83,\n",
       " -6941221957775073810: 84,\n",
       " 4920704891238922872: 85,\n",
       " 6437568358552101410: 86,\n",
       " -21036008762564671: 87,\n",
       " 643905832258297060: 88,\n",
       " -5784991738549272379: 89,\n",
       " 2672238531812965181: 90,\n",
       " -411378842607264055: 91,\n",
       " 8396284143617057811: 92,\n",
       " 2858969450431709251: 93,\n",
       " 6583734846225935852: 94,\n",
       " 6245165134513326654: 95,\n",
       " 505090987429665116: 96,\n",
       " 809601605585939618: 97,\n",
       " -6713697716910928909: 98,\n",
       " -8773118241761372618: 99,\n",
       " -6133746337603876146: 100,\n",
       " -4110991218639855802: 101,\n",
       " -5431549861280885742: 102,\n",
       " -4760639635023250284: 103,\n",
       " -1039912738963181810: 104,\n",
       " -454649054276160610: 105,\n",
       " -5181489804915739633: 106,\n",
       " -1536771179525677307: 107,\n",
       " 3548262914600772288: 108,\n",
       " -6255158415883847921: 109,\n",
       " -4089455027188314262: 110,\n",
       " 3268064929368559554: 111,\n",
       " -1730766821655383888: 112,\n",
       " -4944551138301474550: 113,\n",
       " 764116021156146784: 114,\n",
       " 7572869304086387835: 115,\n",
       " 1738052593226421681: 116,\n",
       " 300937643051923212: 117,\n",
       " -1981734999963962468: 118,\n",
       " -5579492244806284582: 119,\n",
       " 5530820581773167955: 120,\n",
       " -5410531116380081703: 121,\n",
       " 9217155070834564627: 122,\n",
       " -2667874153709252756: 123,\n",
       " 6743199836219189414: 124,\n",
       " 374352050712569304: 125,\n",
       " -4844663695104994694: 126,\n",
       " 8712996026808754180: 127,\n",
       " 7933362470375280252: 128,\n",
       " -9076501258717815738: 129,\n",
       " 1434312143013787309: 130,\n",
       " -582471538642477927: 131,\n",
       " -8311338126170554747: 132,\n",
       " -4231142613423804992: 133,\n",
       " 1449689399273695199: 134,\n",
       " 7429409096643373334: 135,\n",
       " 4657430003888493310: 136,\n",
       " 1854874463930846880: 137,\n",
       " -3581194288660477595: 138,\n",
       " -330801551666885085: 139,\n",
       " 18930987176089166: 140,\n",
       " 5395784585257808296: 141,\n",
       " -3513515650250501785: 142,\n",
       " 817145340976958200: 143,\n",
       " -5363263367015469934: 144,\n",
       " -9019233957195913605: 145,\n",
       " -5791454671270548045: 146,\n",
       " 6062146090334604102: 147,\n",
       " -1556169727291354289: 148,\n",
       " 885269153482673496: 149,\n",
       " 9215261273565326920: 150,\n",
       " 2887151738440339754: 151,\n",
       " -1617279065634731389: 152,\n",
       " 7943906961970828120: 153,\n",
       " -9160910454530522563: 154,\n",
       " -3886927790136130174: 155,\n",
       " -2382583983070627054: 156,\n",
       " 1878784080584939832: 157,\n",
       " -4700714777342103147: 158,\n",
       " 5514214996211995551: 159,\n",
       " 7965539599896143226: 160,\n",
       " 7446534728307622413: 161,\n",
       " 2134259819148812594: 162,\n",
       " -7463305179076477879: 163,\n",
       " 2285214528595997209: 164,\n",
       " 511891900317865118: 165,\n",
       " 7395435905985567130: 166,\n",
       " -4386371945374980231: 167,\n",
       " 2857117417189640073: 168,\n",
       " -3739000323288188282: 169,\n",
       " 6044362651232258738: 170,\n",
       " 1929674614667189969: 171,\n",
       " -3912939678517879962: 172,\n",
       " 2991405198675389827: 173,\n",
       " -8813724423497152538: 174,\n",
       " -730957269757756529: 175,\n",
       " -7876497512693688413: 176,\n",
       " 7059601745558171892: 177,\n",
       " 1107739178195154647: 178,\n",
       " 6369367631770966886: 179,\n",
       " -1338957937839941365: 180,\n",
       " -6603351162010419903: 181,\n",
       " 4999440443052714243: 182,\n",
       " -4754223659064624252: 183,\n",
       " -6457517220721978: 184,\n",
       " -5756697018315640725: 185,\n",
       " -6840859460575237450: 186,\n",
       " 2927476152522512441: 187,\n",
       " 2888507406903473601: 188,\n",
       " -2176468683077766369: 189,\n",
       " -6195775145989617417: 190,\n",
       " 4296604388230897073: 191,\n",
       " 7845570490247450966: 192,\n",
       " 4441012164161473407: 193,\n",
       " -1590585250246572231: 194,\n",
       " 4544213501105457932: 195,\n",
       " 914293752636521893: 196,\n",
       " -614408900691920886: 197,\n",
       " -5952729859839521828: 198,\n",
       " 372648779227126668: 199,\n",
       " -240359174314633445: 200,\n",
       " 6989198691754522425: 201,\n",
       " -6843047699859121724: 202,\n",
       " 7498047411414226273: 203,\n",
       " 7933360486658437274: 204,\n",
       " -7586203274767893481: 205,\n",
       " 8637400873589298078: 206,\n",
       " 119886322445874454: 207,\n",
       " 8690601908689146128: 208,\n",
       " 8586403905004879205: 209,\n",
       " 3382511589554885024: 210,\n",
       " 4555339116751579515: 211,\n",
       " -7550906488404754851: 212,\n",
       " 7206850235815254159: 213,\n",
       " -8099145207792678586: 214,\n",
       " 3906974906788964502: 215,\n",
       " 3689128258624052102: 216,\n",
       " 3035329611795434601: 217,\n",
       " -4562218760600603086: 218,\n",
       " -1753606726398516179: 219,\n",
       " -1453783314552286835: 220,\n",
       " -3417523159811412977: 221,\n",
       " 8076265166566225141: 222,\n",
       " 7277161137091492767: 223,\n",
       " -401664538366009049: 224,\n",
       " -4765711818183276269: 225,\n",
       " 4899554125167253337: 226,\n",
       " 7664140604181040222: 227,\n",
       " 5439554346835640135: 228,\n",
       " -6255454949363031923: 229,\n",
       " 3845974592165897942: 230,\n",
       " -1654063646246197191: 231,\n",
       " -1820269894165785259: 232,\n",
       " 3149164017776669829: 233,\n",
       " -5941854046477982982: 234,\n",
       " -8222568914848295086: 235,\n",
       " 6198232071580299480: 236,\n",
       " 4563606877148407012: 237,\n",
       " 279771472506428952: 238,\n",
       " -3173020603774823976: 239,\n",
       " -6142462826726347616: 240,\n",
       " 5822211783543822544: 241,\n",
       " -7202774608580336956: 242,\n",
       " -1672166631728511207: 243,\n",
       " -5170198873410718233: 244,\n",
       " 1805789466376069146: 245,\n",
       " -2081760549863309770: 246,\n",
       " 4633013345375349272: 247,\n",
       " -5826278791285476287: 248,\n",
       " 9091641298512813712: 249,\n",
       " -4698104907897418459: 250,\n",
       " -5380376324140474506: 251,\n",
       " -5784228041033890044: 252,\n",
       " 2259988589066296676: 253,\n",
       " -8149429101569453081: 254,\n",
       " 1468327003955810686: 255,\n",
       " -6858665134018491791: 256,\n",
       " 8118799783881928573: 257,\n",
       " -4509487968959834430: 258,\n",
       " -6980020268309524947: 259,\n",
       " 7062745737910050042: 260,\n",
       " -5515204090203464377: 261,\n",
       " -862645085190435621: 262,\n",
       " 5270696484536580646: 263,\n",
       " 1959495508923903948: 264,\n",
       " 2602738827388230683: 265,\n",
       " -1114438937697017987: 266,\n",
       " -8119612270825155371: 267,\n",
       " -8018088591294066196: 268,\n",
       " -3363563881552061188: 269,\n",
       " 6754313450809254838: 270,\n",
       " -3750879736572068916: 271,\n",
       " 7516228655554309785: 272,\n",
       " -3709378389941441506: 273,\n",
       " 2709926970543371965: 274,\n",
       " 3394403706511230595: 275,\n",
       " -7660505434580831027: 276,\n",
       " -9028990334396397584: 277,\n",
       " 6987435400166905688: 278,\n",
       " -2967429522197137387: 279,\n",
       " 1649085803937938638: 280,\n",
       " -8427763028519233712: 281,\n",
       " 1542516532533301214: 282,\n",
       " 8049518593334748695: 283,\n",
       " -7367898111498277224: 284,\n",
       " 5333141914314968598: 285,\n",
       " 8194079557551008273: 286,\n",
       " 3569727790804487273: 287,\n",
       " 1862503310075246782: 288,\n",
       " 589254894302309232: 289,\n",
       " 3294074907209583622: 290,\n",
       " 4716135688735489427: 291,\n",
       " 5109221095427625188: 292,\n",
       " 6850500272809381909: 293,\n",
       " 5199666313044493096: 294,\n",
       " -1839591250599587429: 295,\n",
       " -8194774279664546436: 296,\n",
       " 1012456848389051365: 297,\n",
       " 8265190708606665292: 298,\n",
       " 5658521282502533116: 299,\n",
       " 4915137112517573184: 300,\n",
       " 5009420943344705199: 301,\n",
       " 6757348772114374254: 302,\n",
       " -5464698687596686623: 303,\n",
       " 1019706997674210703: 304,\n",
       " -5570129644089964821: 305,\n",
       " 8402348887626635381: 306,\n",
       " 8689098216946253326: 307,\n",
       " -3954182109690207118: 308,\n",
       " 5088013394045185972: 309,\n",
       " -2097626568191556277: 310,\n",
       " 2072448887839540892: 311,\n",
       " -3980612444042641628: 312,\n",
       " 2470587255066232267: 313,\n",
       " 2916072977192006313: 314,\n",
       " 626121253933491500: 315,\n",
       " 5719793245136119929: 316,\n",
       " 3746463631389880443: 317,\n",
       " 5568089143939945595: 318,\n",
       " -5037827401452845772: 319,\n",
       " -3338916066794638254: 320,\n",
       " -2118981143119783447: 321,\n",
       " -3169423801125605259: 322,\n",
       " -9128652074338368262: 323,\n",
       " -9105040345021932755: 324,\n",
       " 911037455259135591: 325,\n",
       " -89955207814154444: 326,\n",
       " 6783622248311192269: 327,\n",
       " -2899726011463496555: 328,\n",
       " -3275688295651945765: 329,\n",
       " 8963770574956550187: 330,\n",
       " -1192619987285372590: 331,\n",
       " -1342820011354825290: 332,\n",
       " -6993279786012379694: 333,\n",
       " 5401376580769090495: 334,\n",
       " -2683134512107439488: 335,\n",
       " -6625273991455881177: 336,\n",
       " 7606744605433799135: 337,\n",
       " -9055044275358686874: 338,\n",
       " 6980529106338478812: 339,\n",
       " -4740532350684079805: 340,\n",
       " 5281570276277574938: 341,\n",
       " 6090517797383271316: 342,\n",
       " 4774970687540378081: 343,\n",
       " -8287402887944984163: 344,\n",
       " 8298709454703868984: 345,\n",
       " -2871288807409592: 346,\n",
       " -1492574794514500033: 347,\n",
       " -1901742495252324928: 348,\n",
       " 8049667463017473012: 349,\n",
       " -5522643017727334716: 350,\n",
       " -6369211973034956889: 351,\n",
       " -5602127731550819348: 352,\n",
       " -8722526817358894474: 353,\n",
       " -587747935064273401: 354,\n",
       " 1120323498091467525: 355,\n",
       " -3785072380450959101: 356,\n",
       " 1041289933344278866: 357,\n",
       " -7833921387228274142: 358,\n",
       " -36844712915106340: 359,\n",
       " -8248141950199177506: 360,\n",
       " -4186591400427142356: 361,\n",
       " -4102297002729307038: 362,\n",
       " 9122627895188486603: 363,\n",
       " -9100490342054218852: 364,\n",
       " -9137036168156595470: 365,\n",
       " -5571606607344218289: 366,\n",
       " 4089568303716665454: 367,\n",
       " -307396946333196366: 368,\n",
       " 1440793148901830221: 369,\n",
       " 8163984238975480171: 370,\n",
       " 4460664691673874476: 371,\n",
       " -799315203186826480: 372,\n",
       " 8017849534314729144: 373,\n",
       " -2948321821574578861: 374,\n",
       " 6109135203991499571: 375,\n",
       " 8931755432090459041: 376,\n",
       " 4277778562135834208: 377,\n",
       " -3605608255586388018: 378,\n",
       " -6467708104873171151: 379,\n",
       " -8618420761918493321: 380,\n",
       " -6009377241272750648: 381,\n",
       " -3134743773662773628: 382,\n",
       " 6910763794618680440: 383,\n",
       " 1179017557429431126: 384,\n",
       " -1038011342017850: 385,\n",
       " -8526359231369823784: 386,\n",
       " -8279505492976427918: 387,\n",
       " 7767869406844505704: 388,\n",
       " 5082053563644129584: 389,\n",
       " 8461560915246826477: 390,\n",
       " -5976464170927897250: 391,\n",
       " -2855910583928922225: 392,\n",
       " 6377566860234930618: 393,\n",
       " -7580433478964181862: 394,\n",
       " 4355464044208438135: 395,\n",
       " -6347212504547574224: 396,\n",
       " 1114791714656282929: 397,\n",
       " -8258529658421542282: 398,\n",
       " -3620251618670158123: 399,\n",
       " -4469492210394109129: 400,\n",
       " -6968139157190736175: 401,\n",
       " 1317782055909095806: 402,\n",
       " -4888170580455425266: 403,\n",
       " 3888577703887670575: 404,\n",
       " -6999747484065183134: 405,\n",
       " 8038154459609789205: 406,\n",
       " 6807042796917367736: 407,\n",
       " 5431399346444238856: 408,\n",
       " -8949113594875411859: 409,\n",
       " -6542996094878850014: 410,\n",
       " 880612740433495828: 411,\n",
       " 8522523292310933696: 412,\n",
       " -8282357075607822317: 413,\n",
       " 3306277069425849869: 414,\n",
       " 1118048247334038458: 415,\n",
       " 2601622077116449484: 416,\n",
       " 2301338403202434417: 417,\n",
       " 5787934590133549357: 418,\n",
       " -7812176982819372240: 419,\n",
       " -5313466754735123256: 420,\n",
       " 5875183869203898283: 421,\n",
       " -7152753999571084411: 422,\n",
       " -8669770849634489893: 423,\n",
       " 3041906492387035176: 424,\n",
       " -3400154175330058574: 425,\n",
       " -7492067511846042603: 426,\n",
       " -538948733779286129: 427,\n",
       " -1995591062742965408: 428,\n",
       " -5161313513317812402: 429,\n",
       " -5200964355640106406: 430,\n",
       " -8742648016180281673: 431,\n",
       " 943818026930898372: 432,\n",
       " 7616911250531106641: 433,\n",
       " -7349721727282676870: 434,\n",
       " 357449794379078687: 435,\n",
       " 8342423402350940832: 436,\n",
       " 3256054536066714292: 437,\n",
       " 4579557799493615039: 438,\n",
       " -2559385310537355580: 439,\n",
       " 8938071859536254465: 440,\n",
       " 10247031220756478: 441,\n",
       " -6940923725353716164: 442,\n",
       " -7959318068735027467: 443,\n",
       " -7809508238092432842: 444,\n",
       " -4507929853521434970: 445,\n",
       " 6535950170823528902: 446,\n",
       " 4629488036162962359: 447,\n",
       " 5979676385148714519: 448,\n",
       " -4049108709890217048: 449,\n",
       " -205193648629294862: 450,\n",
       " 5037221949349729844: 451,\n",
       " -3875881534863988868: 452,\n",
       " 6652210819857467321: 453,\n",
       " 84318068629167514: 454,\n",
       " 8471417198703153120: 455,\n",
       " -5507019982244746725: 456,\n",
       " 2687654465640040976: 457,\n",
       " 3320201327008235211: 458,\n",
       " 2280365999288629014: 459,\n",
       " 2765063319512128208: 460,\n",
       " -271938775771328391: 461,\n",
       " 8314492264050843009: 462,\n",
       " 2760023027553835473: 463,\n",
       " 9207286802575546269: 464,\n",
       " 865977730460714234: 465,\n",
       " -1779870737568212247: 466,\n",
       " 5442191984600038712: 467,\n",
       " 4911701623098526999: 468,\n",
       " -2747266787901704910: 469,\n",
       " 4843782008053284888: 470,\n",
       " 8483892789913825147: 471,\n",
       " -1625217607550912638: 472,\n",
       " 1595230810451459837: 473,\n",
       " 7273139206342584600: 474,\n",
       " 2793899372921426050: 475,\n",
       " -1625815289565836489: 476,\n",
       " 5965544132537436406: 477,\n",
       " 2817960273225808857: 478,\n",
       " 9222265156747237864: 479,\n",
       " -2333243857499586461: 480,\n",
       " 4437902912817080687: 481,\n",
       " -4875060556471576861: 482,\n",
       " -7380550029266431533: 483,\n",
       " -158184760257182670: 484,\n",
       " 4575580212020245658: 485,\n",
       " 1954074927376897165: 486,\n",
       " -229081393244987789: 487,\n",
       " 8589361101754366293: 488,\n",
       " -724699218170106849: 489,\n",
       " 5468598741732935699: 490,\n",
       " -5820943153819992582: 491,\n",
       " 4069333494579100211: 492,\n",
       " -3759596852696130492: 493,\n",
       " -5691008411030226594: 494,\n",
       " -2697906762425596568: 495,\n",
       " -4974757204495953627: 496,\n",
       " 4001521928622781645: 497,\n",
       " 1286723199785027310: 498,\n",
       " 4369833742675497700: 499,\n",
       " 8969476626572775042: 500,\n",
       " 7414965642940222121: 501,\n",
       " -8123488152283046553: 502,\n",
       " 1173658987415870390: 503,\n",
       " -5115041394506292462: 504,\n",
       " 1999466695269209462: 505,\n",
       " 515531013045220470: 506,\n",
       " -8340365043226490059: 507,\n",
       " -5500597021296520708: 508,\n",
       " 204997192300542382: 509,\n",
       " 5640834597379907148: 510,\n",
       " -2841995722250280583: 511,\n",
       " 532564948976818124: 512,\n",
       " 6090089162789916215: 513,\n",
       " 3756874058845999993: 514,\n",
       " -6346370309134074019: 515,\n",
       " 8587620342631480154: 516,\n",
       " 1116363438212354892: 517,\n",
       " 2910288655685129221: 518,\n",
       " -3653998742295730637: 519,\n",
       " -7646489242554562522: 520,\n",
       " 5304344058087060692: 521,\n",
       " -6511498353814468913: 522,\n",
       " -8984665034930053829: 523,\n",
       " 5163772683749067995: 524,\n",
       " -8797444257711529901: 525,\n",
       " -2061825422128752184: 526,\n",
       " -4295420427690447901: 527,\n",
       " -450825503558460924: 528,\n",
       " -7539387928750597096: 529,\n",
       " -5214997228209357198: 530,\n",
       " -986193709330758766: 531,\n",
       " 3017826600888052926: 532,\n",
       " -9099155556042679205: 533,\n",
       " 7400247075626691905: 534,\n",
       " -4050006690189978332: 535,\n",
       " -8085935119790093311: 536,\n",
       " -3697359635590244386: 537,\n",
       " -1917202688559171732: 538,\n",
       " -1088742830039453732: 539,\n",
       " 8021508382912212558: 540,\n",
       " 2250978527027854837: 541,\n",
       " -4485188959476061019: 542,\n",
       " 7555106864392724379: 543,\n",
       " -9090514312860140897: 544,\n",
       " 4814419120794996930: 545,\n",
       " -4917007328809735647: 546,\n",
       " -518690781085251687: 547,\n",
       " -9041823059579281174: 548,\n",
       " 3608243634452078989: 549,\n",
       " 321193326651975856: 550,\n",
       " 2393972361498749268: 551,\n",
       " 5266164468981660031: 552,\n",
       " -9080873096647717414: 553,\n",
       " -1101832997669013246: 554,\n",
       " 6658257247913756761: 555,\n",
       " -6151852268067518688: 556,\n",
       " 5269583152423890030: 557,\n",
       " 5831479026588423198: 558,\n",
       " -8189315446782327370: 559,\n",
       " 7459726589306441015: 560,\n",
       " 1805849336099641652: 561,\n",
       " 3241240229241793423: 562,\n",
       " 7938100642081250873: 563,\n",
       " -5024561776910686117: 564,\n",
       " -4615179238096674750: 565,\n",
       " 7359386552064322134: 566,\n",
       " -2797708685347481851: 567,\n",
       " -292870452169977398: 568,\n",
       " -3641109225708958458: 569,\n",
       " 2589533162305407436: 570,\n",
       " -655909700262679295: 571,\n",
       " 9151634133568930081: 572,\n",
       " 1024145536490998555: 573,\n",
       " -3170783292462058942: 574,\n",
       " -5071600977095793163: 575,\n",
       " 8878031598946138458: 576,\n",
       " -4977928818612291634: 577,\n",
       " -8370744479086515302: 578,\n",
       " -8529522981244750831: 579,\n",
       " -1591454024897803197: 580,\n",
       " -6566328419164841526: 581,\n",
       " -3161714324304758767: 582,\n",
       " 4156291407717900798: 583,\n",
       " -1254906787526072320: 584,\n",
       " 4604014376318271136: 585,\n",
       " 4012770927504386801: 586,\n",
       " 6045455576279706291: 587,\n",
       " -42126282997118624: 588,\n",
       " 8654585772743935612: 589,\n",
       " 1674373276159762025: 590,\n",
       " -4463029741564307314: 591,\n",
       " -7043209138459666190: 592,\n",
       " 5145921881592486583: 593,\n",
       " 3496156626367166618: 594,\n",
       " 1362186507591814859: 595,\n",
       " -156577302871365261: 596,\n",
       " 2032007496318616962: 597,\n",
       " 4625350031392752392: 598,\n",
       " -1313614305945895108: 599,\n",
       " -662806181534790446: 600,\n",
       " -3348458175249982599: 601,\n",
       " -4975645025178552956: 602,\n",
       " 833256912680066502: 603,\n",
       " -7485130558326482162: 604,\n",
       " -277169424764188814: 605,\n",
       " 5429923407915345742: 606,\n",
       " -5778988730475305016: 607,\n",
       " 7414483722019578252: 608,\n",
       " -43795168179752761: 609,\n",
       " 2670715450352290324: 610,\n",
       " -6778286518036232293: 611,\n",
       " -7481609677042800346: 612,\n",
       " 3162261384765351942: 613,\n",
       " 5317978293082383492: 614,\n",
       " 6793894801847439981: 615,\n",
       " 2271793263120018251: 616,\n",
       " -8245663037926520114: 617,\n",
       " -3792933059425955471: 618,\n",
       " 4247196691613374764: 619,\n",
       " -6863138929434705713: 620,\n",
       " -7474372733748503487: 621,\n",
       " -6056382045660082261: 622,\n",
       " 1318981494172475806: 623,\n",
       " 3687286164936910007: 624,\n",
       " -5678159351655490918: 625,\n",
       " -1630229587164086350: 626,\n",
       " -1021685224930603833: 627,\n",
       " -4798431998955209742: 628,\n",
       " 514858832555251637: 629,\n",
       " 8982094176562780806: 630,\n",
       " -5600393064072065417: 631,\n",
       " -3548152957882579401: 632,\n",
       " -5769968511636780471: 633,\n",
       " -5315378314308323942: 634,\n",
       " -321691855821364131: 635,\n",
       " -4333056764244640444: 636,\n",
       " -7322744040992592407: 637,\n",
       " -4948201003470936673: 638,\n",
       " 7818691400791322406: 639,\n",
       " 1828340614995116767: 640,\n",
       " 6852597772196653540: 641,\n",
       " -6184570078369383337: 642,\n",
       " -6035458164887182128: 643,\n",
       " -329139582593571060: 644,\n",
       " -8723313435347324769: 645,\n",
       " 162771765556771108: 646,\n",
       " -4571929941432664145: 647,\n",
       " 5424502143558028097: 648,\n",
       " 2731915238980099593: 649,\n",
       " 4195778828921942020: 650,\n",
       " -541666025693385823: 651,\n",
       " -9064100704535292718: 652,\n",
       " -8404657131309965885: 653,\n",
       " -2548446404469756145: 654,\n",
       " 5238119115012015307: 655,\n",
       " -6810702648836067504: 656,\n",
       " -3336755617029300430: 657,\n",
       " -4613284400780388067: 658,\n",
       " 8743240285401859304: 659,\n",
       " 8835339470389644264: 660,\n",
       " 5684817723169964056: 661,\n",
       " 6409304780354173378: 662,\n",
       " 3375733407275108717: 663,\n",
       " -703416562539077070: 664,\n",
       " -1449104782233586994: 665,\n",
       " -3876501423599932851: 666,\n",
       " 4196146076384098027: 667,\n",
       " -6941293448141178017: 668,\n",
       " -264519121623606417: 669,\n",
       " 8084284001249507595: 670,\n",
       " 5680566822246004912: 671,\n",
       " -1868297195590431285: 672,\n",
       " 7454130161726657097: 673,\n",
       " 8461204368464164538: 674,\n",
       " -2429242279408079104: 675,\n",
       " -1480913447590268358: 676,\n",
       " 3168079495368669052: 677,\n",
       " 8473367604990946179: 678,\n",
       " 6237433897543964784: 679,\n",
       " -4600611344822394376: 680,\n",
       " -5781461435447152359: 681,\n",
       " 65053321054180411: 682,\n",
       " 2434296883874412747: 683,\n",
       " 1653300339718932603: 684,\n",
       " 2885511262558254418: 685,\n",
       " -8762137947059829459: 686,\n",
       " -6484638837208285334: 687,\n",
       " -6644942243927487010: 688,\n",
       " 8651615486877503655: 689,\n",
       " -2038869595290705317: 690,\n",
       " -1622037268576555626: 691,\n",
       " 2546734694784514225: 692,\n",
       " 3662832673570108627: 693,\n",
       " -4233177915193302509: 694,\n",
       " -1151034582628982912: 695,\n",
       " -3555513869558669392: 696,\n",
       " -8349788035147634450: 697,\n",
       " 5191381587333696286: 698,\n",
       " 6200172800690402606: 699,\n",
       " -2711301039947937868: 700,\n",
       " 1933229167501870037: 701,\n",
       " 2037560494723407153: 702,\n",
       " 3788990922347931494: 703,\n",
       " 3470393457385461859: 704,\n",
       " -6324550271415246022: 705,\n",
       " -3790313320969344469: 706,\n",
       " -3410781775610270991: 707,\n",
       " 7168347449326627154: 708,\n",
       " -5151030094059373567: 709,\n",
       " -8909927294729358771: 710,\n",
       " 7187974705675832644: 711,\n",
       " -844797936291539016: 712,\n",
       " -6874540813378776198: 713,\n",
       " -8141818108252244664: 714,\n",
       " -4374331682165863764: 715,\n",
       " 6023609667389715259: 716,\n",
       " -8939172344092554931: 717,\n",
       " 3761187656635209729: 718,\n",
       " -5570256785328462468: 719,\n",
       " 3643465492984939400: 720,\n",
       " -5482295111885355605: 721,\n",
       " 1031060816592502094: 722,\n",
       " -2306623058132041487: 723,\n",
       " -2252459228396350242: 724,\n",
       " -5679427141235752819: 725,\n",
       " 7653591914898297019: 726,\n",
       " 3272519107572730082: 727,\n",
       " -927862226557602150: 728,\n",
       " 3598164602856140626: 729,\n",
       " -57452526663870593: 730,\n",
       " -6558712014192834002: 731,\n",
       " -3544655814153481738: 732,\n",
       " 288653248451617914: 733,\n",
       " -6814865160063205794: 734,\n",
       " -4505450219733822767: 735,\n",
       " 9028580484484026894: 736,\n",
       " 7253370880729538418: 737,\n",
       " -1196068832249300490: 738,\n",
       " 8384349834972693428: 739,\n",
       " 4153717385931831462: 740,\n",
       " 654383168348870348: 741,\n",
       " -3405516291669853723: 742,\n",
       " 8968837261991914049: 743,\n",
       " 8650916538290053756: 744,\n",
       " -39485845307123560: 745,\n",
       " -7452761262757182727: 746,\n",
       " 1968587931268137930: 747,\n",
       " -6726685468116057064: 748,\n",
       " 817467807875770568: 749,\n",
       " -2083103312491589695: 750,\n",
       " -3206777048078326150: 751,\n",
       " -8030181764663752939: 752,\n",
       " -5297634649735765167: 753,\n",
       " 7124632953201847659: 754,\n",
       " -2430153190648595765: 755,\n",
       " 2925450084561574364: 756,\n",
       " -8734181034726403477: 757,\n",
       " -2808969983997441543: 758,\n",
       " 8527071648070448758: 759,\n",
       " 5937899505996968869: 760,\n",
       " -23817016428727099: 761,\n",
       " -7082978776831463151: 762,\n",
       " 4118743389464105405: 763,\n",
       " -668191656681035303: 764,\n",
       " -3810375613673461625: 765,\n",
       " 2690205894709699741: 766,\n",
       " 2900029983899283273: 767,\n",
       " -6121430502305136434: 768,\n",
       " 7921510628110926276: 769,\n",
       " -2516726696296387544: 770,\n",
       " 8770410950539401126: 771,\n",
       " -1429167743746492970: 772,\n",
       " -1637159115260338032: 773,\n",
       " 3998743085432844199: 774,\n",
       " -5238066650780855302: 775,\n",
       " 9220445660318725468: 776,\n",
       " -8700857105739861338: 777,\n",
       " -7891960098457323262: 778,\n",
       " 6424668376409530281: 779,\n",
       " 6576356408780336784: 780,\n",
       " 4804093434821394840: 781,\n",
       " -9166778629773133902: 782,\n",
       " -8196748324041706598: 783,\n",
       " 8095004770374551394: 784,\n",
       " 5928346445655989915: 785,\n",
       " -1691850508443380568: 786,\n",
       " 4328888515190573663: 787,\n",
       " -6362580505010802881: 788,\n",
       " 4877833951599818487: 789,\n",
       " 8210960017870928723: 790,\n",
       " 8300126456272756546: 791,\n",
       " 230807360572081472: 792,\n",
       " -1762456938647577126: 793,\n",
       " -8510490754427841940: 794,\n",
       " 1544550983918141657: 795,\n",
       " 54678605145828343: 796,\n",
       " 6215963711332976380: 797,\n",
       " -1287202638861144684: 798,\n",
       " 3475346635930218065: 799,\n",
       " 1459131257418324496: 800,\n",
       " 2788367348502337122: 801,\n",
       " -1892877682006771545: 802,\n",
       " -9171475473795142532: 803,\n",
       " -7292285110016212249: 804,\n",
       " 739747367187387064: 805,\n",
       " 6162786478796754684: 806,\n",
       " -254088699629065171: 807,\n",
       " -788035419968530567: 808,\n",
       " -4625438649010928449: 809,\n",
       " -1418355038507506357: 810,\n",
       " 2333823948799779498: 811,\n",
       " -6136272094613269629: 812,\n",
       " -9083294960368598209: 813,\n",
       " 1619468327065509360: 814,\n",
       " 7400903238402587728: 815,\n",
       " 4312678980890750477: 816,\n",
       " 8676570915361993722: 817,\n",
       " 7520301770873472812: 818,\n",
       " 3193164045772142182: 819,\n",
       " 3702150017806959874: 820,\n",
       " 6876740810766966100: 821,\n",
       " 7569814035922103969: 822,\n",
       " 5843350704442714396: 823,\n",
       " -5345231991504930502: 824,\n",
       " -894273917655637623: 825,\n",
       " 9168028029170358424: 826,\n",
       " -4882849408937990337: 827,\n",
       " -6016433871633244814: 828,\n",
       " -7684863035595645318: 829,\n",
       " 7804826445069770894: 830,\n",
       " -7566966163569468290: 831,\n",
       " -1523691178084871: 832,\n",
       " 6063029961433390149: 833,\n",
       " -2099829359953227557: 834,\n",
       " -7399665664688732365: 835,\n",
       " 966067567430037498: 836,\n",
       " 2598008935363515744: 837,\n",
       " 1179326165172129711: 838,\n",
       " -5179258585851879449: 839,\n",
       " -8391512412740651574: 840,\n",
       " -3170855186954139022: 841,\n",
       " 4668172927098913296: 842,\n",
       " -8123434787655959885: 843,\n",
       " 1507299850679912107: 844,\n",
       " -1926525896637230556: 845,\n",
       " -4316394955033262743: 846,\n",
       " 3436241621287351574: 847,\n",
       " -4524355549457527387: 848,\n",
       " -1444481301861872291: 849,\n",
       " -7174595923544719736: 850,\n",
       " 8316918063034631031: 851,\n",
       " 3575694866055127253: 852,\n",
       " 3365858042237188987: 853,\n",
       " 5659318589553771161: 854,\n",
       " 7024819429467163565: 855,\n",
       " -6460613292182959076: 856,\n",
       " 2901480192726556992: 857,\n",
       " -4475938295812802739: 858,\n",
       " 408569329455206654: 859,\n",
       " 4918358495761748770: 860,\n",
       " 4559158557590109105: 861,\n",
       " 1137471872769164371: 862,\n",
       " -3428996085514172371: 863,\n",
       " 1314740759271289025: 864,\n",
       " 2990005046938769485: 865,\n",
       " 3705075652854270482: 866,\n",
       " 4045164454094417310: 867,\n",
       " 2457939609972623332: 868,\n",
       " -749116597676471759: 869,\n",
       " -1473180765724334454: 870,\n",
       " 6255978182562760059: 871,\n",
       " -1853084798056642222: 872,\n",
       " 5302085907556673015: 873,\n",
       " 8080671570570146356: 874,\n",
       " -4531029390350541169: 875,\n",
       " -3299064309968644318: 876,\n",
       " -5973686110278905367: 877,\n",
       " -6174871522512566947: 878,\n",
       " 1698483880714927645: 879,\n",
       " 7255021292858609470: 880,\n",
       " 4340103631421550622: 881,\n",
       " 7000840123067725009: 882,\n",
       " -5043294260151549400: 883,\n",
       " -8819557474068526071: 884,\n",
       " 1662917027785920354: 885,\n",
       " 4139191914110236238: 886,\n",
       " -958925381525830552: 887,\n",
       " 3262563792577344354: 888,\n",
       " -8426084422061984285: 889,\n",
       " 5714314286511882372: 890,\n",
       " 7351002593233940239: 891,\n",
       " 910894669274456978: 892,\n",
       " -3528088210002754978: 893,\n",
       " 5147907773522671167: 894,\n",
       " 6941466664989793964: 895,\n",
       " 3057455921237571253: 896,\n",
       " 2415534163825594672: 897,\n",
       " 751528815916485437: 898,\n",
       " 5834671664627894569: 899,\n",
       " -1024046541613287684: 900,\n",
       " -7051470020148066326: 901,\n",
       " -1484165300616478995: 902,\n",
       " 3068975614432538771: 903,\n",
       " 6230272013326185698: 904,\n",
       " 2271592336048425450: 905,\n",
       " 171877380813632915: 906,\n",
       " 1423541364223434892: 907,\n",
       " 1586004000405879970: 908,\n",
       " -860914756454619650: 909,\n",
       " -8445686000003509032: 910,\n",
       " 179286456725721055: 911,\n",
       " 7645026617184703521: 912,\n",
       " 8605423472891112686: 913,\n",
       " -9222795471790223670: 914,\n",
       " -4726309075125105018: 915,\n",
       " 5962268176939710955: 916,\n",
       " 2546657529517570876: 917,\n",
       " -3723217532224917485: 918,\n",
       " 3294713041855207102: 919,\n",
       " 379773866860040428: 920,\n",
       " 8685746777792503843: 921,\n",
       " -8771338872124599367: 922,\n",
       " 5032631648793129465: 923,\n",
       " -7101541512657907485: 924,\n",
       " 787067277772219433: 925,\n",
       " -2778760500673113802: 926,\n",
       " 7528802258213768379: 927,\n",
       " 8742078838645536785: 928,\n",
       " -4748027149000767298: 929,\n",
       " -8587352636561360574: 930,\n",
       " 319340024738595907: 931,\n",
       " 8129909026510620711: 932,\n",
       " 4463025528374352465: 933,\n",
       " -7908990633460844158: 934,\n",
       " 1719976830095479814: 935,\n",
       " -5444306124868253918: 936,\n",
       " -7447329442374055391: 937,\n",
       " -7992053163122498177: 938,\n",
       " -3820497466351868775: 939,\n",
       " 6157037646878010131: 940,\n",
       " -3850335246895770347: 941,\n",
       " -4130193294870737688: 942,\n",
       " 8596997246990922861: 943,\n",
       " -1852324383183073754: 944,\n",
       " -605114438206384896: 945,\n",
       " 5446022903655412342: 946,\n",
       " 201515581783532281: 947,\n",
       " 127799031949294618: 948,\n",
       " -8706427875719844202: 949,\n",
       " 5379671084978512851: 950,\n",
       " -6704596170548214779: 951,\n",
       " 5462702203586546682: 952,\n",
       " 8736111317960965711: 953,\n",
       " -7780475830807410936: 954,\n",
       " 7036087807129071010: 955,\n",
       " 9209629151177723638: 956,\n",
       " -6817732106250460899: 957,\n",
       " -3468529816757552062: 958,\n",
       " -1444385929353415304: 959,\n",
       " -7298164314968527788: 960,\n",
       " 2586379029487881843: 961,\n",
       " -1051830303851697653: 962,\n",
       " 7105108082715965818: 963,\n",
       " 6260854150231142184: 964,\n",
       " 4634963407423735625: 965,\n",
       " 3510349622718287202: 966,\n",
       " -8278633353687754322: 967,\n",
       " 541470630329465127: 968,\n",
       " 1981046186743381313: 969,\n",
       " -7564053678326007415: 970,\n",
       " 4654349179360175629: 971,\n",
       " -6859269826758227273: 972,\n",
       " -5193720747719231594: 973,\n",
       " 1592600391233958243: 974,\n",
       " -3469502952547705884: 975,\n",
       " 7247406924790318523: 976,\n",
       " 3995377148178067553: 977,\n",
       " 4287021355610172885: 978,\n",
       " -2307670819023106063: 979,\n",
       " -7702672626132856079: 980,\n",
       " -1469918446833331103: 981,\n",
       " -2151750849426701342: 982,\n",
       " -6249065792190816357: 983,\n",
       " 6419848550542384295: 984,\n",
       " -4793380646045599184: 985,\n",
       " 7071371416976898441: 986,\n",
       " -6180514744351188891: 987,\n",
       " -2752345899464432864: 988,\n",
       " -6479058008972757948: 989,\n",
       " 8754824745136110042: 990,\n",
       " 1729892529360390310: 991,\n",
       " -3974295763584921518: 992,\n",
       " 1128840733277618400: 993,\n",
       " -2271868873349907631: 994,\n",
       " 5619251370090681244: 995,\n",
       " 2313825045587317872: 996,\n",
       " 3703141283586666995: 997,\n",
       " 8565115980515859979: 998,\n",
       " -2329480295839698254: 999,\n",
       " ...}"
      ]
     },
     "execution_count": 566,
     "metadata": {},
     "output_type": "execute_result"
    }
   ],
   "source": [
    "item_dict"
   ]
  },
  {
   "cell_type": "markdown",
   "metadata": {},
   "source": [
    "## getting similar articles like item_id  3064370296170038610"
   ]
  },
  {
   "cell_type": "code",
   "execution_count": 567,
   "metadata": {},
   "outputs": [
    {
     "data": {
      "text/plain": [
       "0       0.057683\n",
       "1       0.019869\n",
       "2       0.000000\n",
       "3       0.062164\n",
       "4       0.093352\n",
       "          ...   \n",
       "2934    0.000000\n",
       "2935    0.000000\n",
       "2936    0.000000\n",
       "2937    0.000000\n",
       "2938    0.014392\n",
       "Name: 6, Length: 2939, dtype: float64"
      ]
     },
     "execution_count": 567,
     "metadata": {},
     "output_type": "execute_result"
    }
   ],
   "source": [
    "article_prediction.iloc[item_dict[3064370296170038610]]"
   ]
  },
  {
   "cell_type": "code",
   "execution_count": 568,
   "metadata": {},
   "outputs": [],
   "source": [
    "item_recommendation = pd.DataFrame(article_prediction.iloc[item_dict[3064370296170038610]].sort_values(ascending=False)) #sorting"
   ]
  },
  {
   "cell_type": "code",
   "execution_count": 569,
   "metadata": {},
   "outputs": [
    {
     "data": {
      "text/html": [
       "<div>\n",
       "<style scoped>\n",
       "    .dataframe tbody tr th:only-of-type {\n",
       "        vertical-align: middle;\n",
       "    }\n",
       "\n",
       "    .dataframe tbody tr th {\n",
       "        vertical-align: top;\n",
       "    }\n",
       "\n",
       "    .dataframe thead th {\n",
       "        text-align: right;\n",
       "    }\n",
       "</style>\n",
       "<table border=\"1\" class=\"dataframe\">\n",
       "  <thead>\n",
       "    <tr style=\"text-align: right;\">\n",
       "      <th></th>\n",
       "      <th>6</th>\n",
       "    </tr>\n",
       "  </thead>\n",
       "  <tbody>\n",
       "    <tr>\n",
       "      <th>6</th>\n",
       "      <td>1.000000</td>\n",
       "    </tr>\n",
       "    <tr>\n",
       "      <th>584</th>\n",
       "      <td>0.266789</td>\n",
       "    </tr>\n",
       "    <tr>\n",
       "      <th>978</th>\n",
       "      <td>0.264706</td>\n",
       "    </tr>\n",
       "    <tr>\n",
       "      <th>125</th>\n",
       "      <td>0.241189</td>\n",
       "    </tr>\n",
       "    <tr>\n",
       "      <th>72</th>\n",
       "      <td>0.236448</td>\n",
       "    </tr>\n",
       "  </tbody>\n",
       "</table>\n",
       "</div>"
      ],
      "text/plain": [
       "            6\n",
       "6    1.000000\n",
       "584  0.266789\n",
       "978  0.264706\n",
       "125  0.241189\n",
       "72   0.236448"
      ]
     },
     "execution_count": 569,
     "metadata": {},
     "output_type": "execute_result"
    }
   ],
   "source": [
    "item_recommendation.head()"
   ]
  },
  {
   "cell_type": "code",
   "execution_count": 570,
   "metadata": {},
   "outputs": [],
   "source": [
    "item_recommendation.reset_index(inplace=True)"
   ]
  },
  {
   "cell_type": "code",
   "execution_count": 571,
   "metadata": {},
   "outputs": [
    {
     "data": {
      "text/html": [
       "<div>\n",
       "<style scoped>\n",
       "    .dataframe tbody tr th:only-of-type {\n",
       "        vertical-align: middle;\n",
       "    }\n",
       "\n",
       "    .dataframe tbody tr th {\n",
       "        vertical-align: top;\n",
       "    }\n",
       "\n",
       "    .dataframe thead th {\n",
       "        text-align: right;\n",
       "    }\n",
       "</style>\n",
       "<table border=\"1\" class=\"dataframe\">\n",
       "  <thead>\n",
       "    <tr style=\"text-align: right;\">\n",
       "      <th></th>\n",
       "      <th>index</th>\n",
       "      <th>6</th>\n",
       "    </tr>\n",
       "  </thead>\n",
       "  <tbody>\n",
       "    <tr>\n",
       "      <th>0</th>\n",
       "      <td>6</td>\n",
       "      <td>1.000000</td>\n",
       "    </tr>\n",
       "    <tr>\n",
       "      <th>1</th>\n",
       "      <td>584</td>\n",
       "      <td>0.266789</td>\n",
       "    </tr>\n",
       "    <tr>\n",
       "      <th>2</th>\n",
       "      <td>978</td>\n",
       "      <td>0.264706</td>\n",
       "    </tr>\n",
       "    <tr>\n",
       "      <th>3</th>\n",
       "      <td>125</td>\n",
       "      <td>0.241189</td>\n",
       "    </tr>\n",
       "    <tr>\n",
       "      <th>4</th>\n",
       "      <td>72</td>\n",
       "      <td>0.236448</td>\n",
       "    </tr>\n",
       "  </tbody>\n",
       "</table>\n",
       "</div>"
      ],
      "text/plain": [
       "   index         6\n",
       "0      6  1.000000\n",
       "1    584  0.266789\n",
       "2    978  0.264706\n",
       "3    125  0.241189\n",
       "4     72  0.236448"
      ]
     },
     "execution_count": 571,
     "metadata": {},
     "output_type": "execute_result"
    }
   ],
   "source": [
    "item_recommendation.head()"
   ]
  },
  {
   "cell_type": "code",
   "execution_count": 572,
   "metadata": {},
   "outputs": [],
   "source": [
    "item_recommendation.columns = ['item_idx', 'score']"
   ]
  },
  {
   "cell_type": "code",
   "execution_count": 573,
   "metadata": {},
   "outputs": [
    {
     "data": {
      "text/html": [
       "<div>\n",
       "<style scoped>\n",
       "    .dataframe tbody tr th:only-of-type {\n",
       "        vertical-align: middle;\n",
       "    }\n",
       "\n",
       "    .dataframe tbody tr th {\n",
       "        vertical-align: top;\n",
       "    }\n",
       "\n",
       "    .dataframe thead th {\n",
       "        text-align: right;\n",
       "    }\n",
       "</style>\n",
       "<table border=\"1\" class=\"dataframe\">\n",
       "  <thead>\n",
       "    <tr style=\"text-align: right;\">\n",
       "      <th></th>\n",
       "      <th>item_idx</th>\n",
       "      <th>score</th>\n",
       "    </tr>\n",
       "  </thead>\n",
       "  <tbody>\n",
       "    <tr>\n",
       "      <th>0</th>\n",
       "      <td>6</td>\n",
       "      <td>1.000000</td>\n",
       "    </tr>\n",
       "    <tr>\n",
       "      <th>1</th>\n",
       "      <td>584</td>\n",
       "      <td>0.266789</td>\n",
       "    </tr>\n",
       "    <tr>\n",
       "      <th>2</th>\n",
       "      <td>978</td>\n",
       "      <td>0.264706</td>\n",
       "    </tr>\n",
       "    <tr>\n",
       "      <th>3</th>\n",
       "      <td>125</td>\n",
       "      <td>0.241189</td>\n",
       "    </tr>\n",
       "    <tr>\n",
       "      <th>4</th>\n",
       "      <td>72</td>\n",
       "      <td>0.236448</td>\n",
       "    </tr>\n",
       "  </tbody>\n",
       "</table>\n",
       "</div>"
      ],
      "text/plain": [
       "   item_idx     score\n",
       "0         6  1.000000\n",
       "1       584  0.266789\n",
       "2       978  0.264706\n",
       "3       125  0.241189\n",
       "4        72  0.236448"
      ]
     },
     "execution_count": 573,
     "metadata": {},
     "output_type": "execute_result"
    }
   ],
   "source": [
    "item_recommendation.head()"
   ]
  },
  {
   "cell_type": "code",
   "execution_count": 574,
   "metadata": {},
   "outputs": [],
   "source": [
    "merged = pd.merge(item_recommendation, consumer_all_detail, on='item_idx', how='left') #merge"
   ]
  },
  {
   "cell_type": "code",
   "execution_count": 575,
   "metadata": {},
   "outputs": [
    {
     "data": {
      "text/html": [
       "<div>\n",
       "<style scoped>\n",
       "    .dataframe tbody tr th:only-of-type {\n",
       "        vertical-align: middle;\n",
       "    }\n",
       "\n",
       "    .dataframe tbody tr th {\n",
       "        vertical-align: top;\n",
       "    }\n",
       "\n",
       "    .dataframe thead th {\n",
       "        text-align: right;\n",
       "    }\n",
       "</style>\n",
       "<table border=\"1\" class=\"dataframe\">\n",
       "  <thead>\n",
       "    <tr style=\"text-align: right;\">\n",
       "      <th></th>\n",
       "      <th>item_idx</th>\n",
       "      <th>score</th>\n",
       "      <th>item_id</th>\n",
       "      <th>consumer_id</th>\n",
       "      <th>ratings</th>\n",
       "      <th>consumer_idx</th>\n",
       "    </tr>\n",
       "  </thead>\n",
       "  <tbody>\n",
       "    <tr>\n",
       "      <th>0</th>\n",
       "      <td>6</td>\n",
       "      <td>1.0</td>\n",
       "      <td>3064370296170038610</td>\n",
       "      <td>3609194402293569455</td>\n",
       "      <td>1</td>\n",
       "      <td>6</td>\n",
       "    </tr>\n",
       "    <tr>\n",
       "      <th>1</th>\n",
       "      <td>6</td>\n",
       "      <td>1.0</td>\n",
       "      <td>3064370296170038610</td>\n",
       "      <td>3609194402293569455</td>\n",
       "      <td>1</td>\n",
       "      <td>6</td>\n",
       "    </tr>\n",
       "    <tr>\n",
       "      <th>2</th>\n",
       "      <td>6</td>\n",
       "      <td>1.0</td>\n",
       "      <td>3064370296170038610</td>\n",
       "      <td>2290322765105220968</td>\n",
       "      <td>1</td>\n",
       "      <td>450</td>\n",
       "    </tr>\n",
       "    <tr>\n",
       "      <th>3</th>\n",
       "      <td>6</td>\n",
       "      <td>1.0</td>\n",
       "      <td>3064370296170038610</td>\n",
       "      <td>2290322765105220968</td>\n",
       "      <td>1</td>\n",
       "      <td>450</td>\n",
       "    </tr>\n",
       "    <tr>\n",
       "      <th>4</th>\n",
       "      <td>6</td>\n",
       "      <td>1.0</td>\n",
       "      <td>3064370296170038610</td>\n",
       "      <td>5705041016417759824</td>\n",
       "      <td>1</td>\n",
       "      <td>290</td>\n",
       "    </tr>\n",
       "  </tbody>\n",
       "</table>\n",
       "</div>"
      ],
      "text/plain": [
       "   item_idx  score              item_id          consumer_id  ratings  \\\n",
       "0         6    1.0  3064370296170038610  3609194402293569455        1   \n",
       "1         6    1.0  3064370296170038610  3609194402293569455        1   \n",
       "2         6    1.0  3064370296170038610  2290322765105220968        1   \n",
       "3         6    1.0  3064370296170038610  2290322765105220968        1   \n",
       "4         6    1.0  3064370296170038610  5705041016417759824        1   \n",
       "\n",
       "   consumer_idx  \n",
       "0             6  \n",
       "1             6  \n",
       "2           450  \n",
       "3           450  \n",
       "4           290  "
      ]
     },
     "execution_count": 575,
     "metadata": {},
     "output_type": "execute_result"
    }
   ],
   "source": [
    "merged.head()"
   ]
  },
  {
   "cell_type": "code",
   "execution_count": 576,
   "metadata": {},
   "outputs": [],
   "source": [
    "merged_user_article=pd.merge(merged,platform_content_en[['item_id','title']],on='item_id', how='left')"
   ]
  },
  {
   "cell_type": "code",
   "execution_count": 577,
   "metadata": {},
   "outputs": [
    {
     "data": {
      "text/html": [
       "<div>\n",
       "<style scoped>\n",
       "    .dataframe tbody tr th:only-of-type {\n",
       "        vertical-align: middle;\n",
       "    }\n",
       "\n",
       "    .dataframe tbody tr th {\n",
       "        vertical-align: top;\n",
       "    }\n",
       "\n",
       "    .dataframe thead th {\n",
       "        text-align: right;\n",
       "    }\n",
       "</style>\n",
       "<table border=\"1\" class=\"dataframe\">\n",
       "  <thead>\n",
       "    <tr style=\"text-align: right;\">\n",
       "      <th></th>\n",
       "      <th>item_idx</th>\n",
       "      <th>score</th>\n",
       "      <th>item_id</th>\n",
       "      <th>consumer_id</th>\n",
       "      <th>ratings</th>\n",
       "      <th>consumer_idx</th>\n",
       "      <th>title</th>\n",
       "    </tr>\n",
       "  </thead>\n",
       "  <tbody>\n",
       "    <tr>\n",
       "      <th>0</th>\n",
       "      <td>6</td>\n",
       "      <td>1.0</td>\n",
       "      <td>3064370296170038610</td>\n",
       "      <td>3609194402293569455</td>\n",
       "      <td>1</td>\n",
       "      <td>6</td>\n",
       "      <td>Google, Amazon and the upcoming battle over AI Assistants</td>\n",
       "    </tr>\n",
       "    <tr>\n",
       "      <th>1</th>\n",
       "      <td>6</td>\n",
       "      <td>1.0</td>\n",
       "      <td>3064370296170038610</td>\n",
       "      <td>3609194402293569455</td>\n",
       "      <td>1</td>\n",
       "      <td>6</td>\n",
       "      <td>Google, Amazon and the upcoming battle over AI Assistants</td>\n",
       "    </tr>\n",
       "    <tr>\n",
       "      <th>2</th>\n",
       "      <td>6</td>\n",
       "      <td>1.0</td>\n",
       "      <td>3064370296170038610</td>\n",
       "      <td>2290322765105220968</td>\n",
       "      <td>1</td>\n",
       "      <td>450</td>\n",
       "      <td>Google, Amazon and the upcoming battle over AI Assistants</td>\n",
       "    </tr>\n",
       "    <tr>\n",
       "      <th>3</th>\n",
       "      <td>6</td>\n",
       "      <td>1.0</td>\n",
       "      <td>3064370296170038610</td>\n",
       "      <td>2290322765105220968</td>\n",
       "      <td>1</td>\n",
       "      <td>450</td>\n",
       "      <td>Google, Amazon and the upcoming battle over AI Assistants</td>\n",
       "    </tr>\n",
       "    <tr>\n",
       "      <th>4</th>\n",
       "      <td>6</td>\n",
       "      <td>1.0</td>\n",
       "      <td>3064370296170038610</td>\n",
       "      <td>5705041016417759824</td>\n",
       "      <td>1</td>\n",
       "      <td>290</td>\n",
       "      <td>Google, Amazon and the upcoming battle over AI Assistants</td>\n",
       "    </tr>\n",
       "    <tr>\n",
       "      <th>...</th>\n",
       "      <td>...</td>\n",
       "      <td>...</td>\n",
       "      <td>...</td>\n",
       "      <td>...</td>\n",
       "      <td>...</td>\n",
       "      <td>...</td>\n",
       "      <td>...</td>\n",
       "    </tr>\n",
       "    <tr>\n",
       "      <th>72078</th>\n",
       "      <td>1523</td>\n",
       "      <td>0.0</td>\n",
       "      <td>-4318248821095057296</td>\n",
       "      <td>-2979881261169775358</td>\n",
       "      <td>1</td>\n",
       "      <td>113</td>\n",
       "      <td>Gmail API: New endpoints for settings</td>\n",
       "    </tr>\n",
       "    <tr>\n",
       "      <th>72079</th>\n",
       "      <td>1523</td>\n",
       "      <td>0.0</td>\n",
       "      <td>-4318248821095057296</td>\n",
       "      <td>-1032019229384696495</td>\n",
       "      <td>1</td>\n",
       "      <td>1</td>\n",
       "      <td>Gmail API: New endpoints for settings</td>\n",
       "    </tr>\n",
       "    <tr>\n",
       "      <th>72080</th>\n",
       "      <td>1523</td>\n",
       "      <td>0.0</td>\n",
       "      <td>-4318248821095057296</td>\n",
       "      <td>753551422329466662</td>\n",
       "      <td>1</td>\n",
       "      <td>848</td>\n",
       "      <td>Gmail API: New endpoints for settings</td>\n",
       "    </tr>\n",
       "    <tr>\n",
       "      <th>72081</th>\n",
       "      <td>1469</td>\n",
       "      <td>0.0</td>\n",
       "      <td>-6725796505137573953</td>\n",
       "      <td>-8051903121006324833</td>\n",
       "      <td>1</td>\n",
       "      <td>1161</td>\n",
       "      <td>Stratumn is building a sort of Heroku for blockchain applications - The Bitcoin Channel</td>\n",
       "    </tr>\n",
       "    <tr>\n",
       "      <th>72082</th>\n",
       "      <td>1469</td>\n",
       "      <td>0.0</td>\n",
       "      <td>-6725796505137573953</td>\n",
       "      <td>2062670502532932588</td>\n",
       "      <td>1</td>\n",
       "      <td>276</td>\n",
       "      <td>Stratumn is building a sort of Heroku for blockchain applications - The Bitcoin Channel</td>\n",
       "    </tr>\n",
       "  </tbody>\n",
       "</table>\n",
       "<p>72083 rows × 7 columns</p>\n",
       "</div>"
      ],
      "text/plain": [
       "       item_idx  score              item_id          consumer_id  ratings  \\\n",
       "0             6    1.0  3064370296170038610  3609194402293569455        1   \n",
       "1             6    1.0  3064370296170038610  3609194402293569455        1   \n",
       "2             6    1.0  3064370296170038610  2290322765105220968        1   \n",
       "3             6    1.0  3064370296170038610  2290322765105220968        1   \n",
       "4             6    1.0  3064370296170038610  5705041016417759824        1   \n",
       "...         ...    ...                  ...                  ...      ...   \n",
       "72078      1523    0.0 -4318248821095057296 -2979881261169775358        1   \n",
       "72079      1523    0.0 -4318248821095057296 -1032019229384696495        1   \n",
       "72080      1523    0.0 -4318248821095057296   753551422329466662        1   \n",
       "72081      1469    0.0 -6725796505137573953 -8051903121006324833        1   \n",
       "72082      1469    0.0 -6725796505137573953  2062670502532932588        1   \n",
       "\n",
       "       consumer_idx  \\\n",
       "0                 6   \n",
       "1                 6   \n",
       "2               450   \n",
       "3               450   \n",
       "4               290   \n",
       "...             ...   \n",
       "72078           113   \n",
       "72079             1   \n",
       "72080           848   \n",
       "72081          1161   \n",
       "72082           276   \n",
       "\n",
       "                                                                                         title  \n",
       "0                                    Google, Amazon and the upcoming battle over AI Assistants  \n",
       "1                                    Google, Amazon and the upcoming battle over AI Assistants  \n",
       "2                                    Google, Amazon and the upcoming battle over AI Assistants  \n",
       "3                                    Google, Amazon and the upcoming battle over AI Assistants  \n",
       "4                                    Google, Amazon and the upcoming battle over AI Assistants  \n",
       "...                                                                                        ...  \n",
       "72078                                                    Gmail API: New endpoints for settings  \n",
       "72079                                                    Gmail API: New endpoints for settings  \n",
       "72080                                                    Gmail API: New endpoints for settings  \n",
       "72081  Stratumn is building a sort of Heroku for blockchain applications - The Bitcoin Channel  \n",
       "72082  Stratumn is building a sort of Heroku for blockchain applications - The Bitcoin Channel  \n",
       "\n",
       "[72083 rows x 7 columns]"
      ]
     },
     "execution_count": 577,
     "metadata": {},
     "output_type": "execute_result"
    }
   ],
   "source": [
    "merged_user_article"
   ]
  },
  {
   "cell_type": "code",
   "execution_count": 578,
   "metadata": {},
   "outputs": [],
   "source": [
    "collab_output = merged_user_article[merged_user_article['title'].notna()] #no NA "
   ]
  },
  {
   "cell_type": "code",
   "execution_count": 579,
   "metadata": {},
   "outputs": [
    {
     "data": {
      "text/plain": [
       "(46840, 7)"
      ]
     },
     "execution_count": 579,
     "metadata": {},
     "output_type": "execute_result"
    }
   ],
   "source": [
    "collab_output.shape"
   ]
  },
  {
   "cell_type": "code",
   "execution_count": 580,
   "metadata": {},
   "outputs": [
    {
     "data": {
      "text/html": [
       "<div>\n",
       "<style scoped>\n",
       "    .dataframe tbody tr th:only-of-type {\n",
       "        vertical-align: middle;\n",
       "    }\n",
       "\n",
       "    .dataframe tbody tr th {\n",
       "        vertical-align: top;\n",
       "    }\n",
       "\n",
       "    .dataframe thead th {\n",
       "        text-align: right;\n",
       "    }\n",
       "</style>\n",
       "<table border=\"1\" class=\"dataframe\">\n",
       "  <thead>\n",
       "    <tr style=\"text-align: right;\">\n",
       "      <th></th>\n",
       "      <th>item_idx</th>\n",
       "      <th>score</th>\n",
       "      <th>item_id</th>\n",
       "      <th>consumer_id</th>\n",
       "      <th>ratings</th>\n",
       "      <th>consumer_idx</th>\n",
       "      <th>title</th>\n",
       "    </tr>\n",
       "  </thead>\n",
       "  <tbody>\n",
       "    <tr>\n",
       "      <th>0</th>\n",
       "      <td>6</td>\n",
       "      <td>1.0</td>\n",
       "      <td>3064370296170038610</td>\n",
       "      <td>3609194402293569455</td>\n",
       "      <td>1</td>\n",
       "      <td>6</td>\n",
       "      <td>Google, Amazon and the upcoming battle over AI Assistants</td>\n",
       "    </tr>\n",
       "    <tr>\n",
       "      <th>1</th>\n",
       "      <td>6</td>\n",
       "      <td>1.0</td>\n",
       "      <td>3064370296170038610</td>\n",
       "      <td>3609194402293569455</td>\n",
       "      <td>1</td>\n",
       "      <td>6</td>\n",
       "      <td>Google, Amazon and the upcoming battle over AI Assistants</td>\n",
       "    </tr>\n",
       "    <tr>\n",
       "      <th>2</th>\n",
       "      <td>6</td>\n",
       "      <td>1.0</td>\n",
       "      <td>3064370296170038610</td>\n",
       "      <td>2290322765105220968</td>\n",
       "      <td>1</td>\n",
       "      <td>450</td>\n",
       "      <td>Google, Amazon and the upcoming battle over AI Assistants</td>\n",
       "    </tr>\n",
       "    <tr>\n",
       "      <th>3</th>\n",
       "      <td>6</td>\n",
       "      <td>1.0</td>\n",
       "      <td>3064370296170038610</td>\n",
       "      <td>2290322765105220968</td>\n",
       "      <td>1</td>\n",
       "      <td>450</td>\n",
       "      <td>Google, Amazon and the upcoming battle over AI Assistants</td>\n",
       "    </tr>\n",
       "    <tr>\n",
       "      <th>4</th>\n",
       "      <td>6</td>\n",
       "      <td>1.0</td>\n",
       "      <td>3064370296170038610</td>\n",
       "      <td>5705041016417759824</td>\n",
       "      <td>1</td>\n",
       "      <td>290</td>\n",
       "      <td>Google, Amazon and the upcoming battle over AI Assistants</td>\n",
       "    </tr>\n",
       "    <tr>\n",
       "      <th>5</th>\n",
       "      <td>6</td>\n",
       "      <td>1.0</td>\n",
       "      <td>3064370296170038610</td>\n",
       "      <td>-3596626804281480007</td>\n",
       "      <td>1</td>\n",
       "      <td>80</td>\n",
       "      <td>Google, Amazon and the upcoming battle over AI Assistants</td>\n",
       "    </tr>\n",
       "    <tr>\n",
       "      <th>6</th>\n",
       "      <td>6</td>\n",
       "      <td>1.0</td>\n",
       "      <td>3064370296170038610</td>\n",
       "      <td>5705041016417759824</td>\n",
       "      <td>1</td>\n",
       "      <td>290</td>\n",
       "      <td>Google, Amazon and the upcoming battle over AI Assistants</td>\n",
       "    </tr>\n",
       "    <tr>\n",
       "      <th>7</th>\n",
       "      <td>6</td>\n",
       "      <td>1.0</td>\n",
       "      <td>3064370296170038610</td>\n",
       "      <td>-3596626804281480007</td>\n",
       "      <td>1</td>\n",
       "      <td>80</td>\n",
       "      <td>Google, Amazon and the upcoming battle over AI Assistants</td>\n",
       "    </tr>\n",
       "    <tr>\n",
       "      <th>8</th>\n",
       "      <td>6</td>\n",
       "      <td>1.0</td>\n",
       "      <td>3064370296170038610</td>\n",
       "      <td>-1443636648652872475</td>\n",
       "      <td>1</td>\n",
       "      <td>26</td>\n",
       "      <td>Google, Amazon and the upcoming battle over AI Assistants</td>\n",
       "    </tr>\n",
       "    <tr>\n",
       "      <th>9</th>\n",
       "      <td>6</td>\n",
       "      <td>1.0</td>\n",
       "      <td>3064370296170038610</td>\n",
       "      <td>-1479311724257856983</td>\n",
       "      <td>1</td>\n",
       "      <td>12</td>\n",
       "      <td>Google, Amazon and the upcoming battle over AI Assistants</td>\n",
       "    </tr>\n",
       "  </tbody>\n",
       "</table>\n",
       "</div>"
      ],
      "text/plain": [
       "   item_idx  score              item_id          consumer_id  ratings  \\\n",
       "0         6    1.0  3064370296170038610  3609194402293569455        1   \n",
       "1         6    1.0  3064370296170038610  3609194402293569455        1   \n",
       "2         6    1.0  3064370296170038610  2290322765105220968        1   \n",
       "3         6    1.0  3064370296170038610  2290322765105220968        1   \n",
       "4         6    1.0  3064370296170038610  5705041016417759824        1   \n",
       "5         6    1.0  3064370296170038610 -3596626804281480007        1   \n",
       "6         6    1.0  3064370296170038610  5705041016417759824        1   \n",
       "7         6    1.0  3064370296170038610 -3596626804281480007        1   \n",
       "8         6    1.0  3064370296170038610 -1443636648652872475        1   \n",
       "9         6    1.0  3064370296170038610 -1479311724257856983        1   \n",
       "\n",
       "   consumer_idx                                                      title  \n",
       "0             6  Google, Amazon and the upcoming battle over AI Assistants  \n",
       "1             6  Google, Amazon and the upcoming battle over AI Assistants  \n",
       "2           450  Google, Amazon and the upcoming battle over AI Assistants  \n",
       "3           450  Google, Amazon and the upcoming battle over AI Assistants  \n",
       "4           290  Google, Amazon and the upcoming battle over AI Assistants  \n",
       "5            80  Google, Amazon and the upcoming battle over AI Assistants  \n",
       "6           290  Google, Amazon and the upcoming battle over AI Assistants  \n",
       "7            80  Google, Amazon and the upcoming battle over AI Assistants  \n",
       "8            26  Google, Amazon and the upcoming battle over AI Assistants  \n",
       "9            12  Google, Amazon and the upcoming battle over AI Assistants  "
      ]
     },
     "execution_count": 580,
     "metadata": {},
     "output_type": "execute_result"
    }
   ],
   "source": [
    "collab_output.head(10)"
   ]
  },
  {
   "cell_type": "code",
   "execution_count": 581,
   "metadata": {},
   "outputs": [],
   "source": [
    "collab_output['collaborative_score_normalized'] = (collab_output['score']-min(collab_output['score']))/(max(collab_output['score'])-min(collab_output['score']))"
   ]
  },
  {
   "cell_type": "code",
   "execution_count": 582,
   "metadata": {},
   "outputs": [
    {
     "data": {
      "text/html": [
       "<div>\n",
       "<style scoped>\n",
       "    .dataframe tbody tr th:only-of-type {\n",
       "        vertical-align: middle;\n",
       "    }\n",
       "\n",
       "    .dataframe tbody tr th {\n",
       "        vertical-align: top;\n",
       "    }\n",
       "\n",
       "    .dataframe thead th {\n",
       "        text-align: right;\n",
       "    }\n",
       "</style>\n",
       "<table border=\"1\" class=\"dataframe\">\n",
       "  <thead>\n",
       "    <tr style=\"text-align: right;\">\n",
       "      <th></th>\n",
       "      <th>item_idx</th>\n",
       "      <th>score</th>\n",
       "      <th>item_id</th>\n",
       "      <th>consumer_id</th>\n",
       "      <th>ratings</th>\n",
       "      <th>consumer_idx</th>\n",
       "      <th>title</th>\n",
       "      <th>collaborative_score_normalized</th>\n",
       "    </tr>\n",
       "  </thead>\n",
       "  <tbody>\n",
       "    <tr>\n",
       "      <th>0</th>\n",
       "      <td>6</td>\n",
       "      <td>1.0</td>\n",
       "      <td>3064370296170038610</td>\n",
       "      <td>3609194402293569455</td>\n",
       "      <td>1</td>\n",
       "      <td>6</td>\n",
       "      <td>Google, Amazon and the upcoming battle over AI Assistants</td>\n",
       "      <td>1.0</td>\n",
       "    </tr>\n",
       "    <tr>\n",
       "      <th>1</th>\n",
       "      <td>6</td>\n",
       "      <td>1.0</td>\n",
       "      <td>3064370296170038610</td>\n",
       "      <td>3609194402293569455</td>\n",
       "      <td>1</td>\n",
       "      <td>6</td>\n",
       "      <td>Google, Amazon and the upcoming battle over AI Assistants</td>\n",
       "      <td>1.0</td>\n",
       "    </tr>\n",
       "    <tr>\n",
       "      <th>2</th>\n",
       "      <td>6</td>\n",
       "      <td>1.0</td>\n",
       "      <td>3064370296170038610</td>\n",
       "      <td>2290322765105220968</td>\n",
       "      <td>1</td>\n",
       "      <td>450</td>\n",
       "      <td>Google, Amazon and the upcoming battle over AI Assistants</td>\n",
       "      <td>1.0</td>\n",
       "    </tr>\n",
       "    <tr>\n",
       "      <th>3</th>\n",
       "      <td>6</td>\n",
       "      <td>1.0</td>\n",
       "      <td>3064370296170038610</td>\n",
       "      <td>2290322765105220968</td>\n",
       "      <td>1</td>\n",
       "      <td>450</td>\n",
       "      <td>Google, Amazon and the upcoming battle over AI Assistants</td>\n",
       "      <td>1.0</td>\n",
       "    </tr>\n",
       "    <tr>\n",
       "      <th>4</th>\n",
       "      <td>6</td>\n",
       "      <td>1.0</td>\n",
       "      <td>3064370296170038610</td>\n",
       "      <td>5705041016417759824</td>\n",
       "      <td>1</td>\n",
       "      <td>290</td>\n",
       "      <td>Google, Amazon and the upcoming battle over AI Assistants</td>\n",
       "      <td>1.0</td>\n",
       "    </tr>\n",
       "  </tbody>\n",
       "</table>\n",
       "</div>"
      ],
      "text/plain": [
       "   item_idx  score              item_id          consumer_id  ratings  \\\n",
       "0         6    1.0  3064370296170038610  3609194402293569455        1   \n",
       "1         6    1.0  3064370296170038610  3609194402293569455        1   \n",
       "2         6    1.0  3064370296170038610  2290322765105220968        1   \n",
       "3         6    1.0  3064370296170038610  2290322765105220968        1   \n",
       "4         6    1.0  3064370296170038610  5705041016417759824        1   \n",
       "\n",
       "   consumer_idx                                                      title  \\\n",
       "0             6  Google, Amazon and the upcoming battle over AI Assistants   \n",
       "1             6  Google, Amazon and the upcoming battle over AI Assistants   \n",
       "2           450  Google, Amazon and the upcoming battle over AI Assistants   \n",
       "3           450  Google, Amazon and the upcoming battle over AI Assistants   \n",
       "4           290  Google, Amazon and the upcoming battle over AI Assistants   \n",
       "\n",
       "   collaborative_score_normalized  \n",
       "0                             1.0  \n",
       "1                             1.0  \n",
       "2                             1.0  \n",
       "3                             1.0  \n",
       "4                             1.0  "
      ]
     },
     "execution_count": 582,
     "metadata": {},
     "output_type": "execute_result"
    }
   ],
   "source": [
    "collab_output.head()"
   ]
  },
  {
   "cell_type": "code",
   "execution_count": 583,
   "metadata": {},
   "outputs": [
    {
     "data": {
      "text/plain": [
       "array(['Google, Amazon and the upcoming battle over AI Assistants',\n",
       "       'Enterprise developers look out: this week on Google Cloud Platform',\n",
       "       'Hero unveils a new home gadget to help you track and dispense pills',\n",
       "       'The Challenge of Determining Whether an A.I. Is Sentient',\n",
       "       'The Continuous Delivery Maturity Model',\n",
       "       'Android Quickstart - Firebase',\n",
       "       '\\u200bGoogle digs deeper on machine learning with new European research lab',\n",
       "       'Object calisthenics: Change the way you code',\n",
       "       'Ahead of the curve: The future of performance management',\n",
       "       'Android N Developer Preview 2, out today! | Android Developers Blog'],\n",
       "      dtype=object)"
      ]
     },
     "execution_count": 583,
     "metadata": {},
     "output_type": "execute_result"
    }
   ],
   "source": [
    "collab_output['title'].unique()[:10]"
   ]
  },
  {
   "cell_type": "code",
   "execution_count": 584,
   "metadata": {},
   "outputs": [
    {
     "data": {
      "text/html": [
       "<div>\n",
       "<style scoped>\n",
       "    .dataframe tbody tr th:only-of-type {\n",
       "        vertical-align: middle;\n",
       "    }\n",
       "\n",
       "    .dataframe tbody tr th {\n",
       "        vertical-align: top;\n",
       "    }\n",
       "\n",
       "    .dataframe thead th {\n",
       "        text-align: right;\n",
       "    }\n",
       "</style>\n",
       "<table border=\"1\" class=\"dataframe\">\n",
       "  <thead>\n",
       "    <tr style=\"text-align: right;\">\n",
       "      <th></th>\n",
       "      <th>event_timestamp</th>\n",
       "      <th>interaction_type</th>\n",
       "      <th>item_id</th>\n",
       "      <th>producer_id</th>\n",
       "      <th>producer_session_id</th>\n",
       "      <th>producer_device_info</th>\n",
       "      <th>producer_location</th>\n",
       "      <th>producer_country</th>\n",
       "      <th>item_type</th>\n",
       "      <th>item_url</th>\n",
       "      <th>title</th>\n",
       "      <th>text_description</th>\n",
       "      <th>language</th>\n",
       "    </tr>\n",
       "  </thead>\n",
       "  <tbody>\n",
       "    <tr>\n",
       "      <th>1307</th>\n",
       "      <td>1465397153</td>\n",
       "      <td>content_present</td>\n",
       "      <td>3064370296170038610</td>\n",
       "      <td>-1443636648652872475</td>\n",
       "      <td>-5844499583089646160</td>\n",
       "      <td>NaN</td>\n",
       "      <td>NaN</td>\n",
       "      <td>NaN</td>\n",
       "      <td>HTML</td>\n",
       "      <td>https://www.linkedin.com/pulse/google-amazon-upcoming-battle-over-ai-assistants-dennis-r-mortensen</td>\n",
       "      <td>Google, Amazon and the upcoming battle over AI Assistants</td>\n",
       "      <td>The stage is set for the coming battle between the big five tech giants: Google, Apple, Facebook, Microsoft, and Amazon (wait, make that four tech giants and one really tech savvy retailer). All a...</td>\n",
       "      <td>en</td>\n",
       "    </tr>\n",
       "  </tbody>\n",
       "</table>\n",
       "</div>"
      ],
      "text/plain": [
       "      event_timestamp interaction_type              item_id  \\\n",
       "1307       1465397153  content_present  3064370296170038610   \n",
       "\n",
       "              producer_id  producer_session_id producer_device_info  \\\n",
       "1307 -1443636648652872475 -5844499583089646160                  NaN   \n",
       "\n",
       "     producer_location producer_country item_type  \\\n",
       "1307               NaN              NaN      HTML   \n",
       "\n",
       "                                                                                                item_url  \\\n",
       "1307  https://www.linkedin.com/pulse/google-amazon-upcoming-battle-over-ai-assistants-dennis-r-mortensen   \n",
       "\n",
       "                                                          title  \\\n",
       "1307  Google, Amazon and the upcoming battle over AI Assistants   \n",
       "\n",
       "                                                                                                                                                                                             text_description  \\\n",
       "1307  The stage is set for the coming battle between the big five tech giants: Google, Apple, Facebook, Microsoft, and Amazon (wait, make that four tech giants and one really tech savvy retailer). All a...   \n",
       "\n",
       "     language  \n",
       "1307       en  "
      ]
     },
     "execution_count": 584,
     "metadata": {},
     "output_type": "execute_result"
    }
   ],
   "source": [
    "platform_content_en[platform_content_en['item_id']==3064370296170038610]"
   ]
  },
  {
   "cell_type": "code",
   "execution_count": 585,
   "metadata": {},
   "outputs": [],
   "source": [
    "def item_based_recommendation(title_id): #func for item based filtering \n",
    "    item_recommendation = pd.DataFrame(article_prediction.iloc[item_dict[title_id]].sort_values(ascending=False))\n",
    "    item_recommendation.reset_index(inplace=True)\n",
    "    item_recommendation.columns = ['item_idx', 'score']\n",
    "    merged = pd.merge(item_recommendation, consumer_all_detail[['item_id','item_idx']], on='item_idx', how='left')\n",
    "    merged_user_title=pd.merge(merged,platform_content_en[['item_id','title']],on='item_id', how='left')\n",
    "    merged_user_title = merged_user_title.drop_duplicates(subset=None, keep='first', inplace=False) #remove duplicates by keeping first original rows\n",
    "    item_fil_df = merged_user_title[merged_user_title['title'].notna()]\n",
    "    item_fil_df['item_score_normalized'] = (item_fil_df['score']-min(item_fil_df['score']))/(max(item_fil_df['score'])-min(item_fil_df['score']))\n",
    "    return item_fil_df\n",
    "\n",
    "    \n",
    "    "
   ]
  },
  {
   "cell_type": "code",
   "execution_count": 586,
   "metadata": {},
   "outputs": [
    {
     "data": {
      "text/html": [
       "<div>\n",
       "<style scoped>\n",
       "    .dataframe tbody tr th:only-of-type {\n",
       "        vertical-align: middle;\n",
       "    }\n",
       "\n",
       "    .dataframe tbody tr th {\n",
       "        vertical-align: top;\n",
       "    }\n",
       "\n",
       "    .dataframe thead th {\n",
       "        text-align: right;\n",
       "    }\n",
       "</style>\n",
       "<table border=\"1\" class=\"dataframe\">\n",
       "  <thead>\n",
       "    <tr style=\"text-align: right;\">\n",
       "      <th></th>\n",
       "      <th>event_timestamp</th>\n",
       "      <th>interaction_type</th>\n",
       "      <th>item_id</th>\n",
       "      <th>producer_id</th>\n",
       "      <th>producer_session_id</th>\n",
       "      <th>producer_device_info</th>\n",
       "      <th>producer_location</th>\n",
       "      <th>producer_country</th>\n",
       "      <th>item_type</th>\n",
       "      <th>item_url</th>\n",
       "      <th>title</th>\n",
       "      <th>text_description</th>\n",
       "      <th>language</th>\n",
       "    </tr>\n",
       "  </thead>\n",
       "  <tbody>\n",
       "    <tr>\n",
       "      <th>1036</th>\n",
       "      <td>1463696081</td>\n",
       "      <td>content_present</td>\n",
       "      <td>8076265166566225141</td>\n",
       "      <td>-1130272294246983140</td>\n",
       "      <td>788079039024593379</td>\n",
       "      <td>NaN</td>\n",
       "      <td>NaN</td>\n",
       "      <td>NaN</td>\n",
       "      <td>HTML</td>\n",
       "      <td>http://www.zeldman.com/2015/12/24/the-year-in-design/</td>\n",
       "      <td>The Year in Design - Zeldman on Web &amp; Interaction Design</td>\n",
       "      <td>Mobile is today's first screen. So design responsively, focusing on content and structure first. Websites and apps alike should remove distractions and let people interact as directly as possible ...</td>\n",
       "      <td>en</td>\n",
       "    </tr>\n",
       "  </tbody>\n",
       "</table>\n",
       "</div>"
      ],
      "text/plain": [
       "      event_timestamp interaction_type              item_id  \\\n",
       "1036       1463696081  content_present  8076265166566225141   \n",
       "\n",
       "              producer_id  producer_session_id producer_device_info  \\\n",
       "1036 -1130272294246983140   788079039024593379                  NaN   \n",
       "\n",
       "     producer_location producer_country item_type  \\\n",
       "1036               NaN              NaN      HTML   \n",
       "\n",
       "                                                   item_url  \\\n",
       "1036  http://www.zeldman.com/2015/12/24/the-year-in-design/   \n",
       "\n",
       "                                                         title  \\\n",
       "1036  The Year in Design - Zeldman on Web & Interaction Design   \n",
       "\n",
       "                                                                                                                                                                                             text_description  \\\n",
       "1036  Mobile is today's first screen. So design responsively, focusing on content and structure first. Websites and apps alike should remove distractions and let people interact as directly as possible ...   \n",
       "\n",
       "     language  \n",
       "1036       en  "
      ]
     },
     "execution_count": 586,
     "metadata": {},
     "output_type": "execute_result"
    }
   ],
   "source": [
    "platform_content_en[platform_content_en['item_id']==8076265166566225141]"
   ]
  },
  {
   "cell_type": "code",
   "execution_count": 587,
   "metadata": {
    "scrolled": true
   },
   "outputs": [
    {
     "name": "stdout",
     "output_type": "stream",
     "text": [
      "ITEM BASED\n",
      "Below are the top10 similar articles for article id 8076265166566225141:\n"
     ]
    },
    {
     "data": {
      "text/html": [
       "<div>\n",
       "<style scoped>\n",
       "    .dataframe tbody tr th:only-of-type {\n",
       "        vertical-align: middle;\n",
       "    }\n",
       "\n",
       "    .dataframe tbody tr th {\n",
       "        vertical-align: top;\n",
       "    }\n",
       "\n",
       "    .dataframe thead th {\n",
       "        text-align: right;\n",
       "    }\n",
       "</style>\n",
       "<table border=\"1\" class=\"dataframe\">\n",
       "  <thead>\n",
       "    <tr style=\"text-align: right;\">\n",
       "      <th></th>\n",
       "      <th>item_id</th>\n",
       "      <th>title</th>\n",
       "    </tr>\n",
       "  </thead>\n",
       "  <tbody>\n",
       "    <tr>\n",
       "      <th>0</th>\n",
       "      <td>8076265166566225141</td>\n",
       "      <td>The Year in Design - Zeldman on Web &amp; Interaction Design</td>\n",
       "    </tr>\n",
       "    <tr>\n",
       "      <th>8</th>\n",
       "      <td>-1634742667970363668</td>\n",
       "      <td>Google Cloud Platform's preemptible VMs are now up to 33% cheaper</td>\n",
       "    </tr>\n",
       "    <tr>\n",
       "      <th>59</th>\n",
       "      <td>-1492913151930215984</td>\n",
       "      <td>Chrome DevTools - Console API Reference</td>\n",
       "    </tr>\n",
       "    <tr>\n",
       "      <th>113</th>\n",
       "      <td>-7681408188643141872</td>\n",
       "      <td>The End Of Apps As We Know Them - Inside Intercom</td>\n",
       "    </tr>\n",
       "    <tr>\n",
       "      <th>202</th>\n",
       "      <td>-4205346868684833897</td>\n",
       "      <td>Google launches Springboard, an AI-powered assistant for its enterprise customers</td>\n",
       "    </tr>\n",
       "    <tr>\n",
       "      <th>538</th>\n",
       "      <td>5772565485432112058</td>\n",
       "      <td>U.S. State Department Recommends Development of Blockchain and Distributed Ledgers to International Partners</td>\n",
       "    </tr>\n",
       "    <tr>\n",
       "      <th>542</th>\n",
       "      <td>-5791454671270548045</td>\n",
       "      <td>Google Cloud Dataproc - the fast, easy and safe way to try Spark 2.0-preview | Google Cloud Big Data and Machine Learning Blog</td>\n",
       "    </tr>\n",
       "    <tr>\n",
       "      <th>559</th>\n",
       "      <td>-4571929941432664145</td>\n",
       "      <td>Machine Learning as a Service: How Data Science Is Hitting the Masses</td>\n",
       "    </tr>\n",
       "    <tr>\n",
       "      <th>679</th>\n",
       "      <td>-3499919498720038879</td>\n",
       "      <td>Hiri wants to fix the workplace email problem</td>\n",
       "    </tr>\n",
       "    <tr>\n",
       "      <th>699</th>\n",
       "      <td>5333141914314968598</td>\n",
       "      <td>Microsoft HoloLens and Lowe's, working to redefine your next home renovation</td>\n",
       "    </tr>\n",
       "  </tbody>\n",
       "</table>\n",
       "</div>"
      ],
      "text/plain": [
       "                 item_id  \\\n",
       "0    8076265166566225141   \n",
       "8   -1634742667970363668   \n",
       "59  -1492913151930215984   \n",
       "113 -7681408188643141872   \n",
       "202 -4205346868684833897   \n",
       "538  5772565485432112058   \n",
       "542 -5791454671270548045   \n",
       "559 -4571929941432664145   \n",
       "679 -3499919498720038879   \n",
       "699  5333141914314968598   \n",
       "\n",
       "                                                                                                                              title  \n",
       "0                                                                          The Year in Design - Zeldman on Web & Interaction Design  \n",
       "8                                                                 Google Cloud Platform's preemptible VMs are now up to 33% cheaper  \n",
       "59                                                                                          Chrome DevTools - Console API Reference  \n",
       "113                                                                               The End Of Apps As We Know Them - Inside Intercom  \n",
       "202                                               Google launches Springboard, an AI-powered assistant for its enterprise customers  \n",
       "538                    U.S. State Department Recommends Development of Blockchain and Distributed Ledgers to International Partners  \n",
       "542  Google Cloud Dataproc - the fast, easy and safe way to try Spark 2.0-preview | Google Cloud Big Data and Machine Learning Blog  \n",
       "559                                                           Machine Learning as a Service: How Data Science Is Hitting the Masses  \n",
       "679                                                                                   Hiri wants to fix the workplace email problem  \n",
       "699                                                    Microsoft HoloLens and Lowe's, working to redefine your next home renovation  "
      ]
     },
     "execution_count": 587,
     "metadata": {},
     "output_type": "execute_result"
    }
   ],
   "source": [
    "print(\"ITEM BASED\")\n",
    "print(\"Below are the top10 similar articles for article id 8076265166566225141:\")\n",
    "top10=item_based_recommendation(8076265166566225141).head(10)\n",
    "top10[['item_id','title']]"
   ]
  },
  {
   "cell_type": "code",
   "execution_count": null,
   "metadata": {},
   "outputs": [],
   "source": []
  },
  {
   "cell_type": "code",
   "execution_count": null,
   "metadata": {},
   "outputs": [],
   "source": []
  },
  {
   "cell_type": "markdown",
   "metadata": {},
   "source": [
    "# Content based recommendation"
   ]
  },
  {
   "cell_type": "code",
   "execution_count": 588,
   "metadata": {},
   "outputs": [],
   "source": [
    "from nltk.corpus import stopwords\n",
    "from nltk.tokenize import word_tokenize\n",
    "from nltk.corpus import stopwords\n",
    "from sklearn.feature_extraction.text import TfidfVectorizer"
   ]
  },
  {
   "cell_type": "code",
   "execution_count": 589,
   "metadata": {},
   "outputs": [
    {
     "data": {
      "text/plain": [
       "0"
      ]
     },
     "execution_count": 589,
     "metadata": {},
     "output_type": "execute_result"
    }
   ],
   "source": [
    "platform_content_en.duplicated().sum()"
   ]
  },
  {
   "cell_type": "markdown",
   "metadata": {},
   "source": [
    "#### Inference\n",
    "- no duplicate rows"
   ]
  },
  {
   "cell_type": "code",
   "execution_count": 590,
   "metadata": {},
   "outputs": [
    {
     "name": "stdout",
     "output_type": "stream",
     "text": [
      "<class 'pandas.core.frame.DataFrame'>\n",
      "Int64Index: 2211 entries, 1 to 3121\n",
      "Data columns (total 13 columns):\n",
      " #   Column                Non-Null Count  Dtype \n",
      "---  ------                --------------  ----- \n",
      " 0   event_timestamp       2211 non-null   int64 \n",
      " 1   interaction_type      2211 non-null   object\n",
      " 2   item_id               2211 non-null   int64 \n",
      " 3   producer_id           2211 non-null   int64 \n",
      " 4   producer_session_id   2211 non-null   int64 \n",
      " 5   producer_device_info  467 non-null    object\n",
      " 6   producer_location     467 non-null    object\n",
      " 7   producer_country      467 non-null    object\n",
      " 8   item_type             2211 non-null   object\n",
      " 9   item_url              2211 non-null   object\n",
      " 10  title                 2211 non-null   object\n",
      " 11  text_description      2211 non-null   object\n",
      " 12  language              2211 non-null   object\n",
      "dtypes: int64(4), object(9)\n",
      "memory usage: 241.8+ KB\n"
     ]
    }
   ],
   "source": [
    "platform_content_en.info()"
   ]
  },
  {
   "cell_type": "code",
   "execution_count": 591,
   "metadata": {},
   "outputs": [],
   "source": [
    "df_keywords = platform_content_en[['item_id','title','text_description']]"
   ]
  },
  {
   "cell_type": "code",
   "execution_count": 592,
   "metadata": {},
   "outputs": [
    {
     "data": {
      "text/html": [
       "<div>\n",
       "<style scoped>\n",
       "    .dataframe tbody tr th:only-of-type {\n",
       "        vertical-align: middle;\n",
       "    }\n",
       "\n",
       "    .dataframe tbody tr th {\n",
       "        vertical-align: top;\n",
       "    }\n",
       "\n",
       "    .dataframe thead th {\n",
       "        text-align: right;\n",
       "    }\n",
       "</style>\n",
       "<table border=\"1\" class=\"dataframe\">\n",
       "  <thead>\n",
       "    <tr style=\"text-align: right;\">\n",
       "      <th></th>\n",
       "      <th>item_id</th>\n",
       "      <th>title</th>\n",
       "      <th>text_description</th>\n",
       "    </tr>\n",
       "  </thead>\n",
       "  <tbody>\n",
       "    <tr>\n",
       "      <th>1</th>\n",
       "      <td>-4110354420726924665</td>\n",
       "      <td>Ethereum, a Virtual Currency, Enables Transactions That Rival Bitcoin's</td>\n",
       "      <td>All of this work is still very early. The first full public version of the Ethereum software was recently released, and the system could face some of the same technical and legal problems that hav...</td>\n",
       "    </tr>\n",
       "    <tr>\n",
       "      <th>2</th>\n",
       "      <td>-7292285110016212249</td>\n",
       "      <td>Bitcoin Future: When GBPcoin of Branson Wins Over USDcoin of Trump</td>\n",
       "      <td>The alarm clock wakes me at 8:00 with stream of advert-free broadcasting, charged at one satoshi per second. The current BTC exchange rate makes that snooze button a costly proposition! So I get u...</td>\n",
       "    </tr>\n",
       "    <tr>\n",
       "      <th>3</th>\n",
       "      <td>-6151852268067518688</td>\n",
       "      <td>Google Data Center 360° Tour</td>\n",
       "      <td>We're excited to share the Google Data Center 360° Tour - a YouTube 360° video that gives you an unprecedented and immersive look inside one of our data centers. There are several ways to view thi...</td>\n",
       "    </tr>\n",
       "    <tr>\n",
       "      <th>4</th>\n",
       "      <td>2448026894306402386</td>\n",
       "      <td>IBM Wants to \"Evolve the Internet\" With Blockchain Technology</td>\n",
       "      <td>The Aite Group projects the blockchain market could be valued at $400 million by 2019. For that reason, some of the biggest names in banking, industry and technology have entered into the space to...</td>\n",
       "    </tr>\n",
       "    <tr>\n",
       "      <th>5</th>\n",
       "      <td>-2826566343807132236</td>\n",
       "      <td>IEEE to Talk Blockchain at Cloud Computing Oxford-Con - CoinDesk</td>\n",
       "      <td>One of the largest and oldest organizations for computing professionals will kick off its annual conference on the future of mobile cloud computing tomorrow, where blockchain is scheduled to be on...</td>\n",
       "    </tr>\n",
       "  </tbody>\n",
       "</table>\n",
       "</div>"
      ],
      "text/plain": [
       "               item_id  \\\n",
       "1 -4110354420726924665   \n",
       "2 -7292285110016212249   \n",
       "3 -6151852268067518688   \n",
       "4  2448026894306402386   \n",
       "5 -2826566343807132236   \n",
       "\n",
       "                                                                     title  \\\n",
       "1  Ethereum, a Virtual Currency, Enables Transactions That Rival Bitcoin's   \n",
       "2       Bitcoin Future: When GBPcoin of Branson Wins Over USDcoin of Trump   \n",
       "3                                             Google Data Center 360° Tour   \n",
       "4            IBM Wants to \"Evolve the Internet\" With Blockchain Technology   \n",
       "5         IEEE to Talk Blockchain at Cloud Computing Oxford-Con - CoinDesk   \n",
       "\n",
       "                                                                                                                                                                                          text_description  \n",
       "1  All of this work is still very early. The first full public version of the Ethereum software was recently released, and the system could face some of the same technical and legal problems that hav...  \n",
       "2  The alarm clock wakes me at 8:00 with stream of advert-free broadcasting, charged at one satoshi per second. The current BTC exchange rate makes that snooze button a costly proposition! So I get u...  \n",
       "3  We're excited to share the Google Data Center 360° Tour - a YouTube 360° video that gives you an unprecedented and immersive look inside one of our data centers. There are several ways to view thi...  \n",
       "4  The Aite Group projects the blockchain market could be valued at $400 million by 2019. For that reason, some of the biggest names in banking, industry and technology have entered into the space to...  \n",
       "5  One of the largest and oldest organizations for computing professionals will kick off its annual conference on the future of mobile cloud computing tomorrow, where blockchain is scheduled to be on...  "
      ]
     },
     "execution_count": 592,
     "metadata": {},
     "output_type": "execute_result"
    }
   ],
   "source": [
    "df_keywords.head()"
   ]
  },
  {
   "cell_type": "markdown",
   "metadata": {},
   "source": [
    "### Create numpy array from text_description column"
   ]
  },
  {
   "cell_type": "code",
   "execution_count": 593,
   "metadata": {},
   "outputs": [],
   "source": [
    "keywords_array = df_keywords['text_description'].to_numpy()"
   ]
  },
  {
   "cell_type": "code",
   "execution_count": 594,
   "metadata": {},
   "outputs": [
    {
     "data": {
      "text/plain": [
       "array(['All of this work is still very early. The first full public version of the Ethereum software was recently released, and the system could face some of the same technical and legal problems that have tarnished Bitcoin. Many Bitcoin advocates say Ethereum will face more security problems than Bitcoin because of the greater complexity of the software. Thus far, Ethereum has faced much less testing, and many fewer attacks, than Bitcoin. The novel design of Ethereum may also invite intense scrutiny by authorities given that potentially fraudulent contracts, like the Ponzi schemes, can be written directly into the Ethereum system. But the sophisticated capabilities of the system have made it fascinating to some executives in corporate America. IBM said last year that it was experimenting with Ethereum as a way to control real world objects in the so-called Internet of things. Microsoft has been working on several projects that make it easier to use Ethereum on its computing cloud, Azure. \"Ethereum is a general platform where you can solve problems in many industries using a fairly elegant solution - the most elegant solution we have seen to date,\" said Marley Gray, a director of business development and strategy at Microsoft. Mr. Gray is responsible for Microsoft\\'s work with blockchains, the database concept that Bitcoin introduced. Blockchains are designed to store transactions and data without requiring any central authority or repository. Blockchain ledgers are generally maintained and updated by networks of computers working together - somewhat similar to the way that Wikipedia is updated and maintained by all its users. Many corporations, though, have created their own Ethereum networks with private blockchains, independent of the public system, and that could ultimately detract from the value of the individual unit in the Ethereum system - known as an Ether - that people have recently been buying. The interest in Ethereum is one sign of the corporate fascination with blockchains. Most major banks have expressed an interest in using them to make trading and money transfer faster and more efficient. On Tuesday, executives from the largest banks will gather for a conference, \"Blockchain: Tapping I nto the Real Potential , Cutting Through the Hype.\" Many of these banks have recently been looking at how some version of Ethereum might be put to use. JPMorgan, for instance, has created a specific tool, Masala, that allows some of its internal databases to interact with an Ethereum blockchain. Michael Novogratz, a former top executive at the private equity firm Fortress Investing Group, who helped lead Fortress\\'s investment in Bitcoin, has been looking at Ethereum since he left Fortress last fall. Mr. Novogratz said that he made a \"significant\" purchase of Ether in January. He has also heard how the financial industry\\'s chatter about the virtual currency has evolved. \"A lot of the more established players were thinking, \\'It\\'s still an experiment,\\' \" he said. \"It feels like in the last two to three months that experiment is at least getting a lot more validation.\" Since the beginning of the year, the value of an individual unit of Ether has soared as high as $12 from around $1. That has brought the value of all existing Ether to over $1 billion at times, significantly more than any virtual currency other than Bitcoin, which had over $6 billion in value outstanding last week. Since Bitcoin was invented, there have been many so-called alt-coins that have tried to improve on Bitcoin, but none have won the following of Ethereum. Unlike Bitcoin, which was released in 2009 by a mysterious creator known as Satoshi Nakamoto, Ethereum was created in a more transparent fashion by a 21-year-old Russian-Canadian, Vitalik Buterin, after he dropped out of Waterloo University in Ontario. The most basic aim of Ethereum was to make it possible to program binding agreements into the blockchain - the smart contract concept. Two people, for instance, could program a bet on a sports game directly into the Ethereum blockchain. Once the final score came in from a mutually agreed upon source - say, The Associated Press - the money would be automatically transferred to the winning party. Ether can be used as a currency in this system, but Ether are also necessary to pay for the network power needed to process the bet. The Ethereum system has sometimes been described as a single shared computer that is run by the network of users and on which resources are parceled out and paid for by Ether. A team of seven co-founders helped Mr. Buterin write up the software after he released the initial description of the system. Mr. Buterin\\'s team raised $18 million in 2014 through a presale of Ether, which helped fund the Ethereum Foundation, which supports the software\\'s development. Like Bitcoin, Ethereum has succeeded by attracting a dedicated network of followers who have helped support the software, partly in the hope that their Ether will increase in value if the system succeeds. Last week, there were 5,800 computers - or nodes - helping support the network around the world. The Bitcoin network had about 7,400 nodes. One of Mr. Buterin\\'s co-founders, Joseph Lubin, has set up ConsenSys, a company based in Brooklyn that has hired over 50 developers to build applications on the Ethereum system, including one that enables music distribution and another that allows for a new kind of financial auditing. The ConsenSys offices are in an old industrial building in the Bushwick section of Brooklyn. The office is essentially one large room, with all the messy trademarks of a start-up operation, including white boards on the walls and computer parts lying around. Mr. Lubin said he had thrown himself into Ethereum after starting to think that it delivered on some of the failed promise of Bitcoin, especially when it came to allowing new kinds of online contracts and markets. \"Bitcoin presented the broad strokes vision, and Ethereum presented the crystallization of how to deliver that vision,\" he said. Joseph Bonneau, a computer science researcher at Stanford who studies so-called crypto-currencies, said Ethereum was the first system that had really caught his interest since Bitcoin. It is far from a sure thing, he cautioned. \"Bitcoin is still probably the safest bet, but Ethereum is certainly No. 2, and some folks will say it is more likely to be around in 10 years,\" Mr. Bonneau said. \"It will depend if any real markets develop around it. If there is some actual application.\"',\n",
       "       'The alarm clock wakes me at 8:00 with stream of advert-free broadcasting, charged at one satoshi per second. The current BTC exchange rate makes that snooze button a costly proposition! So I get up, make coffee and go to my computer to check the overnight performance of my bots. TradeBot earns me on Trump and Branson TradeBot, which allocates funds between the main chain and various national currency side-chains, generated a lucrative 0.24 BTC return. TradeBot has been reliably profitable ever since I set it to trade USDcoin according to political prediction market data. As expected, the latest poll numbers came in as highly supportive of Trump\\'s re-election as USDcoin CEO. Trump\\'s resistance to de-anonymizing public spending, by moving USDcoin off the Confidential Transactions layer, continues to erode his coin\\'s credibility. In his latest speech, Trump maintains that full CT-privacy is essential to \"combatting CNYcoin\\'s sinister ring-signature scheming.\" I make a note to increase my long position in GBPcoin. Following CEO Branson\\'s memo to the effect that government finances and national banks be brought into compliance with the public blockchain , British corruption indices have flatlined. As the first national econmy to \"go light,\" Britain leads the global recovery from the Great Debt Default of \\'20. Happy with the GoatData Project I check TeachBot and note that it\\'s performing in-line with expectations. TeachBot serves as an autonomous info-agent between various contracting AIs and data providers. The 0.5 BTC bounty it awarded to a team of Sherpas to outfit a herd of Tibetan mountain goats with full motion-sensing rigs has already been repaid...I check the latest figures... four times over! My best TeachBot strategy to date, the GoatData project provides valuable data to WinterHoof, the Artificial General Intelligence in charge of the Swiss military\\'s quadripedal robotics program. At this rate, I\\'ll soon have enough BTC to retire to Satoshi City on Mars!',\n",
       "       \"We're excited to share the Google Data Center 360° Tour - a YouTube 360° video that gives you an unprecedented and immersive look inside one of our data centers. There are several ways to view this video: On desktop using Google Chrome use your mouse or trackpad to change your view while the video plays YouTube app on mobile - move your device around to look at all angles while the video plays And the most immersive way to view - using Google Cardboard (currently supported by the Android YouTube app only, iOS support is coming soon!) Load the video in the YouTube app and tap on the Cardboard icon when the video starts to play. Insert your phone in Cardboard and look around. A little background . . . Several months ago, those of us on the Google Cloud Developer Advocacy Team had a rare opportunity to tour the Google data center in The Dalles, Oregon. Many of us had seen other non-Google data centers in our careers, but this experience was beyond anything we ever imagined. We were blown away by the scale, the incredible attention to security and privacy, and the amazing efforts to make the data center extremely efficient and green. Additionally, we were proud to meet some of the brilliant people that design, build and maintain these data centers. If you are a Google Cloud Platform customer, then this is your data center as much as it is our data center, so we want you to experience what we experienced. We hope you enjoy it! - Posted by Greg Wilson, Head of Developer Advocacy, Google Cloud Platform\",\n",
       "       ...,\n",
       "       'February 9, 2017 - We begin each year with a look at the K-12 computer science landscape - whether the direct impact of Code.org and our partners, or the indirect and sometimes unrelated impact of other global efforts that share our vision. It\\'s been three and a half years since Code.org hired our first employee. We\\'ve been humbled to watch the world\\'s education system embrace computer science, at an ever-accelerating pace. During this short time, 11 countries, 31 U.S. states, and over 120 U.S. cities and school districts have announced efforts to expand access to computer science as part of the K-12 curriculum; the new Advanced Placement (AP) Computer Science Principles course has launched in over 2,000 classrooms; over 50,000 U.S. teachers have attended workshops to begin teaching computer science; over 500,000 teachers globally have begun teaching computer science classes to over 16 million students; diversity in computer science classrooms has improved for two years in a row; the Hour of Code has surpassed 350 million served - reaching one out of every 10 students on the planet; and 8 Presidents and Prime Ministers have hosted events to inspire millions more to join this teacher-powered movement. To be clear, this isn\\'t the work of Code.org alone. We\\'ve had the support of hundreds of partners , and hundreds of thousands of educators, globally. Many of them began this work years before we existed. The international momentum is led by partners who share our mission in other countries. And in the U.S., this movement has had the bipartisan support of the federal government as well as most state governments. Our largest donors - Microsoft, Facebook, Google, Infosys, and Omidyar Network - deserve special recognition for funding not only Code.org but also the other nonprofits working towards the same goal, globally. We are thankful for all the efforts that share our mission. When we launched Code.org in 2013, it seemed impossible to change the entire education system. Although we still have a long way to go, 2016 was yet another record year, making us more confident than ever in our ability to realize our vision - that every student in every school should have the opportunity to learn computer science. Inspire students and increase diversity with the Hour of Code 20 million served 90M 48% female 195M 49% female 344M 49% female Enable students to show \"basic coding proficiency\" with CS Fundamentals. N/A N/A N/A 887,840 total 365,842 female Improve diversity in CS (measured among students on Code Studio) N/A 43% female, 37% African American or Hispanic 43% female, 37% African American or Hispanic 45% female, 48% underrepresented minorities , 47% free/reduced meal plans Lead a coalition to set policies supporting CS. Policies changed in: 5 states 16 states 17 states, including $9M in CS funding 31 states , including $13M in CS funding Addressing diversity in K-12 computer science is core to our mission. We all know the technology sector as a whole has a diversity problem , caused by a variety of factors. Our focus is on one piece of the problem, the education pipeline, where historically only 20~25% of students are female, and 13~15% are underrepresented minorities. By contrast, the students across Code.org classrooms are far more balanced across gender, race, and also socioeconomic status. This is partly because teachers integrate our courses into classrooms that are already diverse, and partly because we incorporate a focus on diversity throughout our work . For example, we published a study of 8,000 students who took a survey right before and after trying our tutorials. Among female high school students, the number who agreed with the statement \"I like computer science\" jumped from 55% to 75% from just one session of using Code.org\\'s Hour of Code activities. As another example, consider our Computer Science Principles course, designed for the new AP Computer Science exam. Traditionally, AP Computer Science is dominated by white and Asian males, with at most 15% underrepresented minorities. In our 512 classrooms, 49% of the students are underrepresented minorities - which adds up to more students than the entire nation\\'s AP computer science exam participation in 2016. (Side note: 53% of Code.org\\'s staff are women. Our board and leadership team are gender-balanced.) In the 3 years since we launched our Code Studio coding platform, 1/10 of all students on the planet have engaged in our computer science courses, making Code Studio the most broadly used curriculum in computer science. Of course, millions of these students are \"drive-by\" users. What matters more to us is how many teachers incorporate our lessons into their classrooms, and what their students learn. Example high school classroom project, using turtle-drawing commands Measuring by registered students, registered teachers, or monthly activity, Code Studio has doubled in scale in the last 12 months. But instead of measuring logins or page-views, in the last year, we embarked on creating a new metric of success. We began counting students who demonstrate \"basic coding proficiency\" in our CS Fundamentals course using a definition which we created based on student success at coding challenges. The chart below shows how many students demonstrated this proficiency at different levels of difficulty. (This is our first stab at measuring student proficiency, and we have a lot of work to improve it.) The secret behind our growth is simple: teachers recommend our courses to other teachers. One way to measure this is with the Net Promoter methodology : we score 85 among teachers, which is outstanding. This high score is supported by the testimonials we hear from teachers in classrooms. In the 2016-17 school year, we formally launched our App Lab app-making tool, and began scaling our new College Board endorsed Computer Science Principles course to prepare for a new AP exam. Computer science is already the fastest-growing AP course offered by the College Board, having almost doubled since Code.org launched. With this year\\'s new exam, 2017 is poised to be its biggest year yet. There are 2,600 schools participating in the new exam, according to the College Board audit. Among schools using College Board endorsed curricula, 55% are using Code.org\\'s CS Principles course. More than 75,000 students have interacted with our CS Principles course this school year. Our focus is the 512 classrooms of teachers in our professional learning program. These classrooms have 18,615 students enrolled, of which 5,721 are female students, and 9,083 are underrepresented minorities. If these students all take the exam, we have the opportunity to double the number of underrepresented minorities in AP computer science in just one year. In 2016 Code.org\\'s professional learning and school outreach programs accelerated in every dimension. We hosted 4 large professional learning conferences for educators, with stellar feedback. And we grew our network of regional partners and expert facilitators - this network will provide the backbone for the future growth of K-12 computer science. 52,000 computer science teachers prepared by Code.org Our professional learning network: over 40 regional partners, 400 expert facilitators And above all, across all our programs, we passed a new milestone: 52,000 computer science teachers have been prepared by Code.org. Most of these are elementary school teachers who will begin teaching 10-20 hours of computer science per year. But thousands of them are high school teachers teaching a year-long computer science class. More importantly, the feedback from our professional learning workshops is uniformly fantastic. The vast majority of teachers attending these workshops rank them the \"best professional development\" they\\'ve ever experienced. This is partly because America\\'s teachers want to learn and teach computer science, and partly because of the amazing passion of our expert facilitators. While most of Code.org\\'s staff and resources are focused on implementing computer science programs in schools, we have a small, crack team working on changing government policies to support, expand, and sustain K-12 computer science. This effort wouldn\\'t be possible without our coalition partners (especially Microsoft and the College Board), and our many local champions deserve the real credit for driving local change. Our state policy work focuses on 9 ideas we urge every state to consider . Below, we highlight our impact across 3 of these that are easiest to measure. Policy area Policy changed since 2013 High school graduation policy States that have changed policies to allow rigorous CS courses to satisfy core high school graduation requirements AL, AZ, AR, CA, CO, FL, ID, IL, KY, LA, MD, MN, NH, NJ, NY, OH, PA, TN, VA, WA, WV, WI Establishing state-level standards for CS States that have developed or are in the process of developing state education standards for computer science AR, CA, CO, FL, ID, IN, MA, NJ, SC, TX, VA, WA, WI, and WV. States that are evaluating developing standards: AL, DE, MD, MT, OK, and RI. Funding for CS States that have allocated funding specifically to K-12 computer science AR, AZ, GA, ID, MA, RI, UT, VA, WA. These states have allocated $13.01M in total Throughout 2016 we saw growing momentum for computer science among local governments beyond just the policy measures listed above. Chicago Public Schools became the first major school district to make computer science a graduation requirement for all students. The US Conference of Mayors proposed a resolution (sponsored by the mayors of New York, Los Angeles, Chicago, San Francisco, and Baltimore) to expand computer science in schools. Last but not least, we launched the Governors for CS partnership, bringing together the governors of Arkansas, Washington, Rhode Island, Iowa, Virginia, Idaho, and Nevada to build plans for K-12 computer science with more governors to join in 2017. After over a year of work by fourteen states and four school districts, dozens of writers and advisors, and leaders in corporate, nonprofit, and education sectors, the K-12 Computer Science Framework was launched in October with broad support . The framework offers a set of guidelines that could be used to inform the development of standards, curriculum, and computer science pathways, and also help school systems build capacity for teaching computer science. The impact of all the experts and organizations who came together to create the Framework will be felt for years to come. In December, we hosted 22 state teams to plan implementation work, and we will continue similar convenings to build on the momentum. In addition, in 2016, ETS announced it will create a new Praxis exam for credentialing teachers in computer science, and Pearson is working on a similar exam - both informed by the Framework. 2016 was the biggest year ever for the Hour of Code , which has now surpassed 350 million \"served.\" This year, Code.org handed important reins of the campaign to the education community: We gave a committee and review board the responsibility of setting the guidelines and rating the recommended activities . Hundreds of global nonprofits, corporations, and government agencies supported the campaign. From the new tutorials launched by Disney, Microsoft, and Google, to the activities and promotions hosted at Facebook offices and Apple stores, to the thousands of industry volunteers from other companies, the collaboration was amazing. Our own web site hummed along more smoothly than ever, thanks to the support of Amazon Web Services. The global campaign was launched by Canadian Prime Minister Justin Trudeau . And the world\\'s greatest athletes supported this year\\'s Hour of Code with a special inspirational video for students. Presidents and prime ministers rally around the Hour of Code Eight presidents and prime ministers around the world have now hosted symbolic events to inspire students and educators to try computer science. The global Hour of Code campaign has established Computer Science Education Week as a fixture in hundreds of thousands of schools, each year recruiting tens of millions of new students and hundreds of thousands of teachers to try computer science. The work of our global partners has also helped build global momentum for computer science. In 2016, Japan, Malaysia, New Zealand, Ireland, British Columbia, and Nova Scotia followed the lead set by UK, South Korea, Saudi Arabia, Argentina, Australia, and Italy to announce plans to integrate computer science into national curriculum. (See status of global CS efforts ) Last but certainly not least, the biggest headline in computer science in 2016 was the Obama administration\\'s announcement of Computer Science for All . The President announced that \"in the new economy, computer science isn\\'t an optional skill, it\\'s a basic skill.\" The announcement was coupled with a $4 billion proposal for Federal funding. Although the headline funding of CS for All didn\\'t pan out, the bully pulpit played an important role to accelerate this movement. The White House helped amplify and celebrate the work of the computer science community, and President Obama\\'s personal support for Code.org has been invaluable to the movement\\'s international growth. Local efforts such as CS4RI , CS4NH , CS4TX have sprung up in response and will serve as new rallying cries for the movement. Meanwhile, Congress unanimously authorized long-term NSF funding for computer science research which has provided foundational guidance and support to many efforts in the space. NSF funding has established new CS courses in hundreds of classrooms: 5~10% of all new CS teachers prepared this decade were funded by the NSF, and ~19% of all AP CS Principles teachers are teaching NSF-funded curricula. We\\'re thankful to the bipartisan leadership of the Representatives and Senators who supported continuing this work. Of course, together with the new CS Education Coalition , we will continue advocating for federal funding for computer science. Although most of the last few years\\' progress to expand computer science in U.S. schools have been funded by private donors and state governments, an injection of federal funding would greatly accelerate these efforts. Code.org recently penned a memo for the Trump administration laying out a very simple case: In 2016, Fortune 500 CEOs, 27 governors, and top education leaders joined forces to call for federal funding to address this. In 2017, thanks to the leadership of champions from both parties, we are as hopeful as ever that this goal is within reach. With yet another year of growth, we are more confident than ever in the strength and momentum behind the computer science movement, not just in the United States, but globally. Hundreds of thousands of worldwide educators have decided that every student in every school deserves the opportunity to learn computer science. The strength of this movement lies in the inspirational commitment of these teachers and educators. The nonprofits, philanthropists, and local governments who support them will continue and even accelerate our work in 2017 and beyond. Hadi Partovi, Code.org Finances For calendar year 2016 our total expenses were approximately* $19.3 million. The chart below paints a general picture of how this money was spent. *Important note: The information above is not based on audited financials. The table below shows the total cost breakdown of our headline achievements since founding. Areas of effort / Achievements in 2013 - 2016 Fully-loaded cost (including admin) Marketing: Hour of Code campaign, 350M served, reaching 10% of students globally, with events in 196 countries. 48% female participation $8 million Curriculum + Code Studio learning platform: ~300 hours of coursework created, 500,000 teacher accounts. 16 million student accounts. 45% female, 48% underrepresented minorities $14.2 million Partnership + professional learning: 41 regional partners and 400 facilitators who have prepared 52,000 new CS teachers across grades K-12. ($6.8M spent on grades K-5, $13.2M on grades 6-12) $20 million Government affairs: Policies changed in 31 states, $13M in state budgets allocated to CS, 3 Federal bills recognize CS. $3.3 million TOTAL SPENT (2013-2016) $45.5 million Other reports Our generous donors We are supported by philanthropic donations from corporations, foundations, and generous individuals. Code.org is a public 501c3. All donations to Code.org are tax-deductible, and matched 50%. Please consider a donation Platinum Supporters ($3,000,000+ contribution) Gold Supporters ($1,000,000+ contribution) Silver Supporters ($500,000+ contribution) Bronze Supporters ($100,000+ contribution) Supporters ($25,000+ contribution) Craig Silverstein and Mary Obelnicki Microsoft Alumni Foundation Motorola Solutions Foundation Nick and Leslie Hanauer Foundation View all other supporters',\n",
       "       'At JPMorgan Chase & Co., a learning machine is parsing financial deals that once kept legal teams busy for thousands of hours. The program, called COIN, for Contract Intelligence, does the mind-numbing job of interpreting commercial-loan agreements that, until the project went online in June, consumed 360,000 hours of lawyers\\' time annually. The software reviews documents in seconds, is less error-prone and never asks for vacation. Photographer: Kholood Eid/Bloomberg While the financial industry has long touted its technological innovations, a new era of automation is now in overdrive as cheap computing power converges with fears of losing customers to startups. Made possible by investments in machine learning and a new private cloud network, COIN is just the start for the biggest U.S. bank. The firm recently set up technology hubs for teams specializing in big data, robotics and cloud infrastructure to find new sources of revenue, while reducing expenses and risks. The push to automate mundane tasks and create new tools for bankers and clients -- a growing part of the firm\\'s $9.6 billion technology budget -- will be a theme as the company hosts its annual investor day on Tuesday. Behind the strategy, overseen by Chief Operating Operating Officer Matt Zames and Chief Information Officer Dana Deasy, is an undercurrent of anxiety: Though JPMorgan emerged from the financial crisis as one of few big winners, its dominance is at risk unless it aggressively pursues new technologies, according to interviews with a half-dozen bank executives. Redundant Software That was the message Zames had for Deasy when he joined the firm from BP Plc in late 2013. The New York-based bank\\'s internal systems, an amalgam from decades of mergers, had too many redundant software programs that didn\\'t work together seamlessly. \"Matt said, \\'Remember one thing above all else: We absolutely need to be the leaders in technology across financial services,\\'\" Deasy said last week in an interview. \"Everything we\\'ve done from that day forward stems from that meeting.\" A QuickTake explainer on fintech After visiting companies including and three years ago to understand how their developers worked, the bank set out to create its own computing cloud called Gaia that went online last year. Machine learning and big-data efforts now reside on the private platform, which effectively has limitless capacity to support their thirst for processing power. The system already is helping the bank automate some coding activities and making its 20,000 developers more productive, saving money, Zames said. When needed, the firm can also tap into outside cloud services from , and . Tech Spending JPMorgan will make some of its cloud-backed technology available to institutional clients later this year, allowing firms like to access balances, research and trading tools. The move, which lets clients bypass salespeople and support staff for routine information, is similar to one announced in 2015. JPMorgan\\'s total technology budget for this year amounts to 9 percent of its projected revenue -- double the industry average, according to Morgan Stanley analyst Betsy Graseck. The dollar figure has inched higher as JPMorgan bolsters cyber defenses after a 2014 data breach, which exposed the information of 83 million customers. Photographer: Kholood Eid/Bloomberg One-third of the budget is for new initiatives, a figure Zames wants to take to 40 percent in a few years. He expects savings from automation and retiring old technology will let him plow even more money into new innovations. Not all of those bets, which include several projects based on a distributed ledger, like blockchain, will pay off, which JPMorgan says is OK. One example executives are fond of mentioning: The firm built an electronic platform to help trade credit-default swaps that sits unused. \\'Can\\'t Wait\\' \"We\\'re willing to invest to stay ahead of the curve, even if in the final analysis some of that money will go to product or a service that wasn\\'t needed,\" Marianne Lake, the lender\\'s finance chief, told a conference audience in June. That\\'s \"because we can\\'t wait to know what the outcome, the endgame, really looks like, because the environment is moving so fast.\" As for COIN, the program has helped JPMorgan cut down on loan-servicing mistakes, most of which stemmed from human error in interpreting 12,000 new wholesale contracts per year, according to its designers. JPMorgan is scouring for more ways to deploy the technology, which learns by ingesting data to identify patterns and relationships. The bank plans to use it for other types of complex legal filings like credit-default swaps and custody agreements. Someday, the firm may use it to help interpret regulations and analyze corporate communications. Another program called X-Connect, which went into use in January, examines e-mails to help employees find colleagues who have the closest relationships with potential prospects and can arrange introductions. Creating Bots For simpler tasks, the bank has created bots to perform functions like granting access to software systems and responding to IT requests, such as resetting an employee\\'s password, Zames said. Bots are expected to handle 1.7 million access requests this year, doing the work of 140 people. Photographer: Kholood Eid/Bloomberg While growing numbers of people in the industry worry such advancements might someday take their jobs, many Wall Street personnel are more focused on benefits. A survey of more than 3,200 financial professionals by recruiting firm Options Group last year found a majority expect new technology will improve their careers, for example by improving workplace performance. Click here for Options Group\\'s survey on technology\\'s impact \"Anything where you have back-office operations and humans kind of moving information from point A to point B that\\'s not automated is ripe for that,\" Deasy said. \"People always talk about this stuff as displacement. I talk about it as freeing people to work on higher-value things, which is why it\\'s such a terrific opportunity for the firm.\" To help spur internal disruption, the company keeps tabs on 2,000 technology ventures, using about 100 in pilot programs that will eventually join the firm\\'s growing ecosystem of partners. For instance, the bank\\'s machine-learning software was built with , a software firm that JPMorgan first encountered in 2009. \"We\\'re starting to see the real fruits of our labor,\" Zames said. \"This is not pie-in-the-sky stuff.\"',\n",
       "       'The Acquia Partner Awards Program is comprised of two categories across our four global regions: Partners of the Year and Growth Partners of the Year. The Acquia Partner Awards recognize outstanding contributions from our partners over the course of 2016 both in the overall business performance category as well as growth from the previous year.'],\n",
       "      dtype=object)"
      ]
     },
     "execution_count": 594,
     "metadata": {},
     "output_type": "execute_result"
    }
   ],
   "source": [
    "keywords_array"
   ]
  },
  {
   "cell_type": "code",
   "execution_count": 595,
   "metadata": {},
   "outputs": [
    {
     "data": {
      "text/plain": [
       "2211"
      ]
     },
     "execution_count": 595,
     "metadata": {},
     "output_type": "execute_result"
    }
   ],
   "source": [
    "len(keywords_array)"
   ]
  },
  {
   "cell_type": "code",
   "execution_count": 596,
   "metadata": {},
   "outputs": [
    {
     "data": {
      "text/plain": [
       "str"
      ]
     },
     "execution_count": 596,
     "metadata": {},
     "output_type": "execute_result"
    }
   ],
   "source": [
    "type(keywords_array[0])"
   ]
  },
  {
   "cell_type": "markdown",
   "metadata": {},
   "source": [
    "### Generate Words from Keywords Array by Splitting\n"
   ]
  },
  {
   "cell_type": "code",
   "execution_count": 597,
   "metadata": {},
   "outputs": [],
   "source": [
    "words_list = []\n",
    "for keyword in keywords_array:\n",
    "    splitted_words = keyword.lower().split()\n",
    "    words_list.append(splitted_words)"
   ]
  },
  {
   "cell_type": "code",
   "execution_count": 598,
   "metadata": {},
   "outputs": [
    {
     "data": {
      "text/plain": [
       "(2211, 1072, 311)"
      ]
     },
     "execution_count": 598,
     "metadata": {},
     "output_type": "execute_result"
    }
   ],
   "source": [
    "len(words_list), len(words_list[0]), len(words_list[1])"
   ]
  },
  {
   "cell_type": "markdown",
   "metadata": {},
   "source": [
    "### Create dictionary"
   ]
  },
  {
   "cell_type": "code",
   "execution_count": 599,
   "metadata": {},
   "outputs": [],
   "source": [
    "from gensim.corpora.dictionary import Dictionary"
   ]
  },
  {
   "cell_type": "code",
   "execution_count": 600,
   "metadata": {},
   "outputs": [],
   "source": [
    "dictionary = Dictionary(words_list) "
   ]
  },
  {
   "cell_type": "code",
   "execution_count": 601,
   "metadata": {},
   "outputs": [
    {
     "data": {
      "text/plain": [
       "113134"
      ]
     },
     "execution_count": 601,
     "metadata": {},
     "output_type": "execute_result"
    }
   ],
   "source": [
    "len(dictionary)"
   ]
  },
  {
   "cell_type": "markdown",
   "metadata": {},
   "source": [
    "### Create corpus where the corpus is a bag of words for each document"
   ]
  },
  {
   "cell_type": "code",
   "execution_count": 602,
   "metadata": {},
   "outputs": [
    {
     "data": {
      "text/plain": [
       "2211"
      ]
     },
     "execution_count": 602,
     "metadata": {},
     "output_type": "execute_result"
    }
   ],
   "source": [
    "corpus = [dictionary.doc2bow(doc) for doc in words_list] \n",
    "len(corpus)"
   ]
  },
  {
   "cell_type": "markdown",
   "metadata": {},
   "source": [
    "### Create tf-idf model"
   ]
  },
  {
   "cell_type": "code",
   "execution_count": 603,
   "metadata": {},
   "outputs": [],
   "source": [
    "from gensim.models.tfidfmodel import TfidfModel\n",
    "tfidf = TfidfModel(corpus) "
   ]
  },
  {
   "cell_type": "markdown",
   "metadata": {},
   "source": [
    "### Create similarity matrix for articles"
   ]
  },
  {
   "cell_type": "code",
   "execution_count": 604,
   "metadata": {},
   "outputs": [],
   "source": [
    "from gensim.similarities import MatrixSimilarity\n",
    "sims = MatrixSimilarity(tfidf[corpus], num_features=len(dictionary))"
   ]
  },
  {
   "cell_type": "markdown",
   "metadata": {},
   "source": [
    "### Create a model and run recommendation"
   ]
  },
  {
   "cell_type": "code",
   "execution_count": 605,
   "metadata": {},
   "outputs": [],
   "source": [
    "def article_recommendation(item_id):\n",
    "    article = df_keywords.loc[df_keywords.item_id==item_id] # get the article row\n",
    "    keywords = article['text_description'].iloc[0].split() #get the keywords as a Series,\n",
    "    # get just the keywords string ([0]), and then convert to a list of keywords (.split() )\n",
    "    \n",
    "    #set the query_doc to the list of keywords\n",
    "    query_doc = keywords \n",
    "    \n",
    "    # get a bag of words from the query_doc\n",
    "    query_doc_bow = dictionary.doc2bow(query_doc)\n",
    "    \n",
    "    #convert the regular bag of words model to a tf-idf model\n",
    "    query_doc_tfidf = tfidf[query_doc_bow] \n",
    "    \n",
    "     # get the array of similarity values between our article and every other article. \n",
    "    similarity_array = sims[query_doc_tfidf]\n",
    "    #So the length is the number of articles we have. To do this, we pass our list of tf-idf tuples to sims\n",
    "    \n",
    "    \n",
    "    similarity_series = pd.Series(similarity_array.tolist(), index=df_keywords.title.values)\n",
    "    recommended_articles = similarity_series.sort_values(ascending=False)\n",
    "    return recommended_articles"
   ]
  },
  {
   "cell_type": "code",
   "execution_count": 606,
   "metadata": {},
   "outputs": [],
   "source": [
    "pd.set_option('max_colwidth', 100)"
   ]
  },
  {
   "cell_type": "code",
   "execution_count": 607,
   "metadata": {},
   "outputs": [
    {
     "data": {
      "text/plain": [
       "item_id                                                                                            -2148899391355011268\n",
       "title                                                     Banks Need To Collaborate With Bitcoin and Fintech Developers\n",
       "text_description    It will take time until banks come around to the idea of embracing Bitcoin or Fintech, though. B...\n",
       "Name: 6, dtype: object"
      ]
     },
     "execution_count": 607,
     "metadata": {},
     "output_type": "execute_result"
    }
   ],
   "source": [
    "df_keywords.iloc[5]"
   ]
  },
  {
   "cell_type": "code",
   "execution_count": 608,
   "metadata": {},
   "outputs": [],
   "source": [
    "#article_recommendation(-2148899391355011268)"
   ]
  },
  {
   "cell_type": "code",
   "execution_count": 609,
   "metadata": {},
   "outputs": [
    {
     "name": "stdout",
     "output_type": "stream",
     "text": [
      "Banks Need To Collaborate With Bitcoin and Fintech Developers                       0.814491\n",
      "The Future of Digital Banking is Now                                                0.267962\n",
      "Digital Tool as Strategic Enabler for Banking Transformation                        0.254537\n",
      "Is FinTech Forcing Banking to a Tipping Point?                                      0.251908\n",
      "What Is Open Banking and Why is it Important?                                       0.248604\n",
      "Welcome to GoogleBank, Facebook Bank, Amazon Bank, and Apple Bank - Enrique Dans    0.207781\n",
      "Building a digital-banking business                                                 0.207443\n",
      "Why Barclays Sees Banking's Future as an Information Business                       0.199502\n",
      "Blockchain Will Be Used By 15% of Big Banks By 2017                                 0.195421\n",
      "A digital crack in banking's business model                                         0.183100\n",
      "dtype: float64\n"
     ]
    }
   ],
   "source": [
    "similar_articles=article_recommendation(-2148899391355011268)\n",
    "print(similar_articles[:10])"
   ]
  },
  {
   "cell_type": "code",
   "execution_count": 610,
   "metadata": {},
   "outputs": [],
   "source": [
    "def content_based_filtering(item_id):\n",
    "    \n",
    "    #recommend articles for any article\n",
    "    content_output = article_recommendation(item_id) \n",
    "    \n",
    "    #create df of the content output\n",
    "    content_df = pd.DataFrame(content_output)\n",
    "    content_df.reset_index(inplace=True)\n",
    "    content_df.columns = ['title', 'score']\n",
    "    \n",
    "    #merge\n",
    "    content_df=pd.merge(content_df, df_keywords[['item_id','title','text_description']],on='title',how='left' ) \n",
    "    content_df.sort_values(by='score', ascending=False,inplace=True)\n",
    "    \n",
    "    #normalized score\n",
    "    content_df['content_score_normalized'] = (content_df['score']-min(content_df['score'])) / (max(content_df['score']) - min(content_df['score'])) #normalize score\n",
    "    return content_df"
   ]
  },
  {
   "cell_type": "code",
   "execution_count": 611,
   "metadata": {},
   "outputs": [
    {
     "name": "stdout",
     "output_type": "stream",
     "text": [
      "CONTENT BASED RECOMMENDATION\n"
     ]
    },
    {
     "data": {
      "text/html": [
       "<div>\n",
       "<style scoped>\n",
       "    .dataframe tbody tr th:only-of-type {\n",
       "        vertical-align: middle;\n",
       "    }\n",
       "\n",
       "    .dataframe tbody tr th {\n",
       "        vertical-align: top;\n",
       "    }\n",
       "\n",
       "    .dataframe thead th {\n",
       "        text-align: right;\n",
       "    }\n",
       "</style>\n",
       "<table border=\"1\" class=\"dataframe\">\n",
       "  <thead>\n",
       "    <tr style=\"text-align: right;\">\n",
       "      <th></th>\n",
       "      <th>item_id</th>\n",
       "      <th>title</th>\n",
       "    </tr>\n",
       "  </thead>\n",
       "  <tbody>\n",
       "    <tr>\n",
       "      <th>0</th>\n",
       "      <td>-2148899391355011268</td>\n",
       "      <td>Banks Need To Collaborate With Bitcoin and Fintech Developers</td>\n",
       "    </tr>\n",
       "    <tr>\n",
       "      <th>1</th>\n",
       "      <td>2727743992157210358</td>\n",
       "      <td>The Future of Digital Banking is Now</td>\n",
       "    </tr>\n",
       "    <tr>\n",
       "      <th>2</th>\n",
       "      <td>5929055844564382383</td>\n",
       "      <td>Digital Tool as Strategic Enabler for Banking Transformation</td>\n",
       "    </tr>\n",
       "    <tr>\n",
       "      <th>3</th>\n",
       "      <td>-205193648629294862</td>\n",
       "      <td>Is FinTech Forcing Banking to a Tipping Point?</td>\n",
       "    </tr>\n",
       "    <tr>\n",
       "      <th>4</th>\n",
       "      <td>5028081187109329892</td>\n",
       "      <td>What Is Open Banking and Why is it Important?</td>\n",
       "    </tr>\n",
       "    <tr>\n",
       "      <th>5</th>\n",
       "      <td>2072448887839540892</td>\n",
       "      <td>Welcome to GoogleBank, Facebook Bank, Amazon Bank, and Apple Bank - Enrique Dans</td>\n",
       "    </tr>\n",
       "    <tr>\n",
       "      <th>6</th>\n",
       "      <td>-7002558676365724983</td>\n",
       "      <td>Building a digital-banking business</td>\n",
       "    </tr>\n",
       "    <tr>\n",
       "      <th>7</th>\n",
       "      <td>-634395794651424614</td>\n",
       "      <td>Why Barclays Sees Banking's Future as an Information Business</td>\n",
       "    </tr>\n",
       "    <tr>\n",
       "      <th>8</th>\n",
       "      <td>8631616594020837056</td>\n",
       "      <td>Blockchain Will Be Used By 15% of Big Banks By 2017</td>\n",
       "    </tr>\n",
       "    <tr>\n",
       "      <th>9</th>\n",
       "      <td>7516228655554309785</td>\n",
       "      <td>A digital crack in banking's business model</td>\n",
       "    </tr>\n",
       "  </tbody>\n",
       "</table>\n",
       "</div>"
      ],
      "text/plain": [
       "               item_id  \\\n",
       "0 -2148899391355011268   \n",
       "1  2727743992157210358   \n",
       "2  5929055844564382383   \n",
       "3  -205193648629294862   \n",
       "4  5028081187109329892   \n",
       "5  2072448887839540892   \n",
       "6 -7002558676365724983   \n",
       "7  -634395794651424614   \n",
       "8  8631616594020837056   \n",
       "9  7516228655554309785   \n",
       "\n",
       "                                                                              title  \n",
       "0                     Banks Need To Collaborate With Bitcoin and Fintech Developers  \n",
       "1                                              The Future of Digital Banking is Now  \n",
       "2                      Digital Tool as Strategic Enabler for Banking Transformation  \n",
       "3                                    Is FinTech Forcing Banking to a Tipping Point?  \n",
       "4                                     What Is Open Banking and Why is it Important?  \n",
       "5  Welcome to GoogleBank, Facebook Bank, Amazon Bank, and Apple Bank - Enrique Dans  \n",
       "6                                               Building a digital-banking business  \n",
       "7                     Why Barclays Sees Banking's Future as an Information Business  \n",
       "8                               Blockchain Will Be Used By 15% of Big Banks By 2017  \n",
       "9                                       A digital crack in banking's business model  "
      ]
     },
     "execution_count": 611,
     "metadata": {},
     "output_type": "execute_result"
    }
   ],
   "source": [
    "print(\"CONTENT BASED RECOMMENDATION\")\n",
    "content_df=content_based_filtering(-2148899391355011268)\n",
    "content_df[['item_id','title']].head(10)"
   ]
  },
  {
   "cell_type": "code",
   "execution_count": null,
   "metadata": {},
   "outputs": [],
   "source": []
  },
  {
   "cell_type": "code",
   "execution_count": null,
   "metadata": {},
   "outputs": [],
   "source": []
  },
  {
   "cell_type": "code",
   "execution_count": null,
   "metadata": {},
   "outputs": [],
   "source": []
  },
  {
   "cell_type": "code",
   "execution_count": null,
   "metadata": {},
   "outputs": [],
   "source": []
  },
  {
   "cell_type": "markdown",
   "metadata": {},
   "source": [
    "# ALS model"
   ]
  },
  {
   "cell_type": "code",
   "execution_count": 612,
   "metadata": {},
   "outputs": [
    {
     "data": {
      "text/html": [
       "<div>\n",
       "<style scoped>\n",
       "    .dataframe tbody tr th:only-of-type {\n",
       "        vertical-align: middle;\n",
       "    }\n",
       "\n",
       "    .dataframe tbody tr th {\n",
       "        vertical-align: top;\n",
       "    }\n",
       "\n",
       "    .dataframe thead th {\n",
       "        text-align: right;\n",
       "    }\n",
       "</style>\n",
       "<table border=\"1\" class=\"dataframe\">\n",
       "  <thead>\n",
       "    <tr style=\"text-align: right;\">\n",
       "      <th></th>\n",
       "      <th>item_idx</th>\n",
       "      <th>consumer_idx</th>\n",
       "      <th>ratings</th>\n",
       "    </tr>\n",
       "  </thead>\n",
       "  <tbody>\n",
       "    <tr>\n",
       "      <th>0</th>\n",
       "      <td>0</td>\n",
       "      <td>0</td>\n",
       "      <td>1</td>\n",
       "    </tr>\n",
       "    <tr>\n",
       "      <th>1</th>\n",
       "      <td>1</td>\n",
       "      <td>1</td>\n",
       "      <td>1</td>\n",
       "    </tr>\n",
       "    <tr>\n",
       "      <th>2</th>\n",
       "      <td>2</td>\n",
       "      <td>2</td>\n",
       "      <td>1</td>\n",
       "    </tr>\n",
       "    <tr>\n",
       "      <th>3</th>\n",
       "      <td>2</td>\n",
       "      <td>3</td>\n",
       "      <td>5</td>\n",
       "    </tr>\n",
       "    <tr>\n",
       "      <th>4</th>\n",
       "      <td>3</td>\n",
       "      <td>4</td>\n",
       "      <td>1</td>\n",
       "    </tr>\n",
       "    <tr>\n",
       "      <th>...</th>\n",
       "      <td>...</td>\n",
       "      <td>...</td>\n",
       "      <td>...</td>\n",
       "    </tr>\n",
       "    <tr>\n",
       "      <th>72307</th>\n",
       "      <td>2778</td>\n",
       "      <td>52</td>\n",
       "      <td>2</td>\n",
       "    </tr>\n",
       "    <tr>\n",
       "      <th>72308</th>\n",
       "      <td>2774</td>\n",
       "      <td>785</td>\n",
       "      <td>1</td>\n",
       "    </tr>\n",
       "    <tr>\n",
       "      <th>72309</th>\n",
       "      <td>2776</td>\n",
       "      <td>1670</td>\n",
       "      <td>1</td>\n",
       "    </tr>\n",
       "    <tr>\n",
       "      <th>72310</th>\n",
       "      <td>2778</td>\n",
       "      <td>52</td>\n",
       "      <td>1</td>\n",
       "    </tr>\n",
       "    <tr>\n",
       "      <th>72311</th>\n",
       "      <td>2779</td>\n",
       "      <td>1718</td>\n",
       "      <td>1</td>\n",
       "    </tr>\n",
       "  </tbody>\n",
       "</table>\n",
       "<p>72083 rows × 3 columns</p>\n",
       "</div>"
      ],
      "text/plain": [
       "       item_idx  consumer_idx  ratings\n",
       "0             0             0        1\n",
       "1             1             1        1\n",
       "2             2             2        1\n",
       "3             2             3        5\n",
       "4             3             4        1\n",
       "...         ...           ...      ...\n",
       "72307      2778            52        2\n",
       "72308      2774           785        1\n",
       "72309      2776          1670        1\n",
       "72310      2778            52        1\n",
       "72311      2779          1718        1\n",
       "\n",
       "[72083 rows x 3 columns]"
      ]
     },
     "execution_count": 612,
     "metadata": {},
     "output_type": "execute_result"
    }
   ],
   "source": [
    "consumer_idx_df"
   ]
  },
  {
   "cell_type": "code",
   "execution_count": 613,
   "metadata": {},
   "outputs": [
    {
     "data": {
      "text/html": [
       "<div>\n",
       "<style scoped>\n",
       "    .dataframe tbody tr th:only-of-type {\n",
       "        vertical-align: middle;\n",
       "    }\n",
       "\n",
       "    .dataframe tbody tr th {\n",
       "        vertical-align: top;\n",
       "    }\n",
       "\n",
       "    .dataframe thead th {\n",
       "        text-align: right;\n",
       "    }\n",
       "</style>\n",
       "<table border=\"1\" class=\"dataframe\">\n",
       "  <thead>\n",
       "    <tr style=\"text-align: right;\">\n",
       "      <th></th>\n",
       "      <th>item_idx</th>\n",
       "      <th>consumer_idx</th>\n",
       "      <th>ratings</th>\n",
       "    </tr>\n",
       "  </thead>\n",
       "  <tbody>\n",
       "    <tr>\n",
       "      <th>count</th>\n",
       "      <td>72083.000000</td>\n",
       "      <td>72083.000000</td>\n",
       "      <td>72083.000000</td>\n",
       "    </tr>\n",
       "    <tr>\n",
       "      <th>mean</th>\n",
       "      <td>1384.664637</td>\n",
       "      <td>393.803407</td>\n",
       "      <td>1.292635</td>\n",
       "    </tr>\n",
       "    <tr>\n",
       "      <th>std</th>\n",
       "      <td>896.920287</td>\n",
       "      <td>426.120953</td>\n",
       "      <td>0.801582</td>\n",
       "    </tr>\n",
       "    <tr>\n",
       "      <th>min</th>\n",
       "      <td>0.000000</td>\n",
       "      <td>0.000000</td>\n",
       "      <td>1.000000</td>\n",
       "    </tr>\n",
       "    <tr>\n",
       "      <th>25%</th>\n",
       "      <td>474.000000</td>\n",
       "      <td>72.000000</td>\n",
       "      <td>1.000000</td>\n",
       "    </tr>\n",
       "    <tr>\n",
       "      <th>50%</th>\n",
       "      <td>1443.000000</td>\n",
       "      <td>231.000000</td>\n",
       "      <td>1.000000</td>\n",
       "    </tr>\n",
       "    <tr>\n",
       "      <th>75%</th>\n",
       "      <td>2141.000000</td>\n",
       "      <td>587.000000</td>\n",
       "      <td>1.000000</td>\n",
       "    </tr>\n",
       "    <tr>\n",
       "      <th>max</th>\n",
       "      <td>2938.000000</td>\n",
       "      <td>1894.000000</td>\n",
       "      <td>5.000000</td>\n",
       "    </tr>\n",
       "  </tbody>\n",
       "</table>\n",
       "</div>"
      ],
      "text/plain": [
       "           item_idx  consumer_idx       ratings\n",
       "count  72083.000000  72083.000000  72083.000000\n",
       "mean    1384.664637    393.803407      1.292635\n",
       "std      896.920287    426.120953      0.801582\n",
       "min        0.000000      0.000000      1.000000\n",
       "25%      474.000000     72.000000      1.000000\n",
       "50%     1443.000000    231.000000      1.000000\n",
       "75%     2141.000000    587.000000      1.000000\n",
       "max     2938.000000   1894.000000      5.000000"
      ]
     },
     "execution_count": 613,
     "metadata": {},
     "output_type": "execute_result"
    }
   ],
   "source": [
    "consumer_idx_df.describe()"
   ]
  },
  {
   "cell_type": "code",
   "execution_count": 614,
   "metadata": {},
   "outputs": [
    {
     "data": {
      "text/plain": [
       "2939"
      ]
     },
     "execution_count": 614,
     "metadata": {},
     "output_type": "execute_result"
    }
   ],
   "source": [
    "consumer_idx_df['item_idx'].nunique()"
   ]
  },
  {
   "cell_type": "code",
   "execution_count": 615,
   "metadata": {},
   "outputs": [
    {
     "data": {
      "text/plain": [
       "1895"
      ]
     },
     "execution_count": 615,
     "metadata": {},
     "output_type": "execute_result"
    }
   ],
   "source": [
    "consumer_idx_df['consumer_idx'].nunique()"
   ]
  },
  {
   "cell_type": "markdown",
   "metadata": {},
   "source": [
    "## Create Sparse User-Item Matrix\n"
   ]
  },
  {
   "cell_type": "code",
   "execution_count": 616,
   "metadata": {},
   "outputs": [],
   "source": [
    "from scipy.sparse import csr_matrix"
   ]
  },
  {
   "cell_type": "code",
   "execution_count": 617,
   "metadata": {},
   "outputs": [],
   "source": [
    "alpha = 40"
   ]
  },
  {
   "cell_type": "code",
   "execution_count": 618,
   "metadata": {},
   "outputs": [
    {
     "data": {
      "text/plain": [
       "72083"
      ]
     },
     "execution_count": 618,
     "metadata": {},
     "output_type": "execute_result"
    }
   ],
   "source": [
    "consumer_idx_df.shape[0]"
   ]
  },
  {
   "cell_type": "code",
   "execution_count": 619,
   "metadata": {},
   "outputs": [],
   "source": [
    "sparse_user_item = csr_matrix( ([alpha]*consumer_idx_df.shape[0], (consumer_idx_df['consumer_idx'], consumer_idx_df['item_idx']) ))"
   ]
  },
  {
   "cell_type": "code",
   "execution_count": 620,
   "metadata": {},
   "outputs": [
    {
     "data": {
      "text/plain": [
       "<1895x2939 sparse matrix of type '<class 'numpy.intc'>'\n",
       "\twith 40590 stored elements in Compressed Sparse Row format>"
      ]
     },
     "execution_count": 620,
     "metadata": {},
     "output_type": "execute_result"
    }
   ],
   "source": [
    "sparse_user_item"
   ]
  },
  {
   "cell_type": "markdown",
   "metadata": {},
   "source": [
    "### shape : 1895x2939.  since Total No of users = 1895, No of Items = 2939"
   ]
  },
  {
   "cell_type": "code",
   "execution_count": 621,
   "metadata": {},
   "outputs": [],
   "source": [
    "csr_item_array = sparse_user_item.toarray()"
   ]
  },
  {
   "cell_type": "code",
   "execution_count": 622,
   "metadata": {},
   "outputs": [
    {
     "data": {
      "text/plain": [
       "array([[ 80,  80,   0, ...,   0,   0,   0],\n",
       "       [  0, 400, 480, ...,   0,   0,   0],\n",
       "       [  0, 120, 400, ...,   0,   0,   0],\n",
       "       ...,\n",
       "       [  0,   0,   0, ...,   0,   0,   0],\n",
       "       [  0,   0,   0, ...,   0,   0,   0],\n",
       "       [  0,   0,   0, ...,   0,   0,   0]], dtype=int32)"
      ]
     },
     "execution_count": 622,
     "metadata": {},
     "output_type": "execute_result"
    }
   ],
   "source": [
    "csr_item_array"
   ]
  },
  {
   "cell_type": "code",
   "execution_count": 623,
   "metadata": {},
   "outputs": [
    {
     "data": {
      "text/plain": [
       "(1895, 2939, 400)"
      ]
     },
     "execution_count": 623,
     "metadata": {},
     "output_type": "execute_result"
    }
   ],
   "source": [
    "len(csr_item_array), len(csr_item_array[0]), csr_item_array[1][1]"
   ]
  },
  {
   "cell_type": "markdown",
   "metadata": {},
   "source": [
    "## Create train, test data"
   ]
  },
  {
   "cell_type": "code",
   "execution_count": 624,
   "metadata": {},
   "outputs": [],
   "source": [
    "import implicit"
   ]
  },
  {
   "cell_type": "code",
   "execution_count": 625,
   "metadata": {},
   "outputs": [],
   "source": [
    "from implicit.evaluation import train_test_split\n",
    "\n",
    "train, test = train_test_split(sparse_user_item, train_percentage=0.8)"
   ]
  },
  {
   "cell_type": "code",
   "execution_count": 626,
   "metadata": {},
   "outputs": [
    {
     "data": {
      "text/plain": [
       "<1895x2939 sparse matrix of type '<class 'numpy.intc'>'\n",
       "\twith 32391 stored elements in Compressed Sparse Row format>"
      ]
     },
     "execution_count": 626,
     "metadata": {},
     "output_type": "execute_result"
    }
   ],
   "source": [
    "train"
   ]
  },
  {
   "cell_type": "code",
   "execution_count": 627,
   "metadata": {},
   "outputs": [
    {
     "data": {
      "text/plain": [
       "<1895x2939 sparse matrix of type '<class 'numpy.intc'>'\n",
       "\twith 8199 stored elements in Compressed Sparse Row format>"
      ]
     },
     "execution_count": 627,
     "metadata": {},
     "output_type": "execute_result"
    }
   ],
   "source": [
    "test"
   ]
  },
  {
   "cell_type": "code",
   "execution_count": null,
   "metadata": {},
   "outputs": [],
   "source": []
  },
  {
   "cell_type": "markdown",
   "metadata": {},
   "source": [
    "# Build ALS model"
   ]
  },
  {
   "cell_type": "code",
   "execution_count": 628,
   "metadata": {},
   "outputs": [],
   "source": [
    "\n",
    "model = implicit.als.AlternatingLeastSquares(factors=100, regularization=0.01, iterations=20, calculate_training_loss=False)\n"
   ]
  },
  {
   "cell_type": "code",
   "execution_count": 629,
   "metadata": {},
   "outputs": [
    {
     "data": {
      "text/plain": [
       "<implicit.als.AlternatingLeastSquares at 0x1fde7093ac0>"
      ]
     },
     "execution_count": 629,
     "metadata": {},
     "output_type": "execute_result"
    }
   ],
   "source": [
    "model"
   ]
  },
  {
   "cell_type": "markdown",
   "metadata": {},
   "source": [
    "### Train the model"
   ]
  },
  {
   "cell_type": "code",
   "execution_count": 630,
   "metadata": {},
   "outputs": [
    {
     "data": {
      "application/vnd.jupyter.widget-view+json": {
       "model_id": "2c53dda6f85746c6beb8ce7f0ae30f08",
       "version_major": 2,
       "version_minor": 0
      },
      "text/plain": [
       "HBox(children=(FloatProgress(value=0.0, max=20.0), HTML(value='')))"
      ]
     },
     "metadata": {},
     "output_type": "display_data"
    },
    {
     "name": "stdout",
     "output_type": "stream",
     "text": [
      "\n"
     ]
    }
   ],
   "source": [
    "model.fit(train)"
   ]
  },
  {
   "cell_type": "code",
   "execution_count": null,
   "metadata": {},
   "outputs": [],
   "source": []
  },
  {
   "cell_type": "markdown",
   "metadata": {},
   "source": [
    "# Generating recommendations for a consumer_id"
   ]
  },
  {
   "cell_type": "code",
   "execution_count": 631,
   "metadata": {},
   "outputs": [],
   "source": [
    "#user_id = consumer_dict[-830175562779396891]\n",
    "user_id = consumer_dict[-1032019229384696495]"
   ]
  },
  {
   "cell_type": "code",
   "execution_count": 632,
   "metadata": {},
   "outputs": [
    {
     "data": {
      "text/plain": [
       "1"
      ]
     },
     "execution_count": 632,
     "metadata": {},
     "output_type": "execute_result"
    }
   ],
   "source": [
    "user_id"
   ]
  },
  {
   "cell_type": "code",
   "execution_count": null,
   "metadata": {},
   "outputs": [],
   "source": []
  },
  {
   "cell_type": "code",
   "execution_count": 633,
   "metadata": {},
   "outputs": [],
   "source": [
    "output = model.recommend(user_id, sparse_user_item)"
   ]
  },
  {
   "cell_type": "code",
   "execution_count": 634,
   "metadata": {},
   "outputs": [
    {
     "data": {
      "text/plain": [
       "[(72, 1.0103059),\n",
       " (13, 1.0000055),\n",
       " (366, 0.9972443),\n",
       " (58, 0.99702096),\n",
       " (82, 0.9966729),\n",
       " (457, 0.99523395),\n",
       " (391, 0.9949889),\n",
       " (228, 0.99493635),\n",
       " (6, 0.9946101),\n",
       " (129, 0.99330056)]"
      ]
     },
     "execution_count": 634,
     "metadata": {},
     "output_type": "execute_result"
    }
   ],
   "source": [
    "output"
   ]
  },
  {
   "cell_type": "code",
   "execution_count": 635,
   "metadata": {},
   "outputs": [],
   "source": [
    "output_df = pd.DataFrame(output, columns=['item_idx', 'als_score'])"
   ]
  },
  {
   "cell_type": "code",
   "execution_count": 636,
   "metadata": {},
   "outputs": [
    {
     "data": {
      "text/html": [
       "<div>\n",
       "<style scoped>\n",
       "    .dataframe tbody tr th:only-of-type {\n",
       "        vertical-align: middle;\n",
       "    }\n",
       "\n",
       "    .dataframe tbody tr th {\n",
       "        vertical-align: top;\n",
       "    }\n",
       "\n",
       "    .dataframe thead th {\n",
       "        text-align: right;\n",
       "    }\n",
       "</style>\n",
       "<table border=\"1\" class=\"dataframe\">\n",
       "  <thead>\n",
       "    <tr style=\"text-align: right;\">\n",
       "      <th></th>\n",
       "      <th>item_idx</th>\n",
       "      <th>als_score</th>\n",
       "    </tr>\n",
       "  </thead>\n",
       "  <tbody>\n",
       "    <tr>\n",
       "      <th>0</th>\n",
       "      <td>72</td>\n",
       "      <td>1.010306</td>\n",
       "    </tr>\n",
       "    <tr>\n",
       "      <th>1</th>\n",
       "      <td>13</td>\n",
       "      <td>1.000005</td>\n",
       "    </tr>\n",
       "    <tr>\n",
       "      <th>2</th>\n",
       "      <td>366</td>\n",
       "      <td>0.997244</td>\n",
       "    </tr>\n",
       "    <tr>\n",
       "      <th>3</th>\n",
       "      <td>58</td>\n",
       "      <td>0.997021</td>\n",
       "    </tr>\n",
       "    <tr>\n",
       "      <th>4</th>\n",
       "      <td>82</td>\n",
       "      <td>0.996673</td>\n",
       "    </tr>\n",
       "    <tr>\n",
       "      <th>5</th>\n",
       "      <td>457</td>\n",
       "      <td>0.995234</td>\n",
       "    </tr>\n",
       "    <tr>\n",
       "      <th>6</th>\n",
       "      <td>391</td>\n",
       "      <td>0.994989</td>\n",
       "    </tr>\n",
       "    <tr>\n",
       "      <th>7</th>\n",
       "      <td>228</td>\n",
       "      <td>0.994936</td>\n",
       "    </tr>\n",
       "    <tr>\n",
       "      <th>8</th>\n",
       "      <td>6</td>\n",
       "      <td>0.994610</td>\n",
       "    </tr>\n",
       "    <tr>\n",
       "      <th>9</th>\n",
       "      <td>129</td>\n",
       "      <td>0.993301</td>\n",
       "    </tr>\n",
       "  </tbody>\n",
       "</table>\n",
       "</div>"
      ],
      "text/plain": [
       "   item_idx  als_score\n",
       "0        72   1.010306\n",
       "1        13   1.000005\n",
       "2       366   0.997244\n",
       "3        58   0.997021\n",
       "4        82   0.996673\n",
       "5       457   0.995234\n",
       "6       391   0.994989\n",
       "7       228   0.994936\n",
       "8         6   0.994610\n",
       "9       129   0.993301"
      ]
     },
     "execution_count": 636,
     "metadata": {},
     "output_type": "execute_result"
    }
   ],
   "source": [
    "output_df"
   ]
  },
  {
   "cell_type": "code",
   "execution_count": 637,
   "metadata": {},
   "outputs": [],
   "source": [
    "merged = pd.merge(output_df, consumer_all_detail[['item_id','item_idx']], on='item_idx', how='left') #merge"
   ]
  },
  {
   "cell_type": "code",
   "execution_count": 638,
   "metadata": {},
   "outputs": [
    {
     "data": {
      "text/html": [
       "<div>\n",
       "<style scoped>\n",
       "    .dataframe tbody tr th:only-of-type {\n",
       "        vertical-align: middle;\n",
       "    }\n",
       "\n",
       "    .dataframe tbody tr th {\n",
       "        vertical-align: top;\n",
       "    }\n",
       "\n",
       "    .dataframe thead th {\n",
       "        text-align: right;\n",
       "    }\n",
       "</style>\n",
       "<table border=\"1\" class=\"dataframe\">\n",
       "  <thead>\n",
       "    <tr style=\"text-align: right;\">\n",
       "      <th></th>\n",
       "      <th>item_idx</th>\n",
       "      <th>als_score</th>\n",
       "      <th>item_id</th>\n",
       "    </tr>\n",
       "  </thead>\n",
       "  <tbody>\n",
       "    <tr>\n",
       "      <th>0</th>\n",
       "      <td>72</td>\n",
       "      <td>1.010306</td>\n",
       "      <td>-1046621686880462790</td>\n",
       "    </tr>\n",
       "    <tr>\n",
       "      <th>1</th>\n",
       "      <td>72</td>\n",
       "      <td>1.010306</td>\n",
       "      <td>-1046621686880462790</td>\n",
       "    </tr>\n",
       "    <tr>\n",
       "      <th>2</th>\n",
       "      <td>72</td>\n",
       "      <td>1.010306</td>\n",
       "      <td>-1046621686880462790</td>\n",
       "    </tr>\n",
       "    <tr>\n",
       "      <th>3</th>\n",
       "      <td>72</td>\n",
       "      <td>1.010306</td>\n",
       "      <td>-1046621686880462790</td>\n",
       "    </tr>\n",
       "    <tr>\n",
       "      <th>4</th>\n",
       "      <td>72</td>\n",
       "      <td>1.010306</td>\n",
       "      <td>-1046621686880462790</td>\n",
       "    </tr>\n",
       "    <tr>\n",
       "      <th>...</th>\n",
       "      <td>...</td>\n",
       "      <td>...</td>\n",
       "      <td>...</td>\n",
       "    </tr>\n",
       "    <tr>\n",
       "      <th>471</th>\n",
       "      <td>129</td>\n",
       "      <td>0.993301</td>\n",
       "      <td>-9076501258717815738</td>\n",
       "    </tr>\n",
       "    <tr>\n",
       "      <th>472</th>\n",
       "      <td>129</td>\n",
       "      <td>0.993301</td>\n",
       "      <td>-9076501258717815738</td>\n",
       "    </tr>\n",
       "    <tr>\n",
       "      <th>473</th>\n",
       "      <td>129</td>\n",
       "      <td>0.993301</td>\n",
       "      <td>-9076501258717815738</td>\n",
       "    </tr>\n",
       "    <tr>\n",
       "      <th>474</th>\n",
       "      <td>129</td>\n",
       "      <td>0.993301</td>\n",
       "      <td>-9076501258717815738</td>\n",
       "    </tr>\n",
       "    <tr>\n",
       "      <th>475</th>\n",
       "      <td>129</td>\n",
       "      <td>0.993301</td>\n",
       "      <td>-9076501258717815738</td>\n",
       "    </tr>\n",
       "  </tbody>\n",
       "</table>\n",
       "<p>476 rows × 3 columns</p>\n",
       "</div>"
      ],
      "text/plain": [
       "     item_idx  als_score              item_id\n",
       "0          72   1.010306 -1046621686880462790\n",
       "1          72   1.010306 -1046621686880462790\n",
       "2          72   1.010306 -1046621686880462790\n",
       "3          72   1.010306 -1046621686880462790\n",
       "4          72   1.010306 -1046621686880462790\n",
       "..        ...        ...                  ...\n",
       "471       129   0.993301 -9076501258717815738\n",
       "472       129   0.993301 -9076501258717815738\n",
       "473       129   0.993301 -9076501258717815738\n",
       "474       129   0.993301 -9076501258717815738\n",
       "475       129   0.993301 -9076501258717815738\n",
       "\n",
       "[476 rows x 3 columns]"
      ]
     },
     "execution_count": 638,
     "metadata": {},
     "output_type": "execute_result"
    }
   ],
   "source": [
    "merged"
   ]
  },
  {
   "cell_type": "code",
   "execution_count": 639,
   "metadata": {},
   "outputs": [],
   "source": [
    "merged = pd.merge(merged[['item_id','als_score']], platform_content_en[['item_id','title']],on='item_id', how='left') #merge to get title"
   ]
  },
  {
   "cell_type": "code",
   "execution_count": 640,
   "metadata": {},
   "outputs": [],
   "source": [
    "merged = merged.drop_duplicates(subset=None, keep='first', inplace=False) "
   ]
  },
  {
   "cell_type": "code",
   "execution_count": 641,
   "metadata": {},
   "outputs": [],
   "source": [
    "merged = merged[merged['title'].notna()]"
   ]
  },
  {
   "cell_type": "code",
   "execution_count": 642,
   "metadata": {},
   "outputs": [
    {
     "data": {
      "text/plain": [
       "(6, 3)"
      ]
     },
     "execution_count": 642,
     "metadata": {},
     "output_type": "execute_result"
    }
   ],
   "source": [
    "merged.shape"
   ]
  },
  {
   "cell_type": "code",
   "execution_count": 643,
   "metadata": {},
   "outputs": [
    {
     "data": {
      "text/html": [
       "<div>\n",
       "<style scoped>\n",
       "    .dataframe tbody tr th:only-of-type {\n",
       "        vertical-align: middle;\n",
       "    }\n",
       "\n",
       "    .dataframe tbody tr th {\n",
       "        vertical-align: top;\n",
       "    }\n",
       "\n",
       "    .dataframe thead th {\n",
       "        text-align: right;\n",
       "    }\n",
       "</style>\n",
       "<table border=\"1\" class=\"dataframe\">\n",
       "  <thead>\n",
       "    <tr style=\"text-align: right;\">\n",
       "      <th></th>\n",
       "      <th>item_id</th>\n",
       "      <th>title</th>\n",
       "    </tr>\n",
       "  </thead>\n",
       "  <tbody>\n",
       "    <tr>\n",
       "      <th>0</th>\n",
       "      <td>-1046621686880462790</td>\n",
       "      <td>Hero unveils a new home gadget to help you track and dispense pills</td>\n",
       "    </tr>\n",
       "    <tr>\n",
       "      <th>110</th>\n",
       "      <td>7494490104520466117</td>\n",
       "      <td>Develop your first Facebook messenger bot in PHP</td>\n",
       "    </tr>\n",
       "    <tr>\n",
       "      <th>134</th>\n",
       "      <td>-5148591903395022444</td>\n",
       "      <td>Anti-If: The missing patterns</td>\n",
       "    </tr>\n",
       "    <tr>\n",
       "      <th>310</th>\n",
       "      <td>2687654465640040976</td>\n",
       "      <td>Google is testing a new Material Design layout for desktop searches</td>\n",
       "    </tr>\n",
       "    <tr>\n",
       "      <th>396</th>\n",
       "      <td>-5976464170927897250</td>\n",
       "      <td>The Pulse of a City - Uber Engineering Blog</td>\n",
       "    </tr>\n",
       "    <tr>\n",
       "      <th>430</th>\n",
       "      <td>3064370296170038610</td>\n",
       "      <td>Google, Amazon and the upcoming battle over AI Assistants</td>\n",
       "    </tr>\n",
       "  </tbody>\n",
       "</table>\n",
       "</div>"
      ],
      "text/plain": [
       "                 item_id  \\\n",
       "0   -1046621686880462790   \n",
       "110  7494490104520466117   \n",
       "134 -5148591903395022444   \n",
       "310  2687654465640040976   \n",
       "396 -5976464170927897250   \n",
       "430  3064370296170038610   \n",
       "\n",
       "                                                                   title  \n",
       "0    Hero unveils a new home gadget to help you track and dispense pills  \n",
       "110                     Develop your first Facebook messenger bot in PHP  \n",
       "134                                        Anti-If: The missing patterns  \n",
       "310  Google is testing a new Material Design layout for desktop searches  \n",
       "396                          The Pulse of a City - Uber Engineering Blog  \n",
       "430            Google, Amazon and the upcoming battle over AI Assistants  "
      ]
     },
     "execution_count": 643,
     "metadata": {},
     "output_type": "execute_result"
    }
   ],
   "source": [
    "merged[['item_id','title']]"
   ]
  },
  {
   "cell_type": "markdown",
   "metadata": {},
   "source": [
    "### ALS user based recommendation model"
   ]
  },
  {
   "cell_type": "code",
   "execution_count": 644,
   "metadata": {},
   "outputs": [],
   "source": [
    "def als_user(user_id): #als user func\n",
    "    #get the user id\n",
    "    user_id = consumer_dict[user_id] \n",
    "    model.recommend(user_id, sparse_user_item)\n",
    "    output = model.recommend(user_id, sparse_user_item)\n",
    "    output_df = pd.DataFrame(output, columns=['item_idx', 'als_score'])\n",
    "    \n",
    "    #merge to get id and ignore the articles already read by user\n",
    "    merged = pd.merge(output_df, consumer_all_detail[consumer_all_detail.consumer_id!=user_id][['item_id','item_idx']], on='item_idx', how='left')\n",
    "    als_user_df = pd.merge(merged[['item_id','als_score']], platform_content_en[['item_id','title']],on='item_id', how='left') \n",
    "    \n",
    "    #drop duplicate\n",
    "    als_user_df = als_user_df.drop_duplicates(subset=None, keep='first', inplace=False) \n",
    "    \n",
    "    #title not NAN\n",
    "    als_user_df = als_user_df[als_user_df['title'].notna()]\n",
    "    \n",
    "    #normalized score calculation\n",
    "    als_user_df['als_user_score_normalized'] = (als_user_df['als_score']-min(als_user_df['als_score'])) / (max(als_user_df['als_score']) - min(als_user_df['als_score']))\n",
    "    return als_user_df"
   ]
  },
  {
   "cell_type": "code",
   "execution_count": 645,
   "metadata": {},
   "outputs": [
    {
     "name": "stdout",
     "output_type": "stream",
     "text": [
      "ALS MODEL given user\n",
      "Below are the top10 suggested articles:\n"
     ]
    },
    {
     "data": {
      "text/html": [
       "<div>\n",
       "<style scoped>\n",
       "    .dataframe tbody tr th:only-of-type {\n",
       "        vertical-align: middle;\n",
       "    }\n",
       "\n",
       "    .dataframe tbody tr th {\n",
       "        vertical-align: top;\n",
       "    }\n",
       "\n",
       "    .dataframe thead th {\n",
       "        text-align: right;\n",
       "    }\n",
       "</style>\n",
       "<table border=\"1\" class=\"dataframe\">\n",
       "  <thead>\n",
       "    <tr style=\"text-align: right;\">\n",
       "      <th></th>\n",
       "      <th>item_id</th>\n",
       "      <th>title</th>\n",
       "    </tr>\n",
       "  </thead>\n",
       "  <tbody>\n",
       "    <tr>\n",
       "      <th>0</th>\n",
       "      <td>-1046621686880462790</td>\n",
       "      <td>Hero unveils a new home gadget to help you track and dispense pills</td>\n",
       "    </tr>\n",
       "    <tr>\n",
       "      <th>110</th>\n",
       "      <td>7494490104520466117</td>\n",
       "      <td>Develop your first Facebook messenger bot in PHP</td>\n",
       "    </tr>\n",
       "    <tr>\n",
       "      <th>134</th>\n",
       "      <td>-5148591903395022444</td>\n",
       "      <td>Anti-If: The missing patterns</td>\n",
       "    </tr>\n",
       "    <tr>\n",
       "      <th>310</th>\n",
       "      <td>2687654465640040976</td>\n",
       "      <td>Google is testing a new Material Design layout for desktop searches</td>\n",
       "    </tr>\n",
       "    <tr>\n",
       "      <th>396</th>\n",
       "      <td>-5976464170927897250</td>\n",
       "      <td>The Pulse of a City - Uber Engineering Blog</td>\n",
       "    </tr>\n",
       "    <tr>\n",
       "      <th>430</th>\n",
       "      <td>3064370296170038610</td>\n",
       "      <td>Google, Amazon and the upcoming battle over AI Assistants</td>\n",
       "    </tr>\n",
       "  </tbody>\n",
       "</table>\n",
       "</div>"
      ],
      "text/plain": [
       "                 item_id  \\\n",
       "0   -1046621686880462790   \n",
       "110  7494490104520466117   \n",
       "134 -5148591903395022444   \n",
       "310  2687654465640040976   \n",
       "396 -5976464170927897250   \n",
       "430  3064370296170038610   \n",
       "\n",
       "                                                                   title  \n",
       "0    Hero unveils a new home gadget to help you track and dispense pills  \n",
       "110                     Develop your first Facebook messenger bot in PHP  \n",
       "134                                        Anti-If: The missing patterns  \n",
       "310  Google is testing a new Material Design layout for desktop searches  \n",
       "396                          The Pulse of a City - Uber Engineering Blog  \n",
       "430            Google, Amazon and the upcoming battle over AI Assistants  "
      ]
     },
     "execution_count": 645,
     "metadata": {},
     "output_type": "execute_result"
    }
   ],
   "source": [
    "print(\"ALS MODEL given user\")\n",
    "print(\"Below are the top10 suggested articles:\")\n",
    "#als_user_df=als_user(-709287718034731589)\n",
    "als_user_df=als_user(-1032019229384696495)\n",
    "top10=als_user_df.head(10)\n",
    "top10[['item_id','title']]"
   ]
  },
  {
   "cell_type": "code",
   "execution_count": null,
   "metadata": {},
   "outputs": [],
   "source": []
  },
  {
   "cell_type": "code",
   "execution_count": null,
   "metadata": {},
   "outputs": [],
   "source": []
  },
  {
   "cell_type": "markdown",
   "metadata": {},
   "source": [
    "# Generating recommendations for item_id"
   ]
  },
  {
   "cell_type": "code",
   "execution_count": 646,
   "metadata": {},
   "outputs": [
    {
     "data": {
      "text/html": [
       "<div>\n",
       "<style scoped>\n",
       "    .dataframe tbody tr th:only-of-type {\n",
       "        vertical-align: middle;\n",
       "    }\n",
       "\n",
       "    .dataframe tbody tr th {\n",
       "        vertical-align: top;\n",
       "    }\n",
       "\n",
       "    .dataframe thead th {\n",
       "        text-align: right;\n",
       "    }\n",
       "</style>\n",
       "<table border=\"1\" class=\"dataframe\">\n",
       "  <thead>\n",
       "    <tr style=\"text-align: right;\">\n",
       "      <th></th>\n",
       "      <th>event_timestamp</th>\n",
       "      <th>interaction_type</th>\n",
       "      <th>item_id</th>\n",
       "      <th>producer_id</th>\n",
       "      <th>producer_session_id</th>\n",
       "      <th>producer_device_info</th>\n",
       "      <th>producer_location</th>\n",
       "      <th>producer_country</th>\n",
       "      <th>item_type</th>\n",
       "      <th>item_url</th>\n",
       "      <th>title</th>\n",
       "      <th>text_description</th>\n",
       "      <th>language</th>\n",
       "    </tr>\n",
       "  </thead>\n",
       "  <tbody>\n",
       "    <tr>\n",
       "      <th>719</th>\n",
       "      <td>1462217374</td>\n",
       "      <td>content_present</td>\n",
       "      <td>7763750328910542816</td>\n",
       "      <td>-7531858294361854119</td>\n",
       "      <td>4901918339112125835</td>\n",
       "      <td>NaN</td>\n",
       "      <td>NaN</td>\n",
       "      <td>NaN</td>\n",
       "      <td>HTML</td>\n",
       "      <td>http://www.highsnobiety.com/2016/04/21/japanese-koi-restaurant-yakuza-tattoo-art/</td>\n",
       "      <td>This Japanese Restaurant Is Decked out With Yakuza-Inspired Tattoo Art | Highsnobiety</td>\n",
       "      <td>Yakuza tattoos are generally reserved for the most hardened of clan members, but for architect V...</td>\n",
       "      <td>en</td>\n",
       "    </tr>\n",
       "  </tbody>\n",
       "</table>\n",
       "</div>"
      ],
      "text/plain": [
       "     event_timestamp interaction_type              item_id  \\\n",
       "719       1462217374  content_present  7763750328910542816   \n",
       "\n",
       "             producer_id  producer_session_id producer_device_info  \\\n",
       "719 -7531858294361854119  4901918339112125835                  NaN   \n",
       "\n",
       "    producer_location producer_country item_type  \\\n",
       "719               NaN              NaN      HTML   \n",
       "\n",
       "                                                                              item_url  \\\n",
       "719  http://www.highsnobiety.com/2016/04/21/japanese-koi-restaurant-yakuza-tattoo-art/   \n",
       "\n",
       "                                                                                     title  \\\n",
       "719  This Japanese Restaurant Is Decked out With Yakuza-Inspired Tattoo Art | Highsnobiety   \n",
       "\n",
       "                                                                                        text_description  \\\n",
       "719  Yakuza tattoos are generally reserved for the most hardened of clan members, but for architect V...   \n",
       "\n",
       "    language  \n",
       "719       en  "
      ]
     },
     "execution_count": 646,
     "metadata": {},
     "output_type": "execute_result"
    }
   ],
   "source": [
    "platform_content_en[platform_content_en.item_id==7763750328910542816]\n",
    "#platform_content_en[platform_content_en.item_id==2857117417189640073]"
   ]
  },
  {
   "cell_type": "code",
   "execution_count": 647,
   "metadata": {},
   "outputs": [],
   "source": [
    "\n",
    "item_id = item_dict[7763750328910542816]\n",
    "#item_id = item_dict[2857117417189640073]\n",
    "n_similar = 20"
   ]
  },
  {
   "cell_type": "code",
   "execution_count": 648,
   "metadata": {},
   "outputs": [],
   "source": [
    "\n",
    "similar = model.similar_items(item_id, n_similar)\n"
   ]
  },
  {
   "cell_type": "code",
   "execution_count": 649,
   "metadata": {},
   "outputs": [
    {
     "data": {
      "text/plain": [
       "[(8, 1.0),\n",
       " (32, 0.49723035),\n",
       " (1390, 0.48903054),\n",
       " (1418, 0.46817324),\n",
       " (1336, 0.46362194),\n",
       " (1100, 0.46192935),\n",
       " (665, 0.46069926),\n",
       " (1333, 0.43742114),\n",
       " (1437, 0.43698025),\n",
       " (910, 0.42429337),\n",
       " (1395, 0.424141),\n",
       " (827, 0.42358616),\n",
       " (434, 0.4212736),\n",
       " (1259, 0.4200509),\n",
       " (1738, 0.4162595),\n",
       " (696, 0.41532317),\n",
       " (486, 0.41279596),\n",
       " (1545, 0.41233832),\n",
       " (873, 0.409935),\n",
       " (1879, 0.40962547)]"
      ]
     },
     "execution_count": 649,
     "metadata": {},
     "output_type": "execute_result"
    }
   ],
   "source": [
    "similar"
   ]
  },
  {
   "cell_type": "code",
   "execution_count": 650,
   "metadata": {},
   "outputs": [],
   "source": [
    "similar_df = pd.DataFrame(similar, columns=['item_idx', 'score'])"
   ]
  },
  {
   "cell_type": "code",
   "execution_count": 651,
   "metadata": {},
   "outputs": [],
   "source": [
    "merged=pd.merge(similar_df,consumer_all_detail[['item_id','item_idx']],on='item_idx', how='left')"
   ]
  },
  {
   "cell_type": "code",
   "execution_count": 652,
   "metadata": {},
   "outputs": [
    {
     "name": "stdout",
     "output_type": "stream",
     "text": [
      "<class 'pandas.core.frame.DataFrame'>\n",
      "Int64Index: 323 entries, 0 to 322\n",
      "Data columns (total 3 columns):\n",
      " #   Column    Non-Null Count  Dtype  \n",
      "---  ------    --------------  -----  \n",
      " 0   item_idx  323 non-null    int64  \n",
      " 1   score     323 non-null    float64\n",
      " 2   item_id   323 non-null    int64  \n",
      "dtypes: float64(1), int64(2)\n",
      "memory usage: 10.1 KB\n"
     ]
    }
   ],
   "source": [
    "merged.info()"
   ]
  },
  {
   "cell_type": "code",
   "execution_count": 653,
   "metadata": {},
   "outputs": [],
   "source": [
    "merged_article_title=pd.merge(merged,platform_content_en[['item_id','title']],on='item_id', how='left')"
   ]
  },
  {
   "cell_type": "code",
   "execution_count": 654,
   "metadata": {},
   "outputs": [
    {
     "data": {
      "text/html": [
       "<div>\n",
       "<style scoped>\n",
       "    .dataframe tbody tr th:only-of-type {\n",
       "        vertical-align: middle;\n",
       "    }\n",
       "\n",
       "    .dataframe tbody tr th {\n",
       "        vertical-align: top;\n",
       "    }\n",
       "\n",
       "    .dataframe thead th {\n",
       "        text-align: right;\n",
       "    }\n",
       "</style>\n",
       "<table border=\"1\" class=\"dataframe\">\n",
       "  <thead>\n",
       "    <tr style=\"text-align: right;\">\n",
       "      <th></th>\n",
       "      <th>item_idx</th>\n",
       "      <th>score</th>\n",
       "      <th>item_id</th>\n",
       "      <th>title</th>\n",
       "    </tr>\n",
       "  </thead>\n",
       "  <tbody>\n",
       "    <tr>\n",
       "      <th>0</th>\n",
       "      <td>8</td>\n",
       "      <td>1.000000</td>\n",
       "      <td>7763750328910542816</td>\n",
       "      <td>This Japanese Restaurant Is Decked out With Yakuza-Inspired Tattoo Art | Highsnobiety</td>\n",
       "    </tr>\n",
       "    <tr>\n",
       "      <th>1</th>\n",
       "      <td>8</td>\n",
       "      <td>1.000000</td>\n",
       "      <td>7763750328910542816</td>\n",
       "      <td>This Japanese Restaurant Is Decked out With Yakuza-Inspired Tattoo Art | Highsnobiety</td>\n",
       "    </tr>\n",
       "    <tr>\n",
       "      <th>2</th>\n",
       "      <td>8</td>\n",
       "      <td>1.000000</td>\n",
       "      <td>7763750328910542816</td>\n",
       "      <td>This Japanese Restaurant Is Decked out With Yakuza-Inspired Tattoo Art | Highsnobiety</td>\n",
       "    </tr>\n",
       "    <tr>\n",
       "      <th>3</th>\n",
       "      <td>8</td>\n",
       "      <td>1.000000</td>\n",
       "      <td>7763750328910542816</td>\n",
       "      <td>This Japanese Restaurant Is Decked out With Yakuza-Inspired Tattoo Art | Highsnobiety</td>\n",
       "    </tr>\n",
       "    <tr>\n",
       "      <th>4</th>\n",
       "      <td>8</td>\n",
       "      <td>1.000000</td>\n",
       "      <td>7763750328910542816</td>\n",
       "      <td>This Japanese Restaurant Is Decked out With Yakuza-Inspired Tattoo Art | Highsnobiety</td>\n",
       "    </tr>\n",
       "    <tr>\n",
       "      <th>...</th>\n",
       "      <td>...</td>\n",
       "      <td>...</td>\n",
       "      <td>...</td>\n",
       "      <td>...</td>\n",
       "    </tr>\n",
       "    <tr>\n",
       "      <th>318</th>\n",
       "      <td>1879</td>\n",
       "      <td>0.409625</td>\n",
       "      <td>-7484960773951920439</td>\n",
       "      <td>Mobile-Only Challenger Banks Are Shaping the Future of Financial Services Industry</td>\n",
       "    </tr>\n",
       "    <tr>\n",
       "      <th>319</th>\n",
       "      <td>1879</td>\n",
       "      <td>0.409625</td>\n",
       "      <td>-7484960773951920439</td>\n",
       "      <td>Mobile-Only Challenger Banks Are Shaping the Future of Financial Services Industry</td>\n",
       "    </tr>\n",
       "    <tr>\n",
       "      <th>320</th>\n",
       "      <td>1879</td>\n",
       "      <td>0.409625</td>\n",
       "      <td>-7484960773951920439</td>\n",
       "      <td>Mobile-Only Challenger Banks Are Shaping the Future of Financial Services Industry</td>\n",
       "    </tr>\n",
       "    <tr>\n",
       "      <th>321</th>\n",
       "      <td>1879</td>\n",
       "      <td>0.409625</td>\n",
       "      <td>-7484960773951920439</td>\n",
       "      <td>Mobile-Only Challenger Banks Are Shaping the Future of Financial Services Industry</td>\n",
       "    </tr>\n",
       "    <tr>\n",
       "      <th>322</th>\n",
       "      <td>1879</td>\n",
       "      <td>0.409625</td>\n",
       "      <td>-7484960773951920439</td>\n",
       "      <td>Mobile-Only Challenger Banks Are Shaping the Future of Financial Services Industry</td>\n",
       "    </tr>\n",
       "  </tbody>\n",
       "</table>\n",
       "<p>323 rows × 4 columns</p>\n",
       "</div>"
      ],
      "text/plain": [
       "     item_idx     score              item_id  \\\n",
       "0           8  1.000000  7763750328910542816   \n",
       "1           8  1.000000  7763750328910542816   \n",
       "2           8  1.000000  7763750328910542816   \n",
       "3           8  1.000000  7763750328910542816   \n",
       "4           8  1.000000  7763750328910542816   \n",
       "..        ...       ...                  ...   \n",
       "318      1879  0.409625 -7484960773951920439   \n",
       "319      1879  0.409625 -7484960773951920439   \n",
       "320      1879  0.409625 -7484960773951920439   \n",
       "321      1879  0.409625 -7484960773951920439   \n",
       "322      1879  0.409625 -7484960773951920439   \n",
       "\n",
       "                                                                                     title  \n",
       "0    This Japanese Restaurant Is Decked out With Yakuza-Inspired Tattoo Art | Highsnobiety  \n",
       "1    This Japanese Restaurant Is Decked out With Yakuza-Inspired Tattoo Art | Highsnobiety  \n",
       "2    This Japanese Restaurant Is Decked out With Yakuza-Inspired Tattoo Art | Highsnobiety  \n",
       "3    This Japanese Restaurant Is Decked out With Yakuza-Inspired Tattoo Art | Highsnobiety  \n",
       "4    This Japanese Restaurant Is Decked out With Yakuza-Inspired Tattoo Art | Highsnobiety  \n",
       "..                                                                                     ...  \n",
       "318     Mobile-Only Challenger Banks Are Shaping the Future of Financial Services Industry  \n",
       "319     Mobile-Only Challenger Banks Are Shaping the Future of Financial Services Industry  \n",
       "320     Mobile-Only Challenger Banks Are Shaping the Future of Financial Services Industry  \n",
       "321     Mobile-Only Challenger Banks Are Shaping the Future of Financial Services Industry  \n",
       "322     Mobile-Only Challenger Banks Are Shaping the Future of Financial Services Industry  \n",
       "\n",
       "[323 rows x 4 columns]"
      ]
     },
     "execution_count": 654,
     "metadata": {},
     "output_type": "execute_result"
    }
   ],
   "source": [
    "merged_article_title"
   ]
  },
  {
   "cell_type": "code",
   "execution_count": 655,
   "metadata": {},
   "outputs": [],
   "source": [
    "merged_article_title = merged_article_title.drop_duplicates(subset=None, keep='first', inplace=False) "
   ]
  },
  {
   "cell_type": "code",
   "execution_count": 656,
   "metadata": {},
   "outputs": [],
   "source": [
    "merged_article_title =merged_article_title[merged_article_title.title.notna()]"
   ]
  },
  {
   "cell_type": "code",
   "execution_count": 657,
   "metadata": {},
   "outputs": [
    {
     "data": {
      "text/html": [
       "<div>\n",
       "<style scoped>\n",
       "    .dataframe tbody tr th:only-of-type {\n",
       "        vertical-align: middle;\n",
       "    }\n",
       "\n",
       "    .dataframe tbody tr th {\n",
       "        vertical-align: top;\n",
       "    }\n",
       "\n",
       "    .dataframe thead th {\n",
       "        text-align: right;\n",
       "    }\n",
       "</style>\n",
       "<table border=\"1\" class=\"dataframe\">\n",
       "  <thead>\n",
       "    <tr style=\"text-align: right;\">\n",
       "      <th></th>\n",
       "      <th>item_idx</th>\n",
       "      <th>score</th>\n",
       "      <th>item_id</th>\n",
       "      <th>title</th>\n",
       "    </tr>\n",
       "  </thead>\n",
       "  <tbody>\n",
       "    <tr>\n",
       "      <th>0</th>\n",
       "      <td>8</td>\n",
       "      <td>1.000000</td>\n",
       "      <td>7763750328910542816</td>\n",
       "      <td>This Japanese Restaurant Is Decked out With Yakuza-Inspired Tattoo Art | Highsnobiety</td>\n",
       "    </tr>\n",
       "    <tr>\n",
       "      <th>8</th>\n",
       "      <td>32</td>\n",
       "      <td>0.497230</td>\n",
       "      <td>-2181071289972835602</td>\n",
       "      <td>Google cloud to OpenStack users: Come on in!</td>\n",
       "    </tr>\n",
       "    <tr>\n",
       "      <th>21</th>\n",
       "      <td>1418</td>\n",
       "      <td>0.468173</td>\n",
       "      <td>2495913984359439198</td>\n",
       "      <td>Android Mobile Vision restores operation and adds Text API | Android Developers Blog</td>\n",
       "    </tr>\n",
       "    <tr>\n",
       "      <th>53</th>\n",
       "      <td>1336</td>\n",
       "      <td>0.463622</td>\n",
       "      <td>2093656054622337275</td>\n",
       "      <td>Introducing the Google API Console</td>\n",
       "    </tr>\n",
       "    <tr>\n",
       "      <th>56</th>\n",
       "      <td>1100</td>\n",
       "      <td>0.461929</td>\n",
       "      <td>-4704033845097735448</td>\n",
       "      <td>Google Cloud collaborates with Kinvey for HIPAA-compliant mobile Backend-as-a-Service</td>\n",
       "    </tr>\n",
       "    <tr>\n",
       "      <th>61</th>\n",
       "      <td>665</td>\n",
       "      <td>0.460699</td>\n",
       "      <td>-1449104782233586994</td>\n",
       "      <td>Practical Frameworks for Beating Burnout</td>\n",
       "    </tr>\n",
       "    <tr>\n",
       "      <th>105</th>\n",
       "      <td>1437</td>\n",
       "      <td>0.436980</td>\n",
       "      <td>2966083692047828770</td>\n",
       "      <td>Test Driven Development by Example: Validation in Java</td>\n",
       "    </tr>\n",
       "    <tr>\n",
       "      <th>119</th>\n",
       "      <td>910</td>\n",
       "      <td>0.424293</td>\n",
       "      <td>-8445686000003509032</td>\n",
       "      <td>Proof of Individuality, the New-Age Security on Blockchain - NEWSBTC</td>\n",
       "    </tr>\n",
       "    <tr>\n",
       "      <th>120</th>\n",
       "      <td>1395</td>\n",
       "      <td>0.424141</td>\n",
       "      <td>8545647269051113523</td>\n",
       "      <td>Google's AI DeepMind Turns its Gaze to Hearthstone and Magic: The Gathering - IGN</td>\n",
       "    </tr>\n",
       "    <tr>\n",
       "      <th>122</th>\n",
       "      <td>827</td>\n",
       "      <td>0.423586</td>\n",
       "      <td>-4882849408937990337</td>\n",
       "      <td>Dogville (2003)</td>\n",
       "    </tr>\n",
       "  </tbody>\n",
       "</table>\n",
       "</div>"
      ],
      "text/plain": [
       "     item_idx     score              item_id  \\\n",
       "0           8  1.000000  7763750328910542816   \n",
       "8          32  0.497230 -2181071289972835602   \n",
       "21       1418  0.468173  2495913984359439198   \n",
       "53       1336  0.463622  2093656054622337275   \n",
       "56       1100  0.461929 -4704033845097735448   \n",
       "61        665  0.460699 -1449104782233586994   \n",
       "105      1437  0.436980  2966083692047828770   \n",
       "119       910  0.424293 -8445686000003509032   \n",
       "120      1395  0.424141  8545647269051113523   \n",
       "122       827  0.423586 -4882849408937990337   \n",
       "\n",
       "                                                                                     title  \n",
       "0    This Japanese Restaurant Is Decked out With Yakuza-Inspired Tattoo Art | Highsnobiety  \n",
       "8                                             Google cloud to OpenStack users: Come on in!  \n",
       "21    Android Mobile Vision restores operation and adds Text API | Android Developers Blog  \n",
       "53                                                      Introducing the Google API Console  \n",
       "56   Google Cloud collaborates with Kinvey for HIPAA-compliant mobile Backend-as-a-Service  \n",
       "61                                                Practical Frameworks for Beating Burnout  \n",
       "105                                 Test Driven Development by Example: Validation in Java  \n",
       "119                   Proof of Individuality, the New-Age Security on Blockchain - NEWSBTC  \n",
       "120      Google's AI DeepMind Turns its Gaze to Hearthstone and Magic: The Gathering - IGN  \n",
       "122                                                                        Dogville (2003)  "
      ]
     },
     "execution_count": 657,
     "metadata": {},
     "output_type": "execute_result"
    }
   ],
   "source": [
    "merged_article_title.head(10)"
   ]
  },
  {
   "cell_type": "markdown",
   "metadata": {},
   "source": [
    "## ALS item based recommendation model"
   ]
  },
  {
   "cell_type": "code",
   "execution_count": 658,
   "metadata": {},
   "outputs": [],
   "source": [
    "def als_item(item): #als_item function\n",
    "    item_id = item_dict[item]\n",
    "    n_similar = 10\n",
    "    similar = model.similar_items(item_id, n_similar)\n",
    "    similar_df = pd.DataFrame(similar, columns=['item_idx', 'score'])\n",
    "    \n",
    "    #merged dataframe\n",
    "    merged=pd.merge(similar_df,consumer_all_detail[['item_id','item_idx']],on='item_idx', how='left')\n",
    "    merged_user_title=pd.merge(merged,platform_content_en[['item_id','title']],on='item_id', how='left')\n",
    "    \n",
    "    #drop duplicates and NA records\n",
    "    als_item_df = merged_user_title.drop_duplicates(subset=None, keep='first', inplace=False) \n",
    "    als_item_df = als_item_df[als_item_df.title.notna()]\n",
    "    \n",
    "    #normalized score\n",
    "    als_item_df['als_item_score_normalized'] = (als_item_df['score']-min(als_item_df['score'])) / (max(als_item_df['score']) - min(als_item_df['score']))\n",
    "    return als_item_df\n",
    "    "
   ]
  },
  {
   "cell_type": "code",
   "execution_count": 659,
   "metadata": {},
   "outputs": [
    {
     "name": "stdout",
     "output_type": "stream",
     "text": [
      "ALS MODEL given article id\n"
     ]
    },
    {
     "data": {
      "text/html": [
       "<div>\n",
       "<style scoped>\n",
       "    .dataframe tbody tr th:only-of-type {\n",
       "        vertical-align: middle;\n",
       "    }\n",
       "\n",
       "    .dataframe tbody tr th {\n",
       "        vertical-align: top;\n",
       "    }\n",
       "\n",
       "    .dataframe thead th {\n",
       "        text-align: right;\n",
       "    }\n",
       "</style>\n",
       "<table border=\"1\" class=\"dataframe\">\n",
       "  <thead>\n",
       "    <tr style=\"text-align: right;\">\n",
       "      <th></th>\n",
       "      <th>item_id</th>\n",
       "      <th>title</th>\n",
       "    </tr>\n",
       "  </thead>\n",
       "  <tbody>\n",
       "    <tr>\n",
       "      <th>0</th>\n",
       "      <td>-6941221957775073810</td>\n",
       "      <td>Amazon now has a programmable Dash Button for the IoT</td>\n",
       "    </tr>\n",
       "    <tr>\n",
       "      <th>21</th>\n",
       "      <td>-8277924497842156608</td>\n",
       "      <td>GitHub on BigQuery: Analyze all the open source code</td>\n",
       "    </tr>\n",
       "    <tr>\n",
       "      <th>44</th>\n",
       "      <td>-8950763842769120954</td>\n",
       "      <td>Mobify report reveals impact of mobile website speed</td>\n",
       "    </tr>\n",
       "    <tr>\n",
       "      <th>95</th>\n",
       "      <td>-1033806831489252007</td>\n",
       "      <td>React Native v0.32.0-rc.0 released</td>\n",
       "    </tr>\n",
       "    <tr>\n",
       "      <th>116</th>\n",
       "      <td>6519443272707698315</td>\n",
       "      <td>Two Different Sales Motions . . . .</td>\n",
       "    </tr>\n",
       "    <tr>\n",
       "      <th>174</th>\n",
       "      <td>-6752460077509522132</td>\n",
       "      <td>LendingRobot Lets You Monitor Your Portfolio Performance On Prosper, Lending Club, And Funding C...</td>\n",
       "    </tr>\n",
       "    <tr>\n",
       "      <th>186</th>\n",
       "      <td>-7002558676365724983</td>\n",
       "      <td>Building a digital-banking business</td>\n",
       "    </tr>\n",
       "    <tr>\n",
       "      <th>190</th>\n",
       "      <td>1592600391233958243</td>\n",
       "      <td>A Harvard Psychologist Says This Trait Matters Most: 10 Ways to Make a Great First Impression</td>\n",
       "    </tr>\n",
       "    <tr>\n",
       "      <th>204</th>\n",
       "      <td>-4027027091658759481</td>\n",
       "      <td>How I sped up the initial render of my Polymer app by 86%</td>\n",
       "    </tr>\n",
       "  </tbody>\n",
       "</table>\n",
       "</div>"
      ],
      "text/plain": [
       "                 item_id  \\\n",
       "0   -6941221957775073810   \n",
       "21  -8277924497842156608   \n",
       "44  -8950763842769120954   \n",
       "95  -1033806831489252007   \n",
       "116  6519443272707698315   \n",
       "174 -6752460077509522132   \n",
       "186 -7002558676365724983   \n",
       "190  1592600391233958243   \n",
       "204 -4027027091658759481   \n",
       "\n",
       "                                                                                                   title  \n",
       "0                                                  Amazon now has a programmable Dash Button for the IoT  \n",
       "21                                                  GitHub on BigQuery: Analyze all the open source code  \n",
       "44                                                  Mobify report reveals impact of mobile website speed  \n",
       "95                                                                    React Native v0.32.0-rc.0 released  \n",
       "116                                                                  Two Different Sales Motions . . . .  \n",
       "174  LendingRobot Lets You Monitor Your Portfolio Performance On Prosper, Lending Club, And Funding C...  \n",
       "186                                                                  Building a digital-banking business  \n",
       "190        A Harvard Psychologist Says This Trait Matters Most: 10 Ways to Make a Great First Impression  \n",
       "204                                            How I sped up the initial render of my Polymer app by 86%  "
      ]
     },
     "execution_count": 659,
     "metadata": {},
     "output_type": "execute_result"
    }
   ],
   "source": [
    "print(\"ALS MODEL given article id\")\n",
    "als_item_df=als_item(-6941221957775073810)\n",
    "top10=als_item_df.head(10)\n",
    "top10[['item_id','title']]"
   ]
  },
  {
   "cell_type": "code",
   "execution_count": null,
   "metadata": {},
   "outputs": [],
   "source": []
  },
  {
   "cell_type": "code",
   "execution_count": null,
   "metadata": {},
   "outputs": [],
   "source": []
  },
  {
   "cell_type": "markdown",
   "metadata": {},
   "source": [
    "# Hybrid: Combine content filtering and item based collaborative filtering"
   ]
  },
  {
   "cell_type": "code",
   "execution_count": 660,
   "metadata": {},
   "outputs": [],
   "source": [
    "def hybrid_content_x_item_collab(item_id): #created a func for content and item based collaboration recommendation\n",
    "    item_df=item_based_recommendation(item_id)\n",
    "    content_df=content_based_filtering(item_id)\n",
    "    hybrid_output = pd.merge(item_df,content_df, how='left', on='title', suffixes=('_item', '_content'))\n",
    "    \n",
    "    #weighted score calculation\n",
    "    hybrid_output['final_score'] = (hybrid_output['item_score_normalized'] + hybrid_output['content_score_normalized'])/2\n",
    "    hybrid_output = hybrid_output[['item_id_item','title','final_score']]\n",
    "    \n",
    "    #remove duplicates by keeping first original rows\n",
    "    hybrid_output = hybrid_output.drop_duplicates(subset=None, keep='first', inplace=False) \n",
    "    hybrid_output.sort_values(by='final_score', ascending=False,inplace=True)\n",
    "    top10=hybrid_output[['item_id_item','title']]\n",
    "    return top10.head(10)"
   ]
  },
  {
   "cell_type": "code",
   "execution_count": 661,
   "metadata": {},
   "outputs": [
    {
     "data": {
      "text/html": [
       "<div>\n",
       "<style scoped>\n",
       "    .dataframe tbody tr th:only-of-type {\n",
       "        vertical-align: middle;\n",
       "    }\n",
       "\n",
       "    .dataframe tbody tr th {\n",
       "        vertical-align: top;\n",
       "    }\n",
       "\n",
       "    .dataframe thead th {\n",
       "        text-align: right;\n",
       "    }\n",
       "</style>\n",
       "<table border=\"1\" class=\"dataframe\">\n",
       "  <thead>\n",
       "    <tr style=\"text-align: right;\">\n",
       "      <th></th>\n",
       "      <th>event_timestamp</th>\n",
       "      <th>interaction_type</th>\n",
       "      <th>item_id</th>\n",
       "      <th>producer_id</th>\n",
       "      <th>producer_session_id</th>\n",
       "      <th>producer_device_info</th>\n",
       "      <th>producer_location</th>\n",
       "      <th>producer_country</th>\n",
       "      <th>item_type</th>\n",
       "      <th>item_url</th>\n",
       "      <th>title</th>\n",
       "      <th>text_description</th>\n",
       "      <th>language</th>\n",
       "    </tr>\n",
       "  </thead>\n",
       "  <tbody>\n",
       "    <tr>\n",
       "      <th>1327</th>\n",
       "      <td>1465504801</td>\n",
       "      <td>content_present</td>\n",
       "      <td>6377566860234930618</td>\n",
       "      <td>-5527145562136413747</td>\n",
       "      <td>2423419515231651761</td>\n",
       "      <td>NaN</td>\n",
       "      <td>NaN</td>\n",
       "      <td>NaN</td>\n",
       "      <td>HTML</td>\n",
       "      <td>http://www.inc.com/guides/201102/how-to-create-a-unified-corporate-culture.html</td>\n",
       "      <td>How to Create a Unified Culture in a Company With Multiple Offices</td>\n",
       "      <td>What makes your company unique? Whether your company employs three people or three hundred peopl...</td>\n",
       "      <td>en</td>\n",
       "    </tr>\n",
       "  </tbody>\n",
       "</table>\n",
       "</div>"
      ],
      "text/plain": [
       "      event_timestamp interaction_type              item_id  \\\n",
       "1327       1465504801  content_present  6377566860234930618   \n",
       "\n",
       "              producer_id  producer_session_id producer_device_info  \\\n",
       "1327 -5527145562136413747  2423419515231651761                  NaN   \n",
       "\n",
       "     producer_location producer_country item_type  \\\n",
       "1327               NaN              NaN      HTML   \n",
       "\n",
       "                                                                             item_url  \\\n",
       "1327  http://www.inc.com/guides/201102/how-to-create-a-unified-corporate-culture.html   \n",
       "\n",
       "                                                                   title  \\\n",
       "1327  How to Create a Unified Culture in a Company With Multiple Offices   \n",
       "\n",
       "                                                                                         text_description  \\\n",
       "1327  What makes your company unique? Whether your company employs three people or three hundred peopl...   \n",
       "\n",
       "     language  \n",
       "1327       en  "
      ]
     },
     "execution_count": 661,
     "metadata": {},
     "output_type": "execute_result"
    }
   ],
   "source": [
    "platform_content_df[platform_content_df.item_id==6377566860234930618]"
   ]
  },
  {
   "cell_type": "code",
   "execution_count": 662,
   "metadata": {},
   "outputs": [
    {
     "data": {
      "text/html": [
       "<div>\n",
       "<style scoped>\n",
       "    .dataframe tbody tr th:only-of-type {\n",
       "        vertical-align: middle;\n",
       "    }\n",
       "\n",
       "    .dataframe tbody tr th {\n",
       "        vertical-align: top;\n",
       "    }\n",
       "\n",
       "    .dataframe thead th {\n",
       "        text-align: right;\n",
       "    }\n",
       "</style>\n",
       "<table border=\"1\" class=\"dataframe\">\n",
       "  <thead>\n",
       "    <tr style=\"text-align: right;\">\n",
       "      <th></th>\n",
       "      <th>item_id_item</th>\n",
       "      <th>title</th>\n",
       "    </tr>\n",
       "  </thead>\n",
       "  <tbody>\n",
       "    <tr>\n",
       "      <th>0</th>\n",
       "      <td>6377566860234930618</td>\n",
       "      <td>How to Create a Unified Culture in a Company With Multiple Offices</td>\n",
       "    </tr>\n",
       "    <tr>\n",
       "      <th>1</th>\n",
       "      <td>2602738827388230683</td>\n",
       "      <td>Apple is working on an AI system that wipes the floor with Google and everyone else</td>\n",
       "    </tr>\n",
       "    <tr>\n",
       "      <th>2</th>\n",
       "      <td>7395435905985567130</td>\n",
       "      <td>The AI business landscape</td>\n",
       "    </tr>\n",
       "    <tr>\n",
       "      <th>5</th>\n",
       "      <td>-1901742495252324928</td>\n",
       "      <td>Designing smart notifications</td>\n",
       "    </tr>\n",
       "    <tr>\n",
       "      <th>236</th>\n",
       "      <td>-5238066650780855302</td>\n",
       "      <td>Ahead of the curve: The future of performance management</td>\n",
       "    </tr>\n",
       "    <tr>\n",
       "      <th>3</th>\n",
       "      <td>-1625815289565836489</td>\n",
       "      <td>Google's OnHub router finally gets some smart home features via IFTTT</td>\n",
       "    </tr>\n",
       "    <tr>\n",
       "      <th>4</th>\n",
       "      <td>-450825503558460924</td>\n",
       "      <td>Tetra Pak Cheese and Powder Systems acquires Laude</td>\n",
       "    </tr>\n",
       "    <tr>\n",
       "      <th>1777</th>\n",
       "      <td>7424795099560672335</td>\n",
       "      <td>7 Tips to Create a Company Learning Culture like Google - Without Resources</td>\n",
       "    </tr>\n",
       "    <tr>\n",
       "      <th>7</th>\n",
       "      <td>5834671664627894569</td>\n",
       "      <td>Slack raises $200m at $3.8b valuation for business messaging</td>\n",
       "    </tr>\n",
       "    <tr>\n",
       "      <th>6</th>\n",
       "      <td>3256054536066714292</td>\n",
       "      <td>Google moves to replace Flash with HTML5</td>\n",
       "    </tr>\n",
       "  </tbody>\n",
       "</table>\n",
       "</div>"
      ],
      "text/plain": [
       "             item_id_item  \\\n",
       "0     6377566860234930618   \n",
       "1     2602738827388230683   \n",
       "2     7395435905985567130   \n",
       "5    -1901742495252324928   \n",
       "236  -5238066650780855302   \n",
       "3    -1625815289565836489   \n",
       "4     -450825503558460924   \n",
       "1777  7424795099560672335   \n",
       "7     5834671664627894569   \n",
       "6     3256054536066714292   \n",
       "\n",
       "                                                                                    title  \n",
       "0                      How to Create a Unified Culture in a Company With Multiple Offices  \n",
       "1     Apple is working on an AI system that wipes the floor with Google and everyone else  \n",
       "2                                                               The AI business landscape  \n",
       "5                                                           Designing smart notifications  \n",
       "236                              Ahead of the curve: The future of performance management  \n",
       "3                   Google's OnHub router finally gets some smart home features via IFTTT  \n",
       "4                                      Tetra Pak Cheese and Powder Systems acquires Laude  \n",
       "1777          7 Tips to Create a Company Learning Culture like Google - Without Resources  \n",
       "7                            Slack raises $200m at $3.8b valuation for business messaging  \n",
       "6                                                Google moves to replace Flash with HTML5  "
      ]
     },
     "execution_count": 662,
     "metadata": {},
     "output_type": "execute_result"
    }
   ],
   "source": [
    "hybrid_content_x_item_collab(6377566860234930618)"
   ]
  },
  {
   "cell_type": "code",
   "execution_count": null,
   "metadata": {},
   "outputs": [],
   "source": []
  },
  {
   "cell_type": "markdown",
   "metadata": {},
   "source": [
    "# Hybrid: Combine content filtering and als item recommendation"
   ]
  },
  {
   "cell_type": "code",
   "execution_count": 663,
   "metadata": {},
   "outputs": [],
   "source": [
    "def hybrid_content_x_als_item(item_id): #created a func for content and als item based recommendation\n",
    "    item_df=als_item(item_id)\n",
    "    content_df=content_based_filtering(item_id)\n",
    "    hybrid_output = pd.merge(item_df,content_df, how='left', on='title', suffixes=('_item', '_content'))\n",
    "    \n",
    "    #weighted score calculation\n",
    "    hybrid_output['final_score'] = (hybrid_output['als_item_score_normalized'] + hybrid_output['content_score_normalized'])/2\n",
    "    hybrid_output = hybrid_output[['item_id_item','title','final_score']]\n",
    "    \n",
    "    #remove duplicates by keeping first original rows\n",
    "    hybrid_output = hybrid_output.drop_duplicates(subset=None, keep='first', inplace=False) \n",
    "    hybrid_output.sort_values(by='final_score', ascending=False,inplace=True)\n",
    "    top10=hybrid_output[['item_id_item','title']]\n",
    "    return top10.head(10)"
   ]
  },
  {
   "cell_type": "code",
   "execution_count": 664,
   "metadata": {},
   "outputs": [
    {
     "data": {
      "text/html": [
       "<div>\n",
       "<style scoped>\n",
       "    .dataframe tbody tr th:only-of-type {\n",
       "        vertical-align: middle;\n",
       "    }\n",
       "\n",
       "    .dataframe tbody tr th {\n",
       "        vertical-align: top;\n",
       "    }\n",
       "\n",
       "    .dataframe thead th {\n",
       "        text-align: right;\n",
       "    }\n",
       "</style>\n",
       "<table border=\"1\" class=\"dataframe\">\n",
       "  <thead>\n",
       "    <tr style=\"text-align: right;\">\n",
       "      <th></th>\n",
       "      <th>item_id_item</th>\n",
       "      <th>title</th>\n",
       "    </tr>\n",
       "  </thead>\n",
       "  <tbody>\n",
       "    <tr>\n",
       "      <th>0</th>\n",
       "      <td>6377566860234930618</td>\n",
       "      <td>How to Create a Unified Culture in a Company With Multiple Offices</td>\n",
       "    </tr>\n",
       "    <tr>\n",
       "      <th>1</th>\n",
       "      <td>6793894801847439981</td>\n",
       "      <td>Why Thieves Steal Soap</td>\n",
       "    </tr>\n",
       "    <tr>\n",
       "      <th>2</th>\n",
       "      <td>-8009527121402763559</td>\n",
       "      <td>Artificial Intelligence's White Guy Problem</td>\n",
       "    </tr>\n",
       "    <tr>\n",
       "      <th>4</th>\n",
       "      <td>2885511262558254418</td>\n",
       "      <td>Microsoft is taking its cues from Facebook as it totally shakes up Office</td>\n",
       "    </tr>\n",
       "    <tr>\n",
       "      <th>3</th>\n",
       "      <td>5589105207760786822</td>\n",
       "      <td>'Hyper-Reality' Is a Psychedelic Glimpse of Our Future on Digital Overload</td>\n",
       "    </tr>\n",
       "    <tr>\n",
       "      <th>5</th>\n",
       "      <td>7400247075626691905</td>\n",
       "      <td>Google may unveil Android VR headset at I/O conference</td>\n",
       "    </tr>\n",
       "    <tr>\n",
       "      <th>6</th>\n",
       "      <td>7488370990373644128</td>\n",
       "      <td>This motorized wheel adds electric power to your bike</td>\n",
       "    </tr>\n",
       "  </tbody>\n",
       "</table>\n",
       "</div>"
      ],
      "text/plain": [
       "          item_id_item  \\\n",
       "0  6377566860234930618   \n",
       "1  6793894801847439981   \n",
       "2 -8009527121402763559   \n",
       "4  2885511262558254418   \n",
       "3  5589105207760786822   \n",
       "5  7400247075626691905   \n",
       "6  7488370990373644128   \n",
       "\n",
       "                                                                        title  \n",
       "0          How to Create a Unified Culture in a Company With Multiple Offices  \n",
       "1                                                      Why Thieves Steal Soap  \n",
       "2                                 Artificial Intelligence's White Guy Problem  \n",
       "4   Microsoft is taking its cues from Facebook as it totally shakes up Office  \n",
       "3  'Hyper-Reality' Is a Psychedelic Glimpse of Our Future on Digital Overload  \n",
       "5                      Google may unveil Android VR headset at I/O conference  \n",
       "6                       This motorized wheel adds electric power to your bike  "
      ]
     },
     "execution_count": 664,
     "metadata": {},
     "output_type": "execute_result"
    }
   ],
   "source": [
    "hybrid_content_x_als_item(6377566860234930618)"
   ]
  },
  {
   "cell_type": "code",
   "execution_count": 665,
   "metadata": {},
   "outputs": [
    {
     "data": {
      "text/html": [
       "<div>\n",
       "<style scoped>\n",
       "    .dataframe tbody tr th:only-of-type {\n",
       "        vertical-align: middle;\n",
       "    }\n",
       "\n",
       "    .dataframe tbody tr th {\n",
       "        vertical-align: top;\n",
       "    }\n",
       "\n",
       "    .dataframe thead th {\n",
       "        text-align: right;\n",
       "    }\n",
       "</style>\n",
       "<table border=\"1\" class=\"dataframe\">\n",
       "  <thead>\n",
       "    <tr style=\"text-align: right;\">\n",
       "      <th></th>\n",
       "      <th>event_timestamp</th>\n",
       "      <th>interaction_type</th>\n",
       "      <th>item_id</th>\n",
       "      <th>producer_id</th>\n",
       "      <th>producer_session_id</th>\n",
       "      <th>producer_device_info</th>\n",
       "      <th>producer_location</th>\n",
       "      <th>producer_country</th>\n",
       "      <th>item_type</th>\n",
       "      <th>item_url</th>\n",
       "      <th>title</th>\n",
       "      <th>text_description</th>\n",
       "      <th>language</th>\n",
       "    </tr>\n",
       "  </thead>\n",
       "  <tbody>\n",
       "    <tr>\n",
       "      <th>1</th>\n",
       "      <td>1459193988</td>\n",
       "      <td>content_present</td>\n",
       "      <td>-4110354420726924665</td>\n",
       "      <td>4340306774493623681</td>\n",
       "      <td>8940341205206233829</td>\n",
       "      <td>NaN</td>\n",
       "      <td>NaN</td>\n",
       "      <td>NaN</td>\n",
       "      <td>HTML</td>\n",
       "      <td>http://www.nytimes.com/2016/03/28/business/dealbook/ethereum-a-virtual-currency-enables-transact...</td>\n",
       "      <td>Ethereum, a Virtual Currency, Enables Transactions That Rival Bitcoin's</td>\n",
       "      <td>All of this work is still very early. The first full public version of the Ethereum software was...</td>\n",
       "      <td>en</td>\n",
       "    </tr>\n",
       "  </tbody>\n",
       "</table>\n",
       "</div>"
      ],
      "text/plain": [
       "   event_timestamp interaction_type              item_id          producer_id  \\\n",
       "1       1459193988  content_present -4110354420726924665  4340306774493623681   \n",
       "\n",
       "   producer_session_id producer_device_info producer_location  \\\n",
       "1  8940341205206233829                  NaN               NaN   \n",
       "\n",
       "  producer_country item_type  \\\n",
       "1              NaN      HTML   \n",
       "\n",
       "                                                                                              item_url  \\\n",
       "1  http://www.nytimes.com/2016/03/28/business/dealbook/ethereum-a-virtual-currency-enables-transact...   \n",
       "\n",
       "                                                                     title  \\\n",
       "1  Ethereum, a Virtual Currency, Enables Transactions That Rival Bitcoin's   \n",
       "\n",
       "                                                                                      text_description  \\\n",
       "1  All of this work is still very early. The first full public version of the Ethereum software was...   \n",
       "\n",
       "  language  \n",
       "1       en  "
      ]
     },
     "execution_count": 665,
     "metadata": {},
     "output_type": "execute_result"
    }
   ],
   "source": [
    "platform_content_df[platform_content_df.item_id==-4110354420726924665]"
   ]
  },
  {
   "cell_type": "code",
   "execution_count": 666,
   "metadata": {},
   "outputs": [
    {
     "data": {
      "text/html": [
       "<div>\n",
       "<style scoped>\n",
       "    .dataframe tbody tr th:only-of-type {\n",
       "        vertical-align: middle;\n",
       "    }\n",
       "\n",
       "    .dataframe tbody tr th {\n",
       "        vertical-align: top;\n",
       "    }\n",
       "\n",
       "    .dataframe thead th {\n",
       "        text-align: right;\n",
       "    }\n",
       "</style>\n",
       "<table border=\"1\" class=\"dataframe\">\n",
       "  <thead>\n",
       "    <tr style=\"text-align: right;\">\n",
       "      <th></th>\n",
       "      <th>item_id_item</th>\n",
       "      <th>title</th>\n",
       "    </tr>\n",
       "  </thead>\n",
       "  <tbody>\n",
       "    <tr>\n",
       "      <th>0</th>\n",
       "      <td>-4110354420726924665</td>\n",
       "      <td>Ethereum, a Virtual Currency, Enables Transactions That Rival Bitcoin's</td>\n",
       "    </tr>\n",
       "    <tr>\n",
       "      <th>1</th>\n",
       "      <td>-2826566343807132236</td>\n",
       "      <td>IEEE to Talk Blockchain at Cloud Computing Oxford-Con - CoinDesk</td>\n",
       "    </tr>\n",
       "    <tr>\n",
       "      <th>2</th>\n",
       "      <td>-5405021817466310759</td>\n",
       "      <td>Why 5 is the magic number for UX usability testing</td>\n",
       "    </tr>\n",
       "    <tr>\n",
       "      <th>3</th>\n",
       "      <td>8483892789913825147</td>\n",
       "      <td>Cookbook</td>\n",
       "    </tr>\n",
       "    <tr>\n",
       "      <th>4</th>\n",
       "      <td>-1596335233529956315</td>\n",
       "      <td>Why Kubernetes may be a bigger threat to Amazon than Google's cloud - TechRepublic</td>\n",
       "    </tr>\n",
       "  </tbody>\n",
       "</table>\n",
       "</div>"
      ],
      "text/plain": [
       "          item_id_item  \\\n",
       "0 -4110354420726924665   \n",
       "1 -2826566343807132236   \n",
       "2 -5405021817466310759   \n",
       "3  8483892789913825147   \n",
       "4 -1596335233529956315   \n",
       "\n",
       "                                                                                title  \n",
       "0             Ethereum, a Virtual Currency, Enables Transactions That Rival Bitcoin's  \n",
       "1                    IEEE to Talk Blockchain at Cloud Computing Oxford-Con - CoinDesk  \n",
       "2                                  Why 5 is the magic number for UX usability testing  \n",
       "3                                                                            Cookbook  \n",
       "4  Why Kubernetes may be a bigger threat to Amazon than Google's cloud - TechRepublic  "
      ]
     },
     "execution_count": 666,
     "metadata": {},
     "output_type": "execute_result"
    }
   ],
   "source": [
    "hybrid_content_x_als_item(-4110354420726924665)"
   ]
  },
  {
   "cell_type": "code",
   "execution_count": null,
   "metadata": {},
   "outputs": [],
   "source": []
  },
  {
   "cell_type": "markdown",
   "metadata": {},
   "source": [
    "# Hybrid: Combine item based and als item recommendation"
   ]
  },
  {
   "cell_type": "code",
   "execution_count": 667,
   "metadata": {},
   "outputs": [],
   "source": [
    "def hybrid_item_x_als_item(item_id): #created a func for item and als item based recommendation\n",
    "    item_df=item_based_recommendation(item_id)\n",
    "    als_item_df=als_item(item_id)\n",
    "    hybrid_output = pd.merge(item_df,als_item_df, how='left', on='title', suffixes=('_item', '_als_item'))\n",
    "    \n",
    "    #weighted score calculation\n",
    "    hybrid_output['final_score'] = (hybrid_output['als_item_score_normalized'] + hybrid_output['item_score_normalized'])/2\n",
    "    hybrid_output = hybrid_output[['item_id_item','title','final_score']]\n",
    "    \n",
    "    #remove duplicates by keeping first original rows\n",
    "    hybrid_output = hybrid_output.drop_duplicates(subset=None, keep='first', inplace=False) \n",
    "    hybrid_output.sort_values(by='final_score', ascending=False,inplace=True)\n",
    "    top10=hybrid_output[['item_id_item','title']]\n",
    "    return top10.head(10)"
   ]
  },
  {
   "cell_type": "code",
   "execution_count": 668,
   "metadata": {},
   "outputs": [
    {
     "data": {
      "text/html": [
       "<div>\n",
       "<style scoped>\n",
       "    .dataframe tbody tr th:only-of-type {\n",
       "        vertical-align: middle;\n",
       "    }\n",
       "\n",
       "    .dataframe tbody tr th {\n",
       "        vertical-align: top;\n",
       "    }\n",
       "\n",
       "    .dataframe thead th {\n",
       "        text-align: right;\n",
       "    }\n",
       "</style>\n",
       "<table border=\"1\" class=\"dataframe\">\n",
       "  <thead>\n",
       "    <tr style=\"text-align: right;\">\n",
       "      <th></th>\n",
       "      <th>item_id_item</th>\n",
       "      <th>title</th>\n",
       "    </tr>\n",
       "  </thead>\n",
       "  <tbody>\n",
       "    <tr>\n",
       "      <th>0</th>\n",
       "      <td>6377566860234930618</td>\n",
       "      <td>How to Create a Unified Culture in a Company With Multiple Offices</td>\n",
       "    </tr>\n",
       "    <tr>\n",
       "      <th>906</th>\n",
       "      <td>6793894801847439981</td>\n",
       "      <td>Why Thieves Steal Soap</td>\n",
       "    </tr>\n",
       "    <tr>\n",
       "      <th>322</th>\n",
       "      <td>-8009527121402763559</td>\n",
       "      <td>Artificial Intelligence's White Guy Problem</td>\n",
       "    </tr>\n",
       "    <tr>\n",
       "      <th>383</th>\n",
       "      <td>5589105207760786822</td>\n",
       "      <td>'Hyper-Reality' Is a Psychedelic Glimpse of Our Future on Digital Overload</td>\n",
       "    </tr>\n",
       "    <tr>\n",
       "      <th>955</th>\n",
       "      <td>2885511262558254418</td>\n",
       "      <td>Microsoft is taking its cues from Facebook as it totally shakes up Office</td>\n",
       "    </tr>\n",
       "    <tr>\n",
       "      <th>1069</th>\n",
       "      <td>7400247075626691905</td>\n",
       "      <td>Google may unveil Android VR headset at I/O conference</td>\n",
       "    </tr>\n",
       "    <tr>\n",
       "      <th>1764</th>\n",
       "      <td>7488370990373644128</td>\n",
       "      <td>This motorized wheel adds electric power to your bike</td>\n",
       "    </tr>\n",
       "    <tr>\n",
       "      <th>1</th>\n",
       "      <td>2602738827388230683</td>\n",
       "      <td>Apple is working on an AI system that wipes the floor with Google and everyone else</td>\n",
       "    </tr>\n",
       "    <tr>\n",
       "      <th>2</th>\n",
       "      <td>7395435905985567130</td>\n",
       "      <td>The AI business landscape</td>\n",
       "    </tr>\n",
       "    <tr>\n",
       "      <th>3</th>\n",
       "      <td>-1625815289565836489</td>\n",
       "      <td>Google's OnHub router finally gets some smart home features via IFTTT</td>\n",
       "    </tr>\n",
       "  </tbody>\n",
       "</table>\n",
       "</div>"
      ],
      "text/plain": [
       "             item_id_item  \\\n",
       "0     6377566860234930618   \n",
       "906   6793894801847439981   \n",
       "322  -8009527121402763559   \n",
       "383   5589105207760786822   \n",
       "955   2885511262558254418   \n",
       "1069  7400247075626691905   \n",
       "1764  7488370990373644128   \n",
       "1     2602738827388230683   \n",
       "2     7395435905985567130   \n",
       "3    -1625815289565836489   \n",
       "\n",
       "                                                                                    title  \n",
       "0                      How to Create a Unified Culture in a Company With Multiple Offices  \n",
       "906                                                                Why Thieves Steal Soap  \n",
       "322                                           Artificial Intelligence's White Guy Problem  \n",
       "383            'Hyper-Reality' Is a Psychedelic Glimpse of Our Future on Digital Overload  \n",
       "955             Microsoft is taking its cues from Facebook as it totally shakes up Office  \n",
       "1069                               Google may unveil Android VR headset at I/O conference  \n",
       "1764                                This motorized wheel adds electric power to your bike  \n",
       "1     Apple is working on an AI system that wipes the floor with Google and everyone else  \n",
       "2                                                               The AI business landscape  \n",
       "3                   Google's OnHub router finally gets some smart home features via IFTTT  "
      ]
     },
     "execution_count": 668,
     "metadata": {},
     "output_type": "execute_result"
    }
   ],
   "source": [
    "hybrid_item_x_als_item(6377566860234930618)"
   ]
  },
  {
   "cell_type": "markdown",
   "metadata": {},
   "source": [
    "# Hybrid: Combine user based and als user based recommendation"
   ]
  },
  {
   "cell_type": "code",
   "execution_count": 669,
   "metadata": {},
   "outputs": [],
   "source": [
    "def hybrid_user_x_als_user(user_id): #created a func for user and als user based recommendation\n",
    "    user_df=user_based_collaborative(user_id)\n",
    "    als_user_df=als_user(user_id)\n",
    "    hybrid_output = pd.merge(user_df,als_user_df, how='left', on='title', suffixes=('_user', '_als_user'))\n",
    "    \n",
    "    #weighted score calculation\n",
    "    hybrid_output['final_score'] = (hybrid_output['als_user_score_normalized'] + hybrid_output['user_score_normalized'])/2\n",
    "    hybrid_output = hybrid_output[['item_id_user','title','final_score']]\n",
    "    \n",
    "    #remove duplicates by keeping first original rows\n",
    "    hybrid_output = hybrid_output.drop_duplicates(subset=None, keep='first', inplace=False) \n",
    "    hybrid_output.sort_values(by='final_score', ascending=False,inplace=True)\n",
    "    top10=hybrid_output[['item_id_user','title']]\n",
    "    return top10.head(10)"
   ]
  },
  {
   "cell_type": "code",
   "execution_count": 670,
   "metadata": {},
   "outputs": [
    {
     "data": {
      "text/html": [
       "<div>\n",
       "<style scoped>\n",
       "    .dataframe tbody tr th:only-of-type {\n",
       "        vertical-align: middle;\n",
       "    }\n",
       "\n",
       "    .dataframe tbody tr th {\n",
       "        vertical-align: top;\n",
       "    }\n",
       "\n",
       "    .dataframe thead th {\n",
       "        text-align: right;\n",
       "    }\n",
       "</style>\n",
       "<table border=\"1\" class=\"dataframe\">\n",
       "  <thead>\n",
       "    <tr style=\"text-align: right;\">\n",
       "      <th></th>\n",
       "      <th>item_id_user</th>\n",
       "      <th>title</th>\n",
       "    </tr>\n",
       "  </thead>\n",
       "  <tbody>\n",
       "    <tr>\n",
       "      <th>0</th>\n",
       "      <td>-1.523691e+15</td>\n",
       "      <td>Measuring email effectiveness in retail banking</td>\n",
       "    </tr>\n",
       "    <tr>\n",
       "      <th>1</th>\n",
       "      <td>-2.871289e+15</td>\n",
       "      <td>Dilma Rousseff's Impeachment Isn't a Coup, It's a Cover-Up</td>\n",
       "    </tr>\n",
       "    <tr>\n",
       "      <th>2</th>\n",
       "      <td>-1.254907e+18</td>\n",
       "      <td>Enterprise developers look out: this week on Google Cloud Platform</td>\n",
       "    </tr>\n",
       "    <tr>\n",
       "      <th>3</th>\n",
       "      <td>1.024703e+16</td>\n",
       "      <td>[Tools] 12 Apps for Live-streaming Video</td>\n",
       "    </tr>\n",
       "    <tr>\n",
       "      <th>4</th>\n",
       "      <td>2.308074e+17</td>\n",
       "      <td>Ethereum Used for 'First' Paid Energy Trade Using Blockchain Tech - CoinDesk</td>\n",
       "    </tr>\n",
       "    <tr>\n",
       "      <th>5</th>\n",
       "      <td>-6.051144e+17</td>\n",
       "      <td>A sneak peek at Google's upcoming travel app, Trips</td>\n",
       "    </tr>\n",
       "    <tr>\n",
       "      <th>6</th>\n",
       "      <td>-1.151035e+18</td>\n",
       "      <td>New JavaScript library brings Java to browsers without applets</td>\n",
       "    </tr>\n",
       "    <tr>\n",
       "      <th>7</th>\n",
       "      <td>-1.150591e+18</td>\n",
       "      <td>Digitization and The Loss of Iconography - Posted by SYPartners</td>\n",
       "    </tr>\n",
       "    <tr>\n",
       "      <th>8</th>\n",
       "      <td>-9.033346e+18</td>\n",
       "      <td>Software Architecture Patterns</td>\n",
       "    </tr>\n",
       "    <tr>\n",
       "      <th>9</th>\n",
       "      <td>-1.975048e+17</td>\n",
       "      <td>Tom Brady: Business Guru. Who Knew?</td>\n",
       "    </tr>\n",
       "  </tbody>\n",
       "</table>\n",
       "</div>"
      ],
      "text/plain": [
       "   item_id_user  \\\n",
       "0 -1.523691e+15   \n",
       "1 -2.871289e+15   \n",
       "2 -1.254907e+18   \n",
       "3  1.024703e+16   \n",
       "4  2.308074e+17   \n",
       "5 -6.051144e+17   \n",
       "6 -1.151035e+18   \n",
       "7 -1.150591e+18   \n",
       "8 -9.033346e+18   \n",
       "9 -1.975048e+17   \n",
       "\n",
       "                                                                          title  \n",
       "0                               Measuring email effectiveness in retail banking  \n",
       "1                    Dilma Rousseff's Impeachment Isn't a Coup, It's a Cover-Up  \n",
       "2            Enterprise developers look out: this week on Google Cloud Platform  \n",
       "3                                      [Tools] 12 Apps for Live-streaming Video  \n",
       "4  Ethereum Used for 'First' Paid Energy Trade Using Blockchain Tech - CoinDesk  \n",
       "5                           A sneak peek at Google's upcoming travel app, Trips  \n",
       "6                New JavaScript library brings Java to browsers without applets  \n",
       "7               Digitization and The Loss of Iconography - Posted by SYPartners  \n",
       "8                                                Software Architecture Patterns  \n",
       "9                                           Tom Brady: Business Guru. Who Knew?  "
      ]
     },
     "execution_count": 670,
     "metadata": {},
     "output_type": "execute_result"
    }
   ],
   "source": [
    "hybrid_user_x_als_user(674947025087085832)"
   ]
  },
  {
   "cell_type": "markdown",
   "metadata": {},
   "source": [
    "\n",
    "## Evaluation techniques for recommendation models\n",
    "\n",
    "Statistical methods have already been discussed above.\n",
    "MAE, RMSE, Precision@10 and Recall@10 are the statistical methods for evaluation of recommendation models.\n",
    "\n",
    "Other methods include\n",
    "- feedback-loop - real time feed the model with latest data which user clicks. This is known as evaluation using click-through rate (CTR). The more user engages with the content, the better model can perform.\n",
    "- Another method is mean average precision (MAP) over the recommendation sets. This means, for each set of recommendations (typically ten), the average precision needs to calculated. For example, when two of ten recommendations are clicked, average precision is 0.2."
   ]
  },
  {
   "cell_type": "code",
   "execution_count": null,
   "metadata": {},
   "outputs": [],
   "source": []
  }
 ],
 "metadata": {
  "kernelspec": {
   "display_name": "Python 3",
   "language": "python",
   "name": "python3"
  },
  "language_info": {
   "codemirror_mode": {
    "name": "ipython",
    "version": 3
   },
   "file_extension": ".py",
   "mimetype": "text/x-python",
   "name": "python",
   "nbconvert_exporter": "python",
   "pygments_lexer": "ipython3",
   "version": "3.8.3"
  }
 },
 "nbformat": 4,
 "nbformat_minor": 4
}
